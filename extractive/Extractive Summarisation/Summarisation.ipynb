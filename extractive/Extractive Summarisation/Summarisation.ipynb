{
 "cells": [
  {
   "cell_type": "markdown",
   "metadata": {},
   "source": [
    "## Extractive Summerization"
   ]
  },
  {
   "cell_type": "code",
   "execution_count": 1,
   "metadata": {
    "collapsed": false
   },
   "outputs": [],
   "source": [
    "# import libraries\n",
    "from collections import Counter\n",
    "from itertools import combinations\n",
    "from math import sqrt\n",
    "import matplotlib.pyplot as plt\n",
    "import networkx as nx\n",
    "from nltk import word_tokenize, sent_tokenize, FreqDist,pos_tag\n",
    "from nltk.corpus import stopwords, wordnet as wn\n",
    "from nltk.tokenize import RegexpTokenizer\n",
    "from operator import itemgetter\n",
    "import re\n",
    "%matplotlib inline"
   ]
  },
  {
   "cell_type": "code",
   "execution_count": 2,
   "metadata": {
    "collapsed": true
   },
   "outputs": [],
   "source": [
    "# Convergence threshold is the maximum error in score convergence of TextRank\n",
    "CONVERGENCE_THRESHOLD = 0.0001"
   ]
  },
  {
   "cell_type": "code",
   "execution_count": 3,
   "metadata": {
    "collapsed": false
   },
   "outputs": [],
   "source": [
    "# set of all nouns\n",
    "NOUNS = {x.name().split('.', 1)[0] for x in wn.all_synsets('n')}"
   ]
  },
  {
   "cell_type": "code",
   "execution_count": 4,
   "metadata": {
    "collapsed": false
   },
   "outputs": [],
   "source": [
    "class Document():\n",
    "    '''\n",
    "    The master class for our Document Summerization module.\n",
    "    Incorporates all features related to Document\n",
    "    '''\n",
    "    \n",
    "    def __init__(self, document):\n",
    "        self.document = document\n",
    "        self.sents = sent_tokenize(self.document)\n",
    "        self.word_freq = FreqDist(clean(self.document))\n",
    "        self.graph = None\n",
    "        self.params = { 'thresh': 0.0\n",
    "            \n",
    "        }\n",
    "        \n",
    "                \n",
    "    def __str__(self):\n",
    "        return self.document\n",
    "    \n",
    "    \n",
    "    def statistical_sim(self, sent1, sent2):\n",
    "        '''\n",
    "        Statistical similarity between sentences\n",
    "        based on the cosine method\n",
    "        Returns: float (the cosine similarity b/w sent1 and sent2)\n",
    "        '''\n",
    "        sent_token1 = Counter(sent1)\n",
    "        sent_token2 = Counter(sent2)\n",
    "        \n",
    "        intxn = set(sent_token1) & set(sent_token2)\n",
    "        numerator = sum([sent_token1[x] * sent_token2[x] for x in intxn])\n",
    "        \n",
    "        mod1 = sum([sent_token1[x]**2 for x in sent_token1.keys()])\n",
    "        mod2 = sum([sent_token2[x]**2 for x in sent_token2.keys()])\n",
    "        denominator = sqrt(mod1)*sqrt(mod2)\n",
    "        \n",
    "        if not denominator:\n",
    "            return 0.0\n",
    "\n",
    "        return float(numerator)/denominator\n",
    "    \n",
    "    \n",
    "    def semantic_sim(self, sent1, sent2):\n",
    "        '''\n",
    "        A semantic similarity score between two sentences\n",
    "        based on WordNet\n",
    "        Returns: float (the semantic similarity measure)\n",
    "        '''\n",
    "        score = 0\n",
    "        sent1 = [word for word in sent1 if word in NOUNS]\n",
    "        sent2 = [word for word in sent2 if word in NOUNS]\n",
    "        for t1 in sent1:\n",
    "            for t2 in sent2:\n",
    "                score += semantic_score(t1,t2)\n",
    "        try:\n",
    "            return score/(len(sent1 + sent2))  \n",
    "        except:\n",
    "            return 10000\n",
    "    \n",
    "    \n",
    "    def construct_graph(self):\n",
    "        '''\n",
    "        Constructs the word similarity graph\n",
    "        '''\n",
    "        connected = []\n",
    "        for pair in combinations(self.sents, 2):\n",
    "            cpair = clean(pair[0]), clean(pair[1])\n",
    "            weight = self.statistical_sim(*cpair) + \\\n",
    "                     self.semantic_sim(*cpair)\n",
    "            connected.append((pair[0], pair[1], weight))\n",
    "        self.graph = draw_graph(connected, self.params['thresh'])    "
   ]
  },
  {
   "cell_type": "code",
   "execution_count": 38,
   "metadata": {
    "collapsed": false
   },
   "outputs": [],
   "source": [
    "# Utility functions\n",
    "def clean(sent):\n",
    "    '''\n",
    "    A utility function that returns a a list of words in a sentence\n",
    "    after cleaning it. Gets rid off uppper-case, punctuations, \n",
    "    stop words, etc.\n",
    "    Returns: list (a list of cleaned words in sentence)\n",
    "    '''\n",
    "    words =  sent.lower() \n",
    "    words = re.findall(r'\\w+', words,flags = re.UNICODE | re.LOCALE) \n",
    "    imp_words = filter(lambda x: x not in stopwords.words('english'), words)\n",
    "    return imp_words\n",
    "        \n",
    "def semantic_score(word1, word2):\n",
    "    '''\n",
    "    Semantic score between two words based on WordNet\n",
    "    Returns: float (the semantic score between word1 and word2)\n",
    "    '''\n",
    "    try:\n",
    "        w1 = wn.synset('%s.n.01'%(word1))\n",
    "        w2 = wn.synset('%s.n.01'%(word2))\n",
    "        return wn.path_similarity(w1,w2,simulate_root = False)\n",
    "    except:\n",
    "        return 0\n",
    "    \n",
    "def draw_graph(connected, thresh):\n",
    "    '''\n",
    "    Draws graph as per weights and puts edges if \n",
    "    weight exceed the given thresh\n",
    "    Returns: networkx Graph (nodes are sentences and edges\n",
    "             are statistical and semantic relationships)\n",
    "    '''\n",
    "    nodes = set([n1 for n1, n2, n3 in connected] + \\\n",
    "                [n2 for n1, n2, n3 in connected])\n",
    "    G=nx.Graph()\n",
    "    for node in nodes:\n",
    "        G.add_node(node)\n",
    "    for edge in connected:\n",
    "        if edge[2] > thresh:\n",
    "            G.add_edge(edge[0], edge[1],weight = edge[2])\n",
    "    plt.figure(figsize=(8,8))\n",
    "    pos = nx.spring_layout(G)\n",
    "    #nx.draw(G,node_color='#A0CBE2', edge_color='orange',width=1,with_labels=False)\n",
    "    #plt.show()\n",
    "    return G\n",
    "    \n",
    "def textrank_weighted(graph, initial_value=None, damping=0.85):\n",
    "    '''\n",
    "    Calculates PageRank for an undirected graph\n",
    "    Returns: A list of tuples representing sentences and respective\n",
    "    scores in descending order\n",
    "    '''\n",
    "    if initial_value == None: initial_value = 1.0 / len(graph.nodes())\n",
    "    scores = dict.fromkeys(graph.nodes(), initial_value)\n",
    "\n",
    "    iteration_quantity = 0\n",
    "    for iteration_number in xrange(100):\n",
    "        iteration_quantity += 1\n",
    "        convergence_achieved = 0\n",
    "        for i in graph.nodes():\n",
    "            rank = 1 - damping\n",
    "            for j in graph.neighbors(i):\n",
    "                neighbors_sum = sum([graph.get_edge_data(j, k)['weight'] for k in graph.neighbors(j)])\n",
    "                rank += damping * scores[j] * graph.get_edge_data(j, i)['weight'] / neighbors_sum\n",
    "\n",
    "            if abs(scores[i] - rank) <= CONVERGENCE_THRESHOLD:\n",
    "                convergence_achieved += 1\n",
    "\n",
    "            scores[i] = rank\n",
    "\n",
    "        if convergence_achieved == len(graph.nodes()):\n",
    "            break\n",
    "    return sorted(scores.items(), key=itemgetter(1), reverse=True)"
   ]
  },
  {
   "cell_type": "code",
   "execution_count": 39,
   "metadata": {
    "collapsed": true
   },
   "outputs": [],
   "source": [
    "s = '''\n",
    "burning tires tear gas and clashes with riot police the ugly scenes that come with workers strikes are all too familiar in france a country constantly trying to balance its culture of workers rights with a more efficient economy.\n",
    "such scenes are being played out across the country friday as unions have called for workers to step up protests that have for the past week crippled parts of france.\n",
    "employees of oil refineries nuclear power plants and some public transportation have left one in three gas stations dry forcing vehicles to search for well stocked stations and causing long lines at the pump.\n",
    "people are now hoarding gas worried that it may be some time until supply levels are back to normal.\n",
    "the workers are protesting a labor reform bill put forward by the government that will make it easier for companies to hire and fire employees.\n",
    "the governments argument is that the strict laws that make french workers among the best protected in the world leave companies in a difficult position where they cant take on new staff.\n",
    "french prime minister manuel valls told local media on thursday that he might be willing to modify some of the proposals giving hope to french people that the protests and fuel shortages may soon stop.\n",
    "but workers unions friday responded with a call to step up rallies and blockades demanding a complete withdrawal of the bill.\n",
    "we call for the continuation and intensification of protests a group of unions behind the protests said in a statement.\n",
    "the governments violent words its contempt for the social movement and its refusal to withdraw this bill reinforces our commitment it said.\n",
    "'''"
   ]
  },
  {
   "cell_type": "code",
   "execution_count": 191,
   "metadata": {
    "collapsed": false
   },
   "outputs": [
    {
     "name": "stdout",
     "output_type": "stream",
     "text": [
      "\n"
     ]
    }
   ],
   "source": [
    "data = '/home/meer/Documents/summarizer/mynz_jmi/rnn/twitter/tweet.txt'\n",
    "with open(data,\"r\") as fp:\n",
    "    s = fp.read()"
   ]
  },
  {
   "cell_type": "code",
   "execution_count": 196,
   "metadata": {
    "collapsed": false
   },
   "outputs": [],
   "source": [
    "l = [len(x) for x in s.split()]\n",
    "    "
   ]
  },
  {
   "cell_type": "code",
   "execution_count": 199,
   "metadata": {
    "collapsed": false
   },
   "outputs": [
    {
     "name": "stdout",
     "output_type": "stream",
     "text": [
      "[26, 26, 26, 26, 26, 26, 26, 26, 26, 26]\n"
     ]
    }
   ],
   "source": [
    "l.sort(reverse = True)\n",
    "print l[:10]"
   ]
  },
  {
   "cell_type": "code",
   "execution_count": 203,
   "metadata": {
    "collapsed": false
   },
   "outputs": [
    {
     "name": "stdout",
     "output_type": "stream",
     "text": [
      "2000\n"
     ]
    }
   ],
   "source": [
    "s = s[2000:4000]\n",
    "\n",
    "print len(s)"
   ]
  },
  {
   "cell_type": "code",
   "execution_count": 204,
   "metadata": {
    "collapsed": false
   },
   "outputs": [],
   "source": [
    "a = Document(s)"
   ]
  },
  {
   "cell_type": "code",
   "execution_count": 205,
   "metadata": {
    "collapsed": false
   },
   "outputs": [
    {
     "data": {
      "text/plain": [
       "<matplotlib.figure.Figure at 0x7fa39a9782d0>"
      ]
     },
     "metadata": {},
     "output_type": "display_data"
    }
   ],
   "source": [
    "a.construct_graph()"
   ]
  },
  {
   "cell_type": "code",
   "execution_count": 206,
   "metadata": {
    "collapsed": false
   },
   "outputs": [],
   "source": [
    "x = textrank_weighted(a.graph)"
   ]
  },
  {
   "cell_type": "code",
   "execution_count": 209,
   "metadata": {
    "collapsed": false
   },
   "outputs": [
    {
     "data": {
      "text/plain": [
       "[(\"Commend\\nRT @timesofindia: #ISRO successfully launches record 20 satellites from Sriharikota Live updates: https://t.co/IAxBFvFcRf https://t.co/3he\\nRT @Him2909: #ISRO 20 , @ArvindKejriwal https://t\\nRT @firstpost: #ISRO satellite launch: Success has become a way of life at Indias space agency https://t.co/caZYg9rkTm https://t.co/QFr3F5\\nRT @TrollywoodTamil: Trending on 5th place #VijayTheFilthOfCinema https://t.co/8fZ6120v4j\\nRT @NewsNationTV: With 20 satellites, #ISRO has beaten its previous record of placing 10 satellites in one go https://t.co/MDMX9ZQDyh https\\nRT @irkjain: #ModiTimes #ISRO's PSLV C-34 successfully injects Cartosat-2 &amp;19 other satellites into orbit https://t.co/LMRPf9cU12 https://t\\nIndia become the 3rd nation to launch 20 or more Satellites in a single mission #kudos #indianscientiest #ISRO @isro #Congratulations\\nRT @PIB_India: Watch #ISRO's PSLV C34 taking off with 20 satellites in a single mission including the Cartosat 2 series @isro https://t.co\\nRT @iamKavithaRao: All the best #ISRO #India @isro all set for a record 20 #satellites in a single mission from Sriharikota today at 9:26\\nRT @timesofindia: #ISRO successfully launches record 20 satellites from Sriharikota Live updates: https://t.co/IAxBFvFcRf https://t.co/3he\\nRT @iDKSingh: 2&amp; https://t.\",\n",
       "  1.8793933534229197),\n",
       " ('RT @KalrajMishra: Historical moment of joy &amp; pride as India became 3rd country to launch 20 or more satellites in a single mission.',\n",
       "  1.3398095117124726),\n",
       " ('RT @sudharsmiles: @sujivanr vaa vanthu mandi podu https://t.co/8sTFKr22yV @thalaaravint\\nRT @officeofssbadal: Stupendous achievement for #ISRO as record 20 satellites are launched from its Satish Dhawan Space Centre in Andhra Pr\\nA big achievement for #ISRO .',\n",
       "  1.3023717766128016),\n",
       " ('RT @skywalker1909: #ISRO creates history; successfully launches #PSLVC34 placing 20 satellites in a single launch.',\n",
       "  1.1977885075979366),\n",
       " ('https://t.co/axJKgUPPae\\nRT @SubhashishNandi: If #ISRO keeps launching satellites at this pace, soon',\n",
       "  1.0685909282045158),\n",
       " ('#Fincirc family congratulates you on this achievement.', 0.450376258720975),\n",
       " ('re behind this massive success.', 0.4139096292584283),\n",
       " ('Science FTW.', 0.34706237478461754)]"
      ]
     },
     "execution_count": 209,
     "metadata": {},
     "output_type": "execute_result"
    }
   ],
   "source": [
    "x[:10]"
   ]
  },
  {
   "cell_type": "code",
   "execution_count": 208,
   "metadata": {
    "collapsed": false
   },
   "outputs": [
    {
     "name": "stdout",
     "output_type": "stream",
     "text": [
      "------------\n",
      "168\n",
      "------------\n",
      "23\n",
      "------------\n",
      "36\n",
      "------------\n",
      "15\n",
      "------------\n",
      "12\n"
     ]
    }
   ],
   "source": [
    "text = []\n",
    "for i in x[:10]:\n",
    "    if len(i[0].split(' ')) > 10:\n",
    "        text.append(i[0])\n",
    "for i in text:\n",
    "    print '------------'\n",
    "    print len(i.split())"
   ]
  },
  {
   "cell_type": "code",
   "execution_count": 86,
   "metadata": {
    "collapsed": false
   },
   "outputs": [
    {
     "name": "stdout",
     "output_type": "stream",
     "text": [
      "Commend\n",
      "RT @timesofindia: #ISRO successfully launches record 20 satellites from Sriharikota Live updates: https://t.co/IAxBFvFcRf https://t.co/3he\n",
      "RT @Him2909: #ISRO 20 , @ArvindKejriwal https://t\n",
      "RT @firstpost: #ISRO satellite launch: Success has become a way of life at Indias space agency https://t.co/caZYg9rkTm https://t.co/QFr3F5\n",
      "RT @TrollywoodTamil: Trending on 5th place #VijayTheFilthOfCinema https://t.co/8fZ6120v4j\n",
      "RT @NewsNationTV: With 20 satellites, #ISRO has beaten its previous record of placing 10 satellites in one go https://t.co/MDMX9ZQDyh https\n",
      "RT @irkjain: #ModiTimes #ISRO's PSLV C-34 successfully injects Cartosat-2 &amp;19 other satellites into orbit https://t.co/LMRPf9cU12 https://t\n",
      "India become the 3rd nation to launch 20 or more Satellites in a single mission #kudos #indianscientiest #ISRO @isro #Congratulations\n",
      "RT @PIB_India: Watch #ISRO's PSLV C34 taking off with 20 satellites in a single mission including the Cartosat 2 series @isro https://t.co\n",
      "RT @iamKavithaRao: All the best #ISRO #India @isro all set for a record 20 #satellites in a single mission from Sriharikota today at 9:26\n",
      "RT @timesofindia: #ISRO successfully launches record 20 satellites from Sriharikota Live updates: https://t.co/IAxBFvFcRf https://t.co/3he\n",
      "RT @iDKSingh: 2&amp; https://t.\n",
      "RT @KalrajMishra: Historical moment of joy &amp; pride as India became 3rd country to launch 20 or more satellites in a single mission.\n",
      "RT @sudharsmiles: @sujivanr vaa vanthu mandi podu https://t.co/8sTFKr22yV @thalaaravint\n",
      "RT @officeofssbadal: Stupendous achievement for #ISRO as record 20 satellites are launched from its Satish Dhawan Space Centre in Andhra Pr\n",
      "A big achievement for #ISRO .\n",
      "RT @skywalker1909: #ISRO creates history; successfully launches #PSLVC34 placing 20 satellites in a single launch.\n",
      "https://t.co/axJKgUPPae\n",
      "RT @SubhashishNandi: If #ISRO keeps launching satellites at this pace, soon\n"
     ]
    }
   ],
   "source": [
    "s = '\\n'.join(text)\n",
    "print s"
   ]
  },
  {
   "cell_type": "code",
   "execution_count": 87,
   "metadata": {
    "collapsed": false
   },
   "outputs": [
    {
     "data": {
      "text/plain": [
       "<matplotlib.figure.Figure at 0x7fa39a952090>"
      ]
     },
     "metadata": {},
     "output_type": "display_data"
    }
   ],
   "source": [
    "a = Document(s)\n",
    "a.construct_graph()"
   ]
  },
  {
   "cell_type": "code",
   "execution_count": 88,
   "metadata": {
    "collapsed": false
   },
   "outputs": [],
   "source": [
    "x = textrank_weighted(a.graph)"
   ]
  },
  {
   "cell_type": "code",
   "execution_count": 167,
   "metadata": {
    "collapsed": false
   },
   "outputs": [
    {
     "name": "stdout",
     "output_type": "stream",
     "text": [
      "(\"Commend\\nRT @timesofindia: #ISRO successfully launches record 20 satellites from Sriharikota Live updates: https://t.co/IAxBFvFcRf https://t.co/3he\\nRT @Him2909: #ISRO 20 , @ArvindKejriwal https://t\\nRT @firstpost: #ISRO satellite launch: Success has become a way of life at Indias space agency https://t.co/caZYg9rkTm https://t.co/QFr3F5\\nRT @TrollywoodTamil: Trending on 5th place #VijayTheFilthOfCinema https://t.co/8fZ6120v4j\\nRT @NewsNationTV: With 20 satellites, #ISRO has beaten its previous record of placing 10 satellites in one go https://t.co/MDMX9ZQDyh https\\nRT @irkjain: #ModiTimes #ISRO's PSLV C-34 successfully injects Cartosat-2 &amp;19 other satellites into orbit https://t.co/LMRPf9cU12 https://t\\nIndia become the 3rd nation to launch 20 or more Satellites in a single mission #kudos #indianscientiest #ISRO @isro #Congratulations\\nRT @PIB_India: Watch #ISRO's PSLV C34 taking off with 20 satellites in a single mission including the Cartosat 2 series @isro https://t.co\\nRT @iamKavithaRao: All the best #ISRO #India @isro all set for a record 20 #satellites in a single mission from Sriharikota today at 9:26\\nRT @timesofindia: #ISRO successfully launches record 20 satellites from Sriharikota Live updates: https://t.co/IAxBFvFcRf https://t.co/3he\\nRT @iDKSingh: 2&amp; https://t.\", 1.402410833310623)\n",
      "('RT @KalrajMishra: Historical moment of joy &amp; pride as India became 3rd country to launch 20 or more satellites in a single mission.', 0.9937212074491463)\n",
      "('RT @skywalker1909: #ISRO creates history; successfully launches #PSLVC34 placing 20 satellites in a single launch.', 0.9165206348388563)\n",
      "('RT @sudharsmiles: @sujivanr vaa vanthu mandi podu https://t.co/8sTFKr22yV @thalaaravint\\nRT @officeofssbadal: Stupendous achievement for #ISRO as record 20 satellites are launched from its Satish Dhawan Space Centre in Andhra Pr\\nA big achievement for #ISRO .', 0.8988478963484796)\n",
      "('https://t.co/axJKgUPPae\\nRT @SubhashishNandi: If #ISRO keeps launching satellites at this pace, soon', 0.7877485167794922)\n"
     ]
    }
   ],
   "source": [
    "for i in x:\n",
    "    print i"
   ]
  },
  {
   "cell_type": "code",
   "execution_count": null,
   "metadata": {
    "collapsed": true
   },
   "outputs": [],
   "source": []
  },
  {
   "cell_type": "code",
   "execution_count": 154,
   "metadata": {
    "collapsed": false
   },
   "outputs": [],
   "source": [
    "import re\n",
    "def tweet_cleaner(tweet):\n",
    "    return ' '.join(re.sub(\"(RT @[A-Za-z0-9]+)|([^0-9A-Za-z \\t])|(\\w+:\\/\\/\\S+)|@[A-Za-z0-9]+\",\" \",tweet).split())"
   ]
  },
  {
   "cell_type": "code",
   "execution_count": 155,
   "metadata": {
    "collapsed": false
   },
   "outputs": [
    {
     "name": "stdout",
     "output_type": "stream",
     "text": [
      "Commend ISRO successfully launches record 20 satellites from Sriharikota Live updates ISRO 20 ArvindKejriwal ISRO satellite launch Success has become a way of life at Indias space agency Trending on 5th place VijayTheFilthOfCinema With 20 satellites ISRO has beaten its previous record of placing 10 satellites in one go https ModiTimes ISRO s PSLV C 34 successfully injects Cartosat 2 amp 19 other satellites into orbit India become the 3rd nation to launch 20 or more Satellites in a single mission kudos indianscientiest ISRO isro Congratulations India Watch ISRO s PSLV C34 taking off with 20 satellites in a single mission including the Cartosat 2 series isro All the best ISRO India isro all set for a record 20 satellites in a single mission from Sriharikota today at 9 26 ISRO successfully launches record 20 satellites from Sriharikota Live updates 2 amp\n"
     ]
    }
   ],
   "source": []
  },
  {
   "cell_type": "code",
   "execution_count": null,
   "metadata": {
    "collapsed": false
   },
   "outputs": [],
   "source": []
  },
  {
   "cell_type": "code",
   "execution_count": null,
   "metadata": {
    "collapsed": false
   },
   "outputs": [],
   "source": []
  },
  {
   "cell_type": "code",
   "execution_count": null,
   "metadata": {
    "collapsed": false
   },
   "outputs": [],
   "source": []
  },
  {
   "cell_type": "code",
   "execution_count": null,
   "metadata": {
    "collapsed": true
   },
   "outputs": [],
   "source": []
  }
 ],
 "metadata": {
  "kernelspec": {
   "display_name": "Python 2",
   "language": "python",
   "name": "python2"
  },
  "language_info": {
   "codemirror_mode": {
    "name": "ipython",
    "version": 2
   },
   "file_extension": ".py",
   "mimetype": "text/x-python",
   "name": "python",
   "nbconvert_exporter": "python",
   "pygments_lexer": "ipython2",
   "version": "2.7.11"
  }
 },
 "nbformat": 4,
 "nbformat_minor": 0
}

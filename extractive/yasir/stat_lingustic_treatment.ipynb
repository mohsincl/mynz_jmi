{
 "cells": [
  {
   "cell_type": "markdown",
   "metadata": {},
   "source": [
    "# Multi Document Summarisation based on Statistics and Linguistic treatment.\n"
   ]
  },
  {
   "cell_type": "markdown",
   "metadata": {
    "collapsed": false
   },
   "source": [
    " + ## Create a list of sentences to be used as nodes in graph."
   ]
  },
  {
   "cell_type": "code",
   "execution_count": 19,
   "metadata": {
    "collapsed": false
   },
   "outputs": [
    {
     "name": "stdout",
     "output_type": "stream",
     "text": [
      "Populating the interactive namespace from numpy and matplotlib\n"
     ]
    },
    {
     "name": "stderr",
     "output_type": "stream",
     "text": [
      "WARNING: pylab import has clobbered these variables: ['text', 'sqrt']\n",
      "`%matplotlib` prevents importing * from pylab and numpy\n"
     ]
    }
   ],
   "source": [
    "import networkx as nx\n",
    "import matplotlib.pyplot as plt\n",
    "from collections import Counter\n",
    "from math import sqrt\n",
    "from nltk.corpus import wordnet as wn\n",
    "import nltk\n",
    "import re\n",
    "\n",
    "%pylab inline"
   ]
  },
  {
   "cell_type": "code",
   "execution_count": 20,
   "metadata": {
    "collapsed": false
   },
   "outputs": [],
   "source": [
    "                                       \n",
    "stop = []  \n",
    "\n",
    "with open(\"stopwords.txt\", \"r\") as inptr:\n",
    "    for line in inptr:\n",
    "        for word in line.split():\n",
    "            stop.append(word)\n",
    "            \n",
    "doc = []  \n",
    "with open(\"cnn\", \"r\") as text:\n",
    "    for line in text:\n",
    "        doc.append(line.split())\n",
    "\n",
    "for i in doc:                                   \n",
    "    for j in i:\n",
    "        if j in stop:\n",
    "            i.remove(j)"
   ]
  },
  {
   "cell_type": "code",
   "execution_count": 21,
   "metadata": {
    "collapsed": false
   },
   "outputs": [],
   "source": [
    "coll = ['' for x in range(len(doc))]\n",
    "for line in range(len(doc)):\n",
    "    for word in range(len(doc[line])):\n",
    "        #print doc[line][word],\n",
    "        if len(coll[line]):\n",
    "            coll[line] = coll[line] + ' ' + doc[line][word]\n",
    "        else:\n",
    "            coll[line] = doc[line][word]"
   ]
  },
  {
   "cell_type": "markdown",
   "metadata": {},
   "source": [
    "* ## Cosine Similiarity."
   ]
  },
  {
   "cell_type": "code",
   "execution_count": 22,
   "metadata": {
    "collapsed": false
   },
   "outputs": [],
   "source": [
    "def cosine_sim(sen1, sen2):\n",
    "    #sen1 = sen1.strip().split()\n",
    "    #sen2 = sen2.strip().split()\n",
    "    #Case Insensitive Cosine Similarity\n",
    "    count1 = Counter(w.lower() for w in re.findall(r\"\\w+\", sen1))\n",
    "    count2 = Counter(w.lower() for w in re.findall(r\"\\w+\", sen2))\n",
    "    intxn = set(count1.keys()) & set(count2.keys())\n",
    "    num = sum([count1[x] * count2[x] for x in intxn])\n",
    "    mod1 = sum([count1[x]**2 for x in count1.keys()])\n",
    "    mod2 = sum([count2[x]**2 for x in count2.keys()])\n",
    "    den = sqrt(mod1)*sqrt(mod2)\n",
    "    return float(num)/den"
   ]
  },
  {
   "cell_type": "code",
   "execution_count": 23,
   "metadata": {
    "collapsed": false
   },
   "outputs": [
    {
     "name": "stdout",
     "output_type": "stream",
     "text": [
      "1.0\n"
     ]
    }
   ],
   "source": [
    "print cosine_sim('yasir Bashir mir is a good boy', 'yasir bashir mir is a good boy' )"
   ]
  },
  {
   "cell_type": "markdown",
   "metadata": {},
   "source": [
    "* ## Semantic similarity using wordnet ``path_similarity()`` function\n"
   ]
  },
  {
   "cell_type": "code",
   "execution_count": 24,
   "metadata": {
    "collapsed": false
   },
   "outputs": [],
   "source": [
    "def wordnet_score(wrd1, wrd2):\n",
    "    try:\n",
    "        syn1 = wn.synset('%s.n.01' %(wrd1))\n",
    "        syn2 = wn.synset('%s.n.01' %(wrd2))\n",
    "    except:\n",
    "        return None\n",
    "    return wn.path_similarity(syn1,syn2,simulate_root=False)\n",
    "\n",
    "#Return Sentence similarities with only nouns in sentences\n",
    "\n",
    "def semantic_sim(str1, str2):\n",
    "    text1 = nltk.word_tokenize(str1)\n",
    "    text2 = nltk.word_tokenize(str2)\n",
    "    \n",
    "    sim_score = 0\n",
    "    iterations = 0 \n",
    "    for (word1,tag1) in nltk.pos_tag(text1):\n",
    "        for (word2,tag2) in nltk.pos_tag(text2):\n",
    "            if tag1.startswith('NN') and tag2.startswith('NN'):\n",
    "                iterations += 1\n",
    "                if wordnet_score(word1,word2):\n",
    "                    sim_score += wordnet_score(word1,word2)\n",
    "                \n",
    "    return float(sim_score)/iterations\n",
    "        "
   ]
  },
  {
   "cell_type": "code",
   "execution_count": null,
   "metadata": {
    "collapsed": false
   },
   "outputs": [],
   "source": []
  },
  {
   "cell_type": "code",
   "execution_count": null,
   "metadata": {
    "collapsed": false
   },
   "outputs": [],
   "source": []
  },
  {
   "cell_type": "code",
   "execution_count": 25,
   "metadata": {
    "collapsed": false
   },
   "outputs": [
    {
     "name": "stdout",
     "output_type": "stream",
     "text": [
      ">>>> workers protesting labor reform bill put forward the government will make easier companies hire fire employees\n",
      "workers protesting labor reform bill put forward the government will make easier companies hire fire employees\n",
      "0.107106001637\n",
      ">>>> workers protesting labor reform bill put forward the government will make easier companies hire fire employees\n",
      "people now hoarding gas worried it be time supply levels back normal\n",
      "0.0591082283729\n",
      ">>>> workers protesting labor reform bill put forward the government will make easier companies hire fire employees\n",
      "scenes being played across country friday unions called workers step protests have the past week crippled parts france\n",
      "0.0304812239811\n",
      ">>>> workers protesting labor reform bill put forward the government will make easier companies hire fire employees\n",
      "french prime minister manuel valls told local media thursday he be modify of proposals giving hope to french people the protests fuel shortages soon stop\n",
      "0.0275860549507\n",
      ">>>> workers protesting labor reform bill put forward the government will make easier companies hire fire employees\n",
      "governments argument strict laws that make french workers the protected the world leave companies a difficult position they take new staff\n",
      "0.0343972991294\n",
      ">>>> workers protesting labor reform bill put forward the government will make easier companies hire fire employees\n",
      "burning tires tear gas clashes riot police ugly scenes come workers strikes all familiar france country constantly to balance culture workers rights a efficient economy\n",
      "0.0284270779943\n",
      ">>>> workers protesting labor reform bill put forward the government will make easier companies hire fire employees\n",
      "employees oil refineries nuclear power plants some public transportation left in gas stations dry forcing vehicles search well stocked stations causing long lines the pump\n",
      "0.0309761493416\n",
      ">>>> workers protesting labor reform bill put forward the government will make easier companies hire fire employees\n",
      "governments violent words contempt the social movement its refusal withdraw bill reinforces commitment said\n",
      "0.0612729532372\n",
      ">>>> workers protesting labor reform bill put forward the government will make easier companies hire fire employees\n",
      "call the continuation intensification protests group unions the protests in statement\n",
      "0.050958474396\n",
      ">>>> workers protesting labor reform bill put forward the government will make easier companies hire fire employees\n",
      "workers unions friday responded call step rallies blockades demanding a complete withdrawal the bill\n",
      "0.0537362984238\n",
      ">>>> people now hoarding gas worried it be time supply levels back normal\n",
      "workers protesting labor reform bill put forward the government will make easier companies hire fire employees\n",
      "0.0591082283729\n",
      ">>>> people now hoarding gas worried it be time supply levels back normal\n",
      "people now hoarding gas worried it be time supply levels back normal\n",
      "0.211875901876\n",
      ">>>> people now hoarding gas worried it be time supply levels back normal\n",
      "scenes being played across country friday unions called workers step protests have the past week crippled parts france\n",
      "0.0427334332334\n",
      ">>>> people now hoarding gas worried it be time supply levels back normal\n",
      "french prime minister manuel valls told local media thursday he be modify of proposals giving hope to french people the protests fuel shortages soon stop\n",
      "0.0517060969334\n",
      ">>>> people now hoarding gas worried it be time supply levels back normal\n",
      "governments argument strict laws that make french workers the protected the world leave companies a difficult position they take new staff\n",
      "0.0459791795506\n",
      ">>>> people now hoarding gas worried it be time supply levels back normal\n",
      "burning tires tear gas clashes riot police ugly scenes come workers strikes all familiar france country constantly to balance culture workers rights a efficient economy\n",
      "0.0530059470444\n",
      ">>>> people now hoarding gas worried it be time supply levels back normal\n",
      "employees oil refineries nuclear power plants some public transportation left in gas stations dry forcing vehicles search well stocked stations causing long lines the pump\n",
      "0.0599888306138\n",
      ">>>> people now hoarding gas worried it be time supply levels back normal\n",
      "governments violent words contempt the social movement its refusal withdraw bill reinforces commitment said\n",
      "0.0587493458922\n",
      ">>>> people now hoarding gas worried it be time supply levels back normal\n",
      "call the continuation intensification protests group unions the protests in statement\n",
      "0.0743429391959\n",
      ">>>> people now hoarding gas worried it be time supply levels back normal\n",
      "workers unions friday responded call step rallies blockades demanding a complete withdrawal the bill\n",
      "0.0400359248595\n",
      ">>>> scenes being played across country friday unions called workers step protests have the past week crippled parts france\n",
      "workers protesting labor reform bill put forward the government will make easier companies hire fire employees\n",
      "0.0304812239811\n",
      ">>>> scenes being played across country friday unions called workers step protests have the past week crippled parts france\n",
      "people now hoarding gas worried it be time supply levels back normal\n",
      "0.0427334332334\n",
      ">>>> scenes being played across country friday unions called workers step protests have the past week crippled parts france\n",
      "scenes being played across country friday unions called workers step protests have the past week crippled parts france\n",
      "0.0825111718347\n",
      ">>>> scenes being played across country friday unions called workers step protests have the past week crippled parts france\n",
      "french prime minister manuel valls told local media thursday he be modify of proposals giving hope to french people the protests fuel shortages soon stop\n",
      "0.0247993621055\n",
      ">>>> scenes being played across country friday unions called workers step protests have the past week crippled parts france\n",
      "governments argument strict laws that make french workers the protected the world leave companies a difficult position they take new staff\n",
      "0.0294935223507\n",
      ">>>> scenes being played across country friday unions called workers step protests have the past week crippled parts france\n",
      "burning tires tear gas clashes riot police ugly scenes come workers strikes all familiar france country constantly to balance culture workers rights a efficient economy\n",
      "0.0366678363115\n",
      ">>>> scenes being played across country friday unions called workers step protests have the past week crippled parts france\n",
      "employees oil refineries nuclear power plants some public transportation left in gas stations dry forcing vehicles search well stocked stations causing long lines the pump\n",
      "0.0265387920903\n",
      ">>>> scenes being played across country friday unions called workers step protests have the past week crippled parts france\n",
      "governments violent words contempt the social movement its refusal withdraw bill reinforces commitment said\n",
      "0.0340356643823\n",
      ">>>> scenes being played across country friday unions called workers step protests have the past week crippled parts france\n",
      "call the continuation intensification protests group unions the protests in statement\n",
      "0.0364853647671\n",
      ">>>> scenes being played across country friday unions called workers step protests have the past week crippled parts france\n",
      "workers unions friday responded call step rallies blockades demanding a complete withdrawal the bill\n",
      "0.0425287355403\n",
      ">>>> french prime minister manuel valls told local media thursday he be modify of proposals giving hope to french people the protests fuel shortages soon stop\n",
      "workers protesting labor reform bill put forward the government will make easier companies hire fire employees\n",
      "0.0275860549507\n",
      ">>>> french prime minister manuel valls told local media thursday he be modify of proposals giving hope to french people the protests fuel shortages soon stop\n",
      "people now hoarding gas worried it be time supply levels back normal\n",
      "0.0517060969334\n",
      ">>>> french prime minister manuel valls told local media thursday he be modify of proposals giving hope to french people the protests fuel shortages soon stop\n",
      "scenes being played across country friday unions called workers step protests have the past week crippled parts france\n",
      "0.0247993621055\n",
      ">>>> french prime minister manuel valls told local media thursday he be modify of proposals giving hope to french people the protests fuel shortages soon stop\n",
      "french prime minister manuel valls told local media thursday he be modify of proposals giving hope to french people the protests fuel shortages soon stop\n",
      "0.0559978818243\n",
      ">>>> french prime minister manuel valls told local media thursday he be modify of proposals giving hope to french people the protests fuel shortages soon stop\n",
      "governments argument strict laws that make french workers the protected the world leave companies a difficult position they take new staff\n",
      "0.0246323301518\n",
      ">>>> french prime minister manuel valls told local media thursday he be modify of proposals giving hope to french people the protests fuel shortages soon stop\n",
      "burning tires tear gas clashes riot police ugly scenes come workers strikes all familiar france country constantly to balance culture workers rights a efficient economy\n",
      "0.0199670598838\n",
      ">>>> french prime minister manuel valls told local media thursday he be modify of proposals giving hope to french people the protests fuel shortages soon stop\n",
      "employees oil refineries nuclear power plants some public transportation left in gas stations dry forcing vehicles search well stocked stations causing long lines the pump\n",
      "0.0237554458811\n",
      ">>>> french prime minister manuel valls told local media thursday he be modify of proposals giving hope to french people the protests fuel shortages soon stop\n",
      "governments violent words contempt the social movement its refusal withdraw bill reinforces commitment said\n",
      "0.0290472154109\n",
      ">>>> french prime minister manuel valls told local media thursday he be modify of proposals giving hope to french people the protests fuel shortages soon stop\n",
      "call the continuation intensification protests group unions the protests in statement\n",
      "0.0352865210151\n",
      ">>>> french prime minister manuel valls told local media thursday he be modify of proposals giving hope to french people the protests fuel shortages soon stop\n",
      "workers unions friday responded call step rallies blockades demanding a complete withdrawal the bill\n",
      "0.0197576309608\n",
      ">>>> governments argument strict laws that make french workers the protected the world leave companies a difficult position they take new staff\n",
      "workers protesting labor reform bill put forward the government will make easier companies hire fire employees\n",
      "0.0343972991294\n",
      ">>>> governments argument strict laws that make french workers the protected the world leave companies a difficult position they take new staff\n",
      "people now hoarding gas worried it be time supply levels back normal\n",
      "0.0459791795506\n",
      ">>>> governments argument strict laws that make french workers the protected the world leave companies a difficult position they take new staff\n",
      "scenes being played across country friday unions called workers step protests have the past week crippled parts france\n",
      "0.0294935223507\n",
      ">>>> governments argument strict laws that make french workers the protected the world leave companies a difficult position they take new staff\n",
      "french prime minister manuel valls told local media thursday he be modify of proposals giving hope to french people the protests fuel shortages soon stop\n",
      "0.0246323301518\n",
      ">>>> governments argument strict laws that make french workers the protected the world leave companies a difficult position they take new staff\n",
      "governments argument strict laws that make french workers the protected the world leave companies a difficult position they take new staff\n",
      "0.104779574167\n",
      ">>>> governments argument strict laws that make french workers the protected the world leave companies a difficult position they take new staff\n",
      "burning tires tear gas clashes riot police ugly scenes come workers strikes all familiar france country constantly to balance culture workers rights a efficient economy\n",
      "0.0280099326803\n",
      ">>>> governments argument strict laws that make french workers the protected the world leave companies a difficult position they take new staff\n",
      "employees oil refineries nuclear power plants some public transportation left in gas stations dry forcing vehicles search well stocked stations causing long lines the pump\n",
      "0.0307319003748\n",
      ">>>> governments argument strict laws that make french workers the protected the world leave companies a difficult position they take new staff\n",
      "governments violent words contempt the social movement its refusal withdraw bill reinforces commitment said\n",
      "0.0374185338471\n",
      ">>>> governments argument strict laws that make french workers the protected the world leave companies a difficult position they take new staff\n",
      "call the continuation intensification protests group unions the protests in statement\n",
      "0.0397976362262\n",
      ">>>> governments argument strict laws that make french workers the protected the world leave companies a difficult position they take new staff\n",
      "workers unions friday responded call step rallies blockades demanding a complete withdrawal the bill\n",
      "0.026810570382\n",
      ">>>> burning tires tear gas clashes riot police ugly scenes come workers strikes all familiar france country constantly to balance culture workers rights a efficient economy\n",
      "workers protesting labor reform bill put forward the government will make easier companies hire fire employees\n",
      "0.0284270779943\n",
      ">>>> burning tires tear gas clashes riot police ugly scenes come workers strikes all familiar france country constantly to balance culture workers rights a efficient economy\n",
      "people now hoarding gas worried it be time supply levels back normal\n",
      "0.0530059470444\n",
      ">>>> burning tires tear gas clashes riot police ugly scenes come workers strikes all familiar france country constantly to balance culture workers rights a efficient economy\n",
      "scenes being played across country friday unions called workers step protests have the past week crippled parts france\n",
      "0.0366678363115\n",
      ">>>> burning tires tear gas clashes riot police ugly scenes come workers strikes all familiar france country constantly to balance culture workers rights a efficient economy\n",
      "french prime minister manuel valls told local media thursday he be modify of proposals giving hope to french people the protests fuel shortages soon stop\n",
      "0.0199670598838\n",
      ">>>> burning tires tear gas clashes riot police ugly scenes come workers strikes all familiar france country constantly to balance culture workers rights a efficient economy\n",
      "governments argument strict laws that make french workers the protected the world leave companies a difficult position they take new staff\n",
      "0.0280099326803\n",
      ">>>> burning tires tear gas clashes riot police ugly scenes come workers strikes all familiar france country constantly to balance culture workers rights a efficient economy\n",
      "burning tires tear gas clashes riot police ugly scenes come workers strikes all familiar france country constantly to balance culture workers rights a efficient economy\n",
      "0.0536704303934\n",
      ">>>> burning tires tear gas clashes riot police ugly scenes come workers strikes all familiar france country constantly to balance culture workers rights a efficient economy\n",
      "employees oil refineries nuclear power plants some public transportation left in gas stations dry forcing vehicles search well stocked stations causing long lines the pump\n",
      "0.0291570279268\n",
      ">>>> burning tires tear gas clashes riot police ugly scenes come workers strikes all familiar france country constantly to balance culture workers rights a efficient economy\n",
      "governments violent words contempt the social movement its refusal withdraw bill reinforces commitment said\n",
      "0.0282548020105\n",
      ">>>> burning tires tear gas clashes riot police ugly scenes come workers strikes all familiar france country constantly to balance culture workers rights a efficient economy\n",
      "call the continuation intensification protests group unions the protests in statement\n",
      "0.0345660558405\n",
      ">>>> burning tires tear gas clashes riot police ugly scenes come workers strikes all familiar france country constantly to balance culture workers rights a efficient economy\n",
      "workers unions friday responded call step rallies blockades demanding a complete withdrawal the bill\n",
      "0.0195313280697\n",
      ">>>> employees oil refineries nuclear power plants some public transportation left in gas stations dry forcing vehicles search well stocked stations causing long lines the pump\n",
      "workers protesting labor reform bill put forward the government will make easier companies hire fire employees\n",
      "0.0309761493416\n",
      ">>>> employees oil refineries nuclear power plants some public transportation left in gas stations dry forcing vehicles search well stocked stations causing long lines the pump\n",
      "people now hoarding gas worried it be time supply levels back normal\n",
      "0.0599888306138\n",
      ">>>> employees oil refineries nuclear power plants some public transportation left in gas stations dry forcing vehicles search well stocked stations causing long lines the pump\n",
      "scenes being played across country friday unions called workers step protests have the past week crippled parts france\n",
      "0.0265387920903\n",
      ">>>> employees oil refineries nuclear power plants some public transportation left in gas stations dry forcing vehicles search well stocked stations causing long lines the pump\n",
      "french prime minister manuel valls told local media thursday he be modify of proposals giving hope to french people the protests fuel shortages soon stop\n",
      "0.0237554458811\n",
      ">>>> employees oil refineries nuclear power plants some public transportation left in gas stations dry forcing vehicles search well stocked stations causing long lines the pump\n",
      "governments argument strict laws that make french workers the protected the world leave companies a difficult position they take new staff\n",
      "0.0307319003748\n",
      ">>>> employees oil refineries nuclear power plants some public transportation left in gas stations dry forcing vehicles search well stocked stations causing long lines the pump\n",
      "burning tires tear gas clashes riot police ugly scenes come workers strikes all familiar france country constantly to balance culture workers rights a efficient economy\n",
      "0.0291570279268\n",
      ">>>> employees oil refineries nuclear power plants some public transportation left in gas stations dry forcing vehicles search well stocked stations causing long lines the pump\n",
      "employees oil refineries nuclear power plants some public transportation left in gas stations dry forcing vehicles search well stocked stations causing long lines the pump\n",
      "0.0849681953849\n",
      ">>>> employees oil refineries nuclear power plants some public transportation left in gas stations dry forcing vehicles search well stocked stations causing long lines the pump\n",
      "governments violent words contempt the social movement its refusal withdraw bill reinforces commitment said\n",
      "0.0357288855713\n",
      ">>>> employees oil refineries nuclear power plants some public transportation left in gas stations dry forcing vehicles search well stocked stations causing long lines the pump\n",
      "call the continuation intensification protests group unions the protests in statement\n",
      "0.0404608743844\n",
      ">>>> employees oil refineries nuclear power plants some public transportation left in gas stations dry forcing vehicles search well stocked stations causing long lines the pump\n",
      "workers unions friday responded call step rallies blockades demanding a complete withdrawal the bill\n",
      "0.0248617772979\n",
      ">>>> governments violent words contempt the social movement its refusal withdraw bill reinforces commitment said\n",
      "workers protesting labor reform bill put forward the government will make easier companies hire fire employees\n",
      "0.0612729532372\n",
      ">>>> governments violent words contempt the social movement its refusal withdraw bill reinforces commitment said\n",
      "people now hoarding gas worried it be time supply levels back normal\n",
      "0.0587493458922\n",
      ">>>> governments violent words contempt the social movement its refusal withdraw bill reinforces commitment said\n",
      "scenes being played across country friday unions called workers step protests have the past week crippled parts france\n",
      "0.0340356643823\n",
      ">>>> governments violent words contempt the social movement its refusal withdraw bill reinforces commitment said\n",
      "french prime minister manuel valls told local media thursday he be modify of proposals giving hope to french people the protests fuel shortages soon stop\n",
      "0.0290472154109\n",
      ">>>> governments violent words contempt the social movement its refusal withdraw bill reinforces commitment said\n",
      "governments argument strict laws that make french workers the protected the world leave companies a difficult position they take new staff\n",
      "0.0374185338471\n",
      ">>>> governments violent words contempt the social movement its refusal withdraw bill reinforces commitment said\n",
      "burning tires tear gas clashes riot police ugly scenes come workers strikes all familiar france country constantly to balance culture workers rights a efficient economy\n",
      "0.0282548020105\n",
      ">>>> governments violent words contempt the social movement its refusal withdraw bill reinforces commitment said\n",
      "employees oil refineries nuclear power plants some public transportation left in gas stations dry forcing vehicles search well stocked stations causing long lines the pump\n",
      "0.0357288855713\n",
      ">>>> governments violent words contempt the social movement its refusal withdraw bill reinforces commitment said\n",
      "governments violent words contempt the social movement its refusal withdraw bill reinforces commitment said\n",
      "0.141774325448\n",
      ">>>> governments violent words contempt the social movement its refusal withdraw bill reinforces commitment said\n",
      "call the continuation intensification protests group unions the protests in statement\n",
      "0.0588878713879\n",
      ">>>> governments violent words contempt the social movement its refusal withdraw bill reinforces commitment said\n",
      "workers unions friday responded call step rallies blockades demanding a complete withdrawal the bill\n",
      "0.0662242122956\n",
      ">>>> call the continuation intensification protests group unions the protests in statement\n",
      "workers protesting labor reform bill put forward the government will make easier companies hire fire employees\n",
      "0.050958474396\n",
      ">>>> call the continuation intensification protests group unions the protests in statement\n",
      "people now hoarding gas worried it be time supply levels back normal\n",
      "0.0743429391959\n",
      ">>>> call the continuation intensification protests group unions the protests in statement\n",
      "scenes being played across country friday unions called workers step protests have the past week crippled parts france\n",
      "0.0364853647671\n",
      ">>>> call the continuation intensification protests group unions the protests in statement\n",
      "french prime minister manuel valls told local media thursday he be modify of proposals giving hope to french people the protests fuel shortages soon stop\n",
      "0.0352865210151\n",
      ">>>> call the continuation intensification protests group unions the protests in statement\n",
      "governments argument strict laws that make french workers the protected the world leave companies a difficult position they take new staff\n",
      "0.0397976362262\n",
      ">>>> call the continuation intensification protests group unions the protests in statement\n",
      "burning tires tear gas clashes riot police ugly scenes come workers strikes all familiar france country constantly to balance culture workers rights a efficient economy\n",
      "0.0345660558405\n",
      ">>>> call the continuation intensification protests group unions the protests in statement\n",
      "employees oil refineries nuclear power plants some public transportation left in gas stations dry forcing vehicles search well stocked stations causing long lines the pump\n",
      "0.0404608743844\n",
      ">>>> call the continuation intensification protests group unions the protests in statement\n",
      "governments violent words contempt the social movement its refusal withdraw bill reinforces commitment said\n",
      "0.0588878713879\n",
      ">>>> call the continuation intensification protests group unions the protests in statement\n",
      "call the continuation intensification protests group unions the protests in statement\n",
      "0.153461199295\n",
      ">>>> call the continuation intensification protests group unions the protests in statement\n",
      "workers unions friday responded call step rallies blockades demanding a complete withdrawal the bill\n",
      "0.0392728567729\n",
      ">>>> workers unions friday responded call step rallies blockades demanding a complete withdrawal the bill\n",
      "workers protesting labor reform bill put forward the government will make easier companies hire fire employees\n",
      "0.0537362984238\n",
      ">>>> workers unions friday responded call step rallies blockades demanding a complete withdrawal the bill\n",
      "people now hoarding gas worried it be time supply levels back normal\n",
      "0.0400359248595\n",
      ">>>> workers unions friday responded call step rallies blockades demanding a complete withdrawal the bill\n",
      "scenes being played across country friday unions called workers step protests have the past week crippled parts france\n",
      "0.0425287355403\n",
      ">>>> workers unions friday responded call step rallies blockades demanding a complete withdrawal the bill\n",
      "french prime minister manuel valls told local media thursday he be modify of proposals giving hope to french people the protests fuel shortages soon stop\n",
      "0.0197576309608\n",
      ">>>> workers unions friday responded call step rallies blockades demanding a complete withdrawal the bill\n",
      "governments argument strict laws that make french workers the protected the world leave companies a difficult position they take new staff\n",
      "0.026810570382\n",
      ">>>> workers unions friday responded call step rallies blockades demanding a complete withdrawal the bill\n",
      "burning tires tear gas clashes riot police ugly scenes come workers strikes all familiar france country constantly to balance culture workers rights a efficient economy\n",
      "0.0195313280697\n",
      ">>>> workers unions friday responded call step rallies blockades demanding a complete withdrawal the bill\n",
      "employees oil refineries nuclear power plants some public transportation left in gas stations dry forcing vehicles search well stocked stations causing long lines the pump\n",
      "0.0248617772979\n",
      ">>>> workers unions friday responded call step rallies blockades demanding a complete withdrawal the bill\n",
      "governments violent words contempt the social movement its refusal withdraw bill reinforces commitment said\n",
      "0.0662242122956\n",
      ">>>> workers unions friday responded call step rallies blockades demanding a complete withdrawal the bill\n",
      "call the continuation intensification protests group unions the protests in statement\n",
      "0.0392728567729\n",
      ">>>> workers unions friday responded call step rallies blockades demanding a complete withdrawal the bill\n",
      "workers unions friday responded call step rallies blockades demanding a complete withdrawal the bill\n",
      "0.137\n"
     ]
    }
   ],
   "source": [
    "#Look for NN NNP NNS tags (noun tokenisation)\n",
    "for i in net.nodes():\n",
    "    for j in net.nodes():\n",
    "        print '>>>>',i\n",
    "        print j\n",
    "        print semantic_sim(i,j)"
   ]
  },
  {
   "cell_type": "markdown",
   "metadata": {},
   "source": [
    "* ## Network Graph Generation."
   ]
  },
  {
   "cell_type": "code",
   "execution_count": 10,
   "metadata": {
    "collapsed": false
   },
   "outputs": [],
   "source": [
    "#This is a simple graph for now\n",
    "#Change this to a multigraph before applying semantic similarity\n",
    "net = nx.Graph()"
   ]
  },
  {
   "cell_type": "code",
   "execution_count": 11,
   "metadata": {
    "collapsed": false,
    "scrolled": true
   },
   "outputs": [],
   "source": [
    "net.add_nodes_from(coll)"
   ]
  },
  {
   "cell_type": "code",
   "execution_count": 12,
   "metadata": {
    "collapsed": false
   },
   "outputs": [
    {
     "data": {
      "text/plain": [
       "['workers protesting labor reform bill put forward the government will make easier companies hire fire employees',\n",
       " 'people now hoarding gas worried it be time supply levels back normal',\n",
       " 'scenes being played across country friday unions called workers step protests have the past week crippled parts france',\n",
       " 'french prime minister manuel valls told local media thursday he be modify of proposals giving hope to french people the protests fuel shortages soon stop',\n",
       " 'governments argument strict laws that make french workers the protected the world leave companies a difficult position they take new staff',\n",
       " 'burning tires tear gas clashes riot police ugly scenes come workers strikes all familiar france country constantly to balance culture workers rights a efficient economy',\n",
       " 'employees oil refineries nuclear power plants some public transportation left in gas stations dry forcing vehicles search well stocked stations causing long lines the pump',\n",
       " 'governments violent words contempt the social movement its refusal withdraw bill reinforces commitment said',\n",
       " 'call the continuation intensification protests group unions the protests in statement',\n",
       " 'workers unions friday responded call step rallies blockades demanding a complete withdrawal the bill']"
      ]
     },
     "execution_count": 12,
     "metadata": {},
     "output_type": "execute_result"
    }
   ],
   "source": [
    "net.nodes()"
   ]
  },
  {
   "cell_type": "code",
   "execution_count": 25,
   "metadata": {
    "collapsed": false
   },
   "outputs": [
    {
     "data": {
      "image/png": "[encoded data removed]",
      "text/plain": [
       "<matplotlib.figure.Figure at 0x7f9c76f86c50>"
      ]
     },
     "metadata": {},
     "output_type": "display_data"
    }
   ],
   "source": [
    "nx.draw_circular(net)"
   ]
  },
  {
   "cell_type": "code",
   "execution_count": 26,
   "metadata": {
    "collapsed": false
   },
   "outputs": [
    {
     "name": "stdout",
     "output_type": "stream",
     "text": [
      "1.0\n",
      "0.0\n",
      "0.117851130198\n",
      "0.0481125224325\n",
      "0.260643017571\n",
      "0.0962250448649\n",
      "0.0962250448649\n",
      "0.133630620956\n",
      "0.129099444874\n",
      "0.200445931434\n",
      "0.0\n",
      "1.0\n",
      "0.0\n",
      "0.111111111111\n",
      "0.0\n",
      "0.0555555555556\n",
      "0.0555555555556\n",
      "0.0\n",
      "0.0\n",
      "0.0\n",
      "0.117851130198\n",
      "0.0\n",
      "1.0\n",
      "0.0907218423253\n",
      "0.147441956155\n",
      "0.226804605813\n",
      "0.0453609211627\n",
      "0.0629940788349\n",
      "0.304290309725\n",
      "0.314970394174\n",
      "0.0481125224325\n",
      "0.111111111111\n",
      "0.0907218423253\n",
      "1.0\n",
      "0.160514470781\n",
      "0.037037037037\n",
      "0.037037037037\n",
      "0.0514344499874\n",
      "0.198761598\n",
      "0.0514344499874\n",
      "0.260643017571\n",
      "0.0\n",
      "0.147441956155\n",
      "0.160514470781\n",
      "1.0\n",
      "0.120385853086\n",
      "0.0802572353905\n",
      "0.167183463773\n",
      "0.215352760823\n",
      "0.22291128503\n",
      "0.0962250448649\n",
      "0.0555555555556\n",
      "0.226804605813\n",
      "0.037037037037\n",
      "0.120385853086\n",
      "1.0\n",
      "0.037037037037\n",
      "0.0\n",
      "0.0\n",
      "0.154303349962\n",
      "0.0962250448649\n",
      "0.0555555555556\n",
      "0.0453609211627\n",
      "0.037037037037\n",
      "0.0802572353905\n",
      "0.037037037037\n",
      "1.0\n",
      "0.0514344499874\n",
      "0.1490711985\n",
      "0.0514344499874\n",
      "0.133630620956\n",
      "0.0\n",
      "0.0629940788349\n",
      "0.0514344499874\n",
      "0.167183463773\n",
      "0.0\n",
      "0.0514344499874\n",
      "1.0\n",
      "0.138013111868\n",
      "0.142857142857\n",
      "0.129099444874\n",
      "0.0\n",
      "0.304290309725\n",
      "0.198761598\n",
      "0.215352760823\n",
      "0.0\n",
      "0.1490711985\n",
      "0.138013111868\n",
      "1.0\n",
      "0.276026223737\n",
      "0.200445931434\n",
      "0.0\n",
      "0.314970394174\n",
      "0.0514344499874\n",
      "0.22291128503\n",
      "0.154303349962\n",
      "0.0514344499874\n",
      "0.142857142857\n",
      "0.276026223737\n",
      "1.0\n"
     ]
    }
   ],
   "source": [
    "for i in net.nodes():\n",
    "    for j in net.nodes():\n",
    "        if (cosine_sim(i,j)):\n",
    "            net.add_edge(i,j, weight = cosine_sim(i,j))\n",
    "        print cosine_sim(i,j)\n"
   ]
  },
  {
   "cell_type": "code",
   "execution_count": 28,
   "metadata": {
    "collapsed": false
   },
   "outputs": [
    {
     "data": {
      "image/png": "[encoded data removed]",
      "text/plain": [
       "<matplotlib.figure.Figure at 0x7f9c76f19710>"
      ]
     },
     "metadata": {},
     "output_type": "display_data"
    }
   ],
   "source": [
    "nx.draw(net)"
   ]
  },
  {
   "cell_type": "code",
   "execution_count": 29,
   "metadata": {
    "collapsed": false
   },
   "outputs": [
    {
     "data": {
      "image/png": "[encoded data removed]",
      "text/plain": [
       "<matplotlib.figure.Figure at 0x7f9c735b8390>"
      ]
     },
     "metadata": {},
     "output_type": "display_data"
    }
   ],
   "source": [
    "nx.draw_spectral(net)"
   ]
  },
  {
   "cell_type": "code",
   "execution_count": 30,
   "metadata": {
    "collapsed": false
   },
   "outputs": [],
   "source": [
    "#Raw code for sentence scoring using semantic similarity\n",
    "\n",
    "def wordnet_score(wrd1, wrd2):\n",
    "    try:\n",
    "        syn1 = wn.synset('%s.n.01' %(wrd1))\n",
    "        syn2 = wn.synset('%s.n.01' %(wrd2))\n",
    "    except:\n",
    "        return None\n",
    "    return wn.path_similarity(syn1,syn2,simulate_root=False)\n",
    "\n",
    "    "
   ]
  },
  {
   "cell_type": "code",
   "execution_count": 31,
   "metadata": {
    "collapsed": false
   },
   "outputs": [
    {
     "ename": "NameError",
     "evalue": "name 'dog' is not defined",
     "output_type": "error",
     "traceback": [
      "\u001b[1;31m---------------------------------------------------------------------------\u001b[0m",
      "\u001b[1;31mNameError\u001b[0m                                 Traceback (most recent call last)",
      "\u001b[1;32m<ipython-input-31-b673ac9e5dca>\u001b[0m in \u001b[0;36m<module>\u001b[1;34m()\u001b[0m\n\u001b[1;32m----> 1\u001b[1;33m \u001b[0mwn\u001b[0m\u001b[1;33m.\u001b[0m\u001b[0mwup_similarity\u001b[0m\u001b[1;33m(\u001b[0m\u001b[0mdog\u001b[0m\u001b[1;33m,\u001b[0m\u001b[0mcat\u001b[0m\u001b[1;33m)\u001b[0m\u001b[1;33m\u001b[0m\u001b[0m\n\u001b[0m",
      "\u001b[1;31mNameError\u001b[0m: name 'dog' is not defined"
     ]
    }
   ],
   "source": [
    "wn.wup_similarity(dog,cat)"
   ]
  },
  {
   "cell_type": "code",
   "execution_count": 32,
   "metadata": {
    "collapsed": false
   },
   "outputs": [
    {
     "ename": "NameError",
     "evalue": "name 'dog' is not defined",
     "output_type": "error",
     "traceback": [
      "\u001b[1;31m---------------------------------------------------------------------------\u001b[0m",
      "\u001b[1;31mNameError\u001b[0m                                 Traceback (most recent call last)",
      "\u001b[1;32m<ipython-input-32-94994d70bd9f>\u001b[0m in \u001b[0;36m<module>\u001b[1;34m()\u001b[0m\n\u001b[1;32m----> 1\u001b[1;33m \u001b[0mwn\u001b[0m\u001b[1;33m.\u001b[0m\u001b[0mpath_similarity\u001b[0m\u001b[1;33m(\u001b[0m\u001b[0mdog\u001b[0m\u001b[1;33m,\u001b[0m\u001b[0mcat\u001b[0m\u001b[1;33m)\u001b[0m\u001b[1;33m\u001b[0m\u001b[0m\n\u001b[0m",
      "\u001b[1;31mNameError\u001b[0m: name 'dog' is not defined"
     ]
    }
   ],
   "source": [
    "wn.path_similarity(dog,cat)"
   ]
  },
  {
   "cell_type": "code",
   "execution_count": 33,
   "metadata": {
    "collapsed": false
   },
   "outputs": [
    {
     "name": "stdout",
     "output_type": "stream",
     "text": [
      "differentiate\n"
     ]
    }
   ],
   "source": [
    "print(wn.morphy('differentiating', wn.VERB))"
   ]
  },
  {
   "cell_type": "code",
   "execution_count": 34,
   "metadata": {
    "collapsed": false
   },
   "outputs": [
    {
     "name": "stdout",
     "output_type": "stream",
     "text": [
      "1.0\n"
     ]
    }
   ],
   "source": [
    "s1 = 'grape'\n",
    "s2 = 'Grape'\n",
    "print wordnet_score(s1,s2)"
   ]
  },
  {
   "cell_type": "code",
   "execution_count": 35,
   "metadata": {
    "collapsed": false
   },
   "outputs": [
    {
     "data": {
      "text/plain": [
       "[('i', 'NN'),\n",
       " ('am', 'VBP'),\n",
       " ('a', 'DT'),\n",
       " ('good', 'JJ'),\n",
       " ('boy', 'NN'),\n",
       " ('named', 'VBN'),\n",
       " ('adam', 'JJ'),\n",
       " ('sandler', 'NN')]"
      ]
     },
     "execution_count": 35,
     "metadata": {},
     "output_type": "execute_result"
    }
   ],
   "source": [
    "nltk.tag.pos_tag(['i', 'am', 'a', 'good', 'boy', 'named', 'adam', 'sandler'])"
   ]
  },
  {
   "cell_type": "code",
   "execution_count": 36,
   "metadata": {
    "collapsed": false
   },
   "outputs": [
    {
     "data": {
      "text/plain": [
       "[('the', 'DT'),\n",
       " ('summer', 'NN'),\n",
       " ('of', 'IN'),\n",
       " ('sixty', 'JJ'),\n",
       " ('nine', 'CD'),\n",
       " ('bryan', 'JJ'),\n",
       " ('adams', 'NNS')]"
      ]
     },
     "execution_count": 36,
     "metadata": {},
     "output_type": "execute_result"
    }
   ],
   "source": [
    "nltk.tag.pos_tag(['the', 'summer', 'of', 'sixty', 'nine', 'bryan', 'adams'])"
   ]
  },
  {
   "cell_type": "code",
   "execution_count": 37,
   "metadata": {
    "collapsed": false
   },
   "outputs": [
    {
     "name": "stdout",
     "output_type": "stream",
     "text": [
      "NN\n",
      "VBZ\n",
      "JJ\n"
     ]
    }
   ],
   "source": [
    "text = nltk.word_tokenize(\"Yasir is cool\")\n",
    "for (a,b) in nltk.pos_tag(text):\n",
    "      print b\n"
   ]
  },
  {
   "cell_type": "code",
   "execution_count": 38,
   "metadata": {
    "collapsed": false
   },
   "outputs": [
    {
     "name": "stdout",
     "output_type": "stream",
     "text": [
      "$: dollar\n",
      "    $ -$ --$ A$ C$ HK$ M$ NZ$ S$ U.S.$ US$\n",
      "'': closing quotation mark\n",
      "    ' ''\n",
      "(: opening parenthesis\n",
      "    ( [ {\n",
      "): closing parenthesis\n",
      "    ) ] }\n",
      ",: comma\n",
      "    ,\n",
      "--: dash\n",
      "    --\n",
      ".: sentence terminator\n",
      "    . ! ?\n",
      ":: colon or ellipsis\n",
      "    : ; ...\n",
      "CC: conjunction, coordinating\n",
      "    & 'n and both but either et for less minus neither nor or plus so\n",
      "    therefore times v. versus vs. whether yet\n",
      "CD: numeral, cardinal\n",
      "    mid-1890 nine-thirty forty-two one-tenth ten million 0.5 one forty-\n",
      "    seven 1987 twenty '79 zero two 78-degrees eighty-four IX '60s .025\n",
      "    fifteen 271,124 dozen quintillion DM2,000 ...\n",
      "DT: determiner\n",
      "    all an another any both del each either every half la many much nary\n",
      "    neither no some such that the them these this those\n",
      "EX: existential there\n",
      "    there\n",
      "FW: foreign word\n",
      "    gemeinschaft hund ich jeux habeas Haementeria Herr K'ang-si vous\n",
      "    lutihaw alai je jour objets salutaris fille quibusdam pas trop Monte\n",
      "    terram fiche oui corporis ...\n",
      "IN: preposition or conjunction, subordinating\n",
      "    astride among uppon whether out inside pro despite on by throughout\n",
      "    below within for towards near behind atop around if like until below\n",
      "    next into if beside ...\n",
      "JJ: adjective or numeral, ordinal\n",
      "    third ill-mannered pre-war regrettable oiled calamitous first separable\n",
      "    ectoplasmic battery-powered participatory fourth still-to-be-named\n",
      "    multilingual multi-disciplinary ...\n",
      "JJR: adjective, comparative\n",
      "    bleaker braver breezier briefer brighter brisker broader bumper busier\n",
      "    calmer cheaper choosier cleaner clearer closer colder commoner costlier\n",
      "    cozier creamier crunchier cuter ...\n",
      "JJS: adjective, superlative\n",
      "    calmest cheapest choicest classiest cleanest clearest closest commonest\n",
      "    corniest costliest crassest creepiest crudest cutest darkest deadliest\n",
      "    dearest deepest densest dinkiest ...\n",
      "LS: list item marker\n",
      "    A A. B B. C C. D E F First G H I J K One SP-44001 SP-44002 SP-44005\n",
      "    SP-44007 Second Third Three Two * a b c d first five four one six three\n",
      "    two\n",
      "MD: modal auxiliary\n",
      "    can cannot could couldn't dare may might must need ought shall should\n",
      "    shouldn't will would\n",
      "NN: noun, common, singular or mass\n",
      "    common-carrier cabbage knuckle-duster Casino afghan shed thermostat\n",
      "    investment slide humour falloff slick wind hyena override subhumanity\n",
      "    machinist ...\n",
      "NNP: noun, proper, singular\n",
      "    Motown Venneboerger Czestochwa Ranzer Conchita Trumplane Christos\n",
      "    Oceanside Escobar Kreisler Sawyer Cougar Yvette Ervin ODI Darryl CTCA\n",
      "    Shannon A.K.C. Meltex Liverpool ...\n",
      "NNPS: noun, proper, plural\n",
      "    Americans Americas Amharas Amityvilles Amusements Anarcho-Syndicalists\n",
      "    Andalusians Andes Andruses Angels Animals Anthony Antilles Antiques\n",
      "    Apache Apaches Apocrypha ...\n",
      "NNS: noun, common, plural\n",
      "    undergraduates scotches bric-a-brac products bodyguards facets coasts\n",
      "    divestitures storehouses designs clubs fragrances averages\n",
      "    subjectivists apprehensions muses factory-jobs ...\n",
      "PDT: pre-determiner\n",
      "    all both half many quite such sure this\n",
      "POS: genitive marker\n",
      "    ' 's\n",
      "PRP: pronoun, personal\n",
      "    hers herself him himself hisself it itself me myself one oneself ours\n",
      "    ourselves ownself self she thee theirs them themselves they thou thy us\n",
      "PRP$: pronoun, possessive\n",
      "    her his mine my our ours their thy your\n",
      "RB: adverb\n",
      "    occasionally unabatingly maddeningly adventurously professedly\n",
      "    stirringly prominently technologically magisterially predominately\n",
      "    swiftly fiscally pitilessly ...\n",
      "RBR: adverb, comparative\n",
      "    further gloomier grander graver greater grimmer harder harsher\n",
      "    healthier heavier higher however larger later leaner lengthier less-\n",
      "    perfectly lesser lonelier longer louder lower more ...\n",
      "RBS: adverb, superlative\n",
      "    best biggest bluntest earliest farthest first furthest hardest\n",
      "    heartiest highest largest least less most nearest second tightest worst\n",
      "RP: particle\n",
      "    aboard about across along apart around aside at away back before behind\n",
      "    by crop down ever fast for forth from go high i.e. in into just later\n",
      "    low more off on open out over per pie raising start teeth that through\n",
      "    under unto up up-pp upon whole with you\n",
      "SYM: symbol\n",
      "    % & ' '' ''. ) ). * + ,. < = > @ A[fj] U.S U.S.S.R * ** ***\n",
      "TO: \"to\" as preposition or infinitive marker\n",
      "    to\n",
      "UH: interjection\n",
      "    Goodbye Goody Gosh Wow Jeepers Jee-sus Hubba Hey Kee-reist Oops amen\n",
      "    huh howdy uh dammit whammo shucks heck anyways whodunnit honey golly\n",
      "    man baby diddle hush sonuvabitch ...\n",
      "VB: verb, base form\n",
      "    ask assemble assess assign assume atone attention avoid bake balkanize\n",
      "    bank begin behold believe bend benefit bevel beware bless boil bomb\n",
      "    boost brace break bring broil brush build ...\n",
      "VBD: verb, past tense\n",
      "    dipped pleaded swiped regummed soaked tidied convened halted registered\n",
      "    cushioned exacted snubbed strode aimed adopted belied figgered\n",
      "    speculated wore appreciated contemplated ...\n",
      "VBG: verb, present participle or gerund\n",
      "    telegraphing stirring focusing angering judging stalling lactating\n",
      "    hankerin' alleging veering capping approaching traveling besieging\n",
      "    encrypting interrupting erasing wincing ...\n",
      "VBN: verb, past participle\n",
      "    multihulled dilapidated aerosolized chaired languished panelized used\n",
      "    experimented flourished imitated reunifed factored condensed sheared\n",
      "    unsettled primed dubbed desired ...\n",
      "VBP: verb, present tense, not 3rd person singular\n",
      "    predominate wrap resort sue twist spill cure lengthen brush terminate\n",
      "    appear tend stray glisten obtain comprise detest tease attract\n",
      "    emphasize mold postpone sever return wag ...\n",
      "VBZ: verb, present tense, 3rd person singular\n",
      "    bases reconstructs marks mixes displeases seals carps weaves snatches\n",
      "    slumps stretches authorizes smolders pictures emerges stockpiles\n",
      "    seduces fizzes uses bolsters slaps speaks pleads ...\n",
      "WDT: WH-determiner\n",
      "    that what whatever which whichever\n",
      "WP: WH-pronoun\n",
      "    that what whatever whatsoever which who whom whosoever\n",
      "WP$: WH-pronoun, possessive\n",
      "    whose\n",
      "WRB: Wh-adverb\n",
      "    how however whence whenever where whereby whereever wherein whereof why\n",
      "``: opening quotation mark\n",
      "    ` ``\n"
     ]
    }
   ],
   "source": [
    "nltk.help.upenn_tagset()"
   ]
  },
  {
   "cell_type": "code",
   "execution_count": 39,
   "metadata": {
    "collapsed": false
   },
   "outputs": [
    {
     "data": {
      "text/plain": [
       "True"
      ]
     },
     "execution_count": 39,
     "metadata": {},
     "output_type": "execute_result"
    }
   ],
   "source": [
    "y = 'yasir'\n",
    "y.startswith('y')"
   ]
  },
  {
   "cell_type": "code",
   "execution_count": 40,
   "metadata": {
    "collapsed": true
   },
   "outputs": [],
   "source": [
    "multi_net = nx.MultiGraph()"
   ]
  },
  {
   "cell_type": "code",
   "execution_count": 41,
   "metadata": {
    "collapsed": true
   },
   "outputs": [],
   "source": [
    "multi_net.add_nodes_from(coll)"
   ]
  },
  {
   "cell_type": "code",
   "execution_count": 42,
   "metadata": {
    "collapsed": false
   },
   "outputs": [
    {
     "name": "stdout",
     "output_type": "stream",
     "text": [
      "1.0 0.107106001637\n",
      "0.0 0.0591082283729\n",
      "0.117851130198 0.0304812239811\n",
      "0.0481125224325 0.0275860549507\n",
      "0.260643017571 0.0343972991294\n",
      "0.0962250448649 0.0284270779943\n",
      "0.0962250448649 0.0309761493416\n",
      "0.133630620956 0.0612729532372\n",
      "0.129099444874 0.050958474396\n",
      "0.200445931434 0.0537362984238\n",
      "0.0 0.0591082283729\n",
      "1.0 0.211875901876\n",
      "0.0 0.0427334332334\n",
      "0.111111111111 0.0517060969334\n",
      "0.0 0.0459791795506\n",
      "0.0555555555556 0.0530059470444\n",
      "0.0555555555556 0.0599888306138\n",
      "0.0 0.0587493458922\n",
      "0.0 0.0743429391959\n",
      "0.0 0.0400359248595\n",
      "0.117851130198 0.0304812239811\n",
      "0.0 0.0427334332334\n",
      "1.0 0.0825111718347\n",
      "0.0907218423253 0.0247993621055\n",
      "0.147441956155 0.0294935223507\n",
      "0.226804605813 0.0366678363115\n",
      "0.0453609211627 0.0265387920903\n",
      "0.0629940788349 0.0340356643823\n",
      "0.304290309725 0.0364853647671\n",
      "0.314970394174 0.0425287355403\n",
      "0.0481125224325 0.0275860549507\n",
      "0.111111111111 0.0517060969334\n",
      "0.0907218423253 0.0247993621055\n",
      "1.0 0.0559978818243\n",
      "0.160514470781 0.0246323301518\n",
      "0.037037037037 0.0199670598838\n",
      "0.037037037037 0.0237554458811\n",
      "0.0514344499874 0.0290472154109\n",
      "0.198761598 0.0352865210151\n",
      "0.0514344499874 0.0197576309608\n",
      "0.260643017571 0.0343972991294\n",
      "0.0 0.0459791795506\n",
      "0.147441956155 0.0294935223507\n",
      "0.160514470781 0.0246323301518\n",
      "1.0 0.104779574167\n",
      "0.120385853086 0.0280099326803\n",
      "0.0802572353905 0.0307319003748\n",
      "0.167183463773 0.0374185338471\n",
      "0.215352760823 0.0397976362262\n",
      "0.22291128503 0.026810570382\n",
      "0.0962250448649 0.0284270779943\n",
      "0.0555555555556 0.0530059470444\n",
      "0.226804605813 0.0366678363115\n",
      "0.037037037037 0.0199670598838\n",
      "0.120385853086 0.0280099326803\n",
      "1.0 0.0536704303934\n",
      "0.037037037037 0.0291570279268\n",
      "0.0 0.0282548020105\n",
      "0.0 0.0345660558405\n",
      "0.154303349962 0.0195313280697\n",
      "0.0962250448649 0.0309761493416\n",
      "0.0555555555556 0.0599888306138\n",
      "0.0453609211627 0.0265387920903\n",
      "0.037037037037 0.0237554458811\n",
      "0.0802572353905 0.0307319003748\n",
      "0.037037037037 0.0291570279268\n",
      "1.0 0.0849681953849\n",
      "0.0514344499874 0.0357288855713\n",
      "0.1490711985 0.0404608743844\n",
      "0.0514344499874 0.0248617772979\n",
      "0.133630620956 0.0612729532372\n",
      "0.0 0.0587493458922\n",
      "0.0629940788349 0.0340356643823\n",
      "0.0514344499874 0.0290472154109\n",
      "0.167183463773 0.0374185338471\n",
      "0.0 0.0282548020105\n",
      "0.0514344499874 0.0357288855713\n",
      "1.0 0.141774325448\n",
      "0.138013111868 0.0588878713879\n",
      "0.142857142857 0.0662242122956\n",
      "0.129099444874 0.050958474396\n",
      "0.0 0.0743429391959\n",
      "0.304290309725 0.0364853647671\n",
      "0.198761598 0.0352865210151\n",
      "0.215352760823 0.0397976362262\n",
      "0.0 0.0345660558405\n",
      "0.1490711985 0.0404608743844\n",
      "0.138013111868 0.0588878713879\n",
      "1.0 0.153461199295\n",
      "0.276026223737 0.0392728567729\n",
      "0.200445931434 0.0537362984238\n",
      "0.0 0.0400359248595\n",
      "0.314970394174 0.0425287355403\n",
      "0.0514344499874 0.0197576309608\n",
      "0.22291128503 0.026810570382\n",
      "0.154303349962 0.0195313280697\n",
      "0.0514344499874 0.0248617772979\n",
      "0.142857142857 0.0662242122956\n",
      "0.276026223737 0.0392728567729\n",
      "1.0 0.137\n"
     ]
    }
   ],
   "source": [
    "for i in multi_net.nodes():\n",
    "    for j in multi_net.nodes():\n",
    "        if (cosine_sim(i,j)):\n",
    "            multi_net.add_edge(i,j, weight = cosine_sim(i,j), color = 'blue')\n",
    "        if (semantic_sim(i,j)):\n",
    "            multi_net.add_edge(i,j, weight = semantic_sim(i,j), color = 'green')\n",
    "\n",
    "        print cosine_sim(i,j), semantic_sim(i,j)"
   ]
  },
  {
   "cell_type": "code",
   "execution_count": 43,
   "metadata": {
    "collapsed": false
   },
   "outputs": [
    {
     "data": {
      "image/png": "[encoded data removed]",
      "text/plain": [
       "<matplotlib.figure.Figure at 0x7f9cac911dd0>"
      ]
     },
     "metadata": {},
     "output_type": "display_data"
    }
   ],
   "source": [
    "nx.draw_spectral(multi_net)"
   ]
  },
  {
   "cell_type": "code",
   "execution_count": 45,
   "metadata": {
    "collapsed": false
   },
   "outputs": [
    {
     "data": {
      "image/png": "[encoded data removed]",
      "text/plain": [
       "<matplotlib.figure.Figure at 0x7f9c72716090>"
      ]
     },
     "metadata": {},
     "output_type": "display_data"
    }
   ],
   "source": [
    "nx.draw(multi_net, node_color='c',edge_color='pink')"
   ]
  },
  {
   "cell_type": "code",
   "execution_count": null,
   "metadata": {
    "collapsed": false
   },
   "outputs": [],
   "source": [
    "nx.draw_circular(multi_net)"
   ]
  },
  {
   "cell_type": "code",
   "execution_count": null,
   "metadata": {
    "collapsed": false
   },
   "outputs": [],
   "source": [
    "pos = nx.circular_layout(multi_net)\n",
    "nx.draw_networkx_nodes(multi_net, pos)\n",
    "#nx.draw_networkx_edges(multi_net, pos, edge_color='blue')\n",
    "#nx.draw_networkx_edges(multi_net, pos, edge_color = 'green')\n",
    "plt.axis('off')\n",
    "plt.show() "
   ]
  },
  {
   "cell_type": "code",
   "execution_count": null,
   "metadata": {
    "collapsed": false
   },
   "outputs": [],
   "source": [
    "import plotly\n",
    "print plotly.__version__            # version 1.9.4 required\n",
    "plotly.offline.init_notebook_mode() # run at the start of every notebook\n",
    "plotly.offline.iplot({\n",
    "\"data\": [{\n",
    "    \"x\": [1, 2, 3],\n",
    "    \"y\": [4, 2, 5]\n",
    "}],\n",
    "\"layout\": {\n",
    "    \"title\": \"hello world\"\n",
    "}\n",
    "})"
   ]
  },
  {
   "cell_type": "code",
   "execution_count": null,
   "metadata": {
    "collapsed": false
   },
   "outputs": [],
   "source": [
    "nx.draw(net, node_color='c',edge_color='pink')"
   ]
  },
  {
   "cell_type": "code",
   "execution_count": null,
   "metadata": {
    "collapsed": false
   },
   "outputs": [],
   "source": [
    "nx.draw_spectral(net, node_color='c',edge_color='pink')"
   ]
  },
  {
   "cell_type": "code",
   "execution_count": null,
   "metadata": {
    "collapsed": true
   },
   "outputs": [],
   "source": [
    "import plotly.plotly as py\n",
    "from plotly.graph_objs import *"
   ]
  },
  {
   "cell_type": "code",
   "execution_count": null,
   "metadata": {
    "collapsed": true
   },
   "outputs": [],
   "source": [
    "def scatter_nodes(pos, labels=None, color=None, size=20, opacity=1):\n",
    "    # pos is the dict of node positions\n",
    "    # labels is a list  of labels of len(pos), to be displayed when hovering the mouse over the nodes\n",
    "    # color is the color for nodes. When it is set as None the Plotly default color is used\n",
    "    # size is the size of the dots representing the nodes\n",
    "    #opacity is a value between [0,1] defining the node color opacity\n",
    "    L=len(pos)\n",
    "    trace = Scatter(x=[], y=[],  mode='markers', marker=Marker(size=[]))\n",
    "    for k in range(L):\n",
    "        trace['x'].append(pos[k][0])\n",
    "        trace['y'].append(pos[k][1])\n",
    "    attrib=dict(name='', text=labels , hoverinfo='text', opacity=opacity) # a dict of Plotly node attributes\n",
    "    trace=dict(trace, **attrib)# concatenate the dict trace and attrib\n",
    "    trace['marker']['size']=size\n",
    "    return trace       "
   ]
  },
  {
   "cell_type": "code",
   "execution_count": null,
   "metadata": {
    "collapsed": true
   },
   "outputs": [],
   "source": [
    "def scatter_edges(G, pos, line_color=None, line_width=1):\n",
    "    trace = Scatter(x=[], y=[], mode='lines')\n",
    "    for edge in G.edges():\n",
    "        trace['x'] += [pos[edge[0]][0],pos[edge[1]][0], None]\n",
    "        trace['y'] += [pos[edge[0]][1],pos[edge[1]][1], None]  \n",
    "        trace['hoverinfo']='none'\n",
    "        trace['line']['width']=line_width\n",
    "        if line_color is not None: # when it is None a default Plotly color is used\n",
    "            trace['line']['color']=line_color\n",
    "    return trace        "
   ]
  },
  {
   "cell_type": "code",
   "execution_count": null,
   "metadata": {
    "collapsed": true
   },
   "outputs": [],
   "source": [
    "pos=nx.fruchterman_reingold_layout(net)     "
   ]
  },
  {
   "cell_type": "code",
   "execution_count": null,
   "metadata": {
    "collapsed": false,
    "scrolled": true
   },
   "outputs": [],
   "source": [
    "\n",
    "\n",
    "labels=[str(k)  for k in range(len(pos))] # labels are  set as being the nodes indices in the list of nodes\n",
    "trace1=scatter_edges(net, pos)\n",
    "trace2=scatter_nodes(pos, labels=labels)\n",
    "\n"
   ]
  },
  {
   "cell_type": "code",
   "execution_count": null,
   "metadata": {
    "collapsed": true
   },
   "outputs": [],
   "source": []
  }
 ],
 "metadata": {
  "kernelspec": {
   "display_name": "Python 2",
   "language": "python",
   "name": "python2"
  },
  "language_info": {
   "codemirror_mode": {
    "name": "ipython",
    "version": 2
   },
   "file_extension": ".py",
   "mimetype": "text/x-python",
   "name": "python",
   "nbconvert_exporter": "python",
   "pygments_lexer": "ipython2",
   "version": "2.7.11"
  }
 },
 "nbformat": 4,
 "nbformat_minor": 0
}

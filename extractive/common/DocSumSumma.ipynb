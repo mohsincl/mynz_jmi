{
 "cells": [
  {
   "cell_type": "markdown",
   "metadata": {},
   "source": [
    "## Document Summerizer (uses summa)"
   ]
  },
  {
   "cell_type": "code",
   "execution_count": 1,
   "metadata": {
    "collapsed": true
   },
   "outputs": [],
   "source": [
    "## install using:\n",
    "## pip install summa"
   ]
  },
  {
   "cell_type": "code",
   "execution_count": 5,
   "metadata": {
    "collapsed": false
   },
   "outputs": [
    {
     "name": "stdout",
     "output_type": "stream",
     "text": [
      "such scenes are being played out across the country friday as unions have called for workers to step up protests that have for the past week crippled parts of france.\n",
      "the workers are protesting a labor reform bill put forward by the government that will make it easier for companies to hire and fire employees.\n"
     ]
    }
   ],
   "source": [
    "text = '''\n",
    "burning tires tear gas and clashes with riot police the ugly scenes that come with workers strikes are all too familiar in france a country constantly trying to balance its culture of workers rights with a more efficient economy.\n",
    "such scenes are being played out across the country friday as unions have called for workers to step up protests that have for the past week crippled parts of france.\n",
    "employees of oil refineries nuclear power plants and some public transportation have left one in three gas stations dry forcing vehicles to search for well stocked stations and causing long lines at the pump.\n",
    "people are now hoarding gas worried that it may be some time until supply levels are back to normal.\n",
    "the workers are protesting a labor reform bill put forward by the government that will make it easier for companies to hire and fire employees.\n",
    "the governments argument is that the strict laws that make french workers among the best protected in the world leave companies in a difficult position where they cant take on new staff.\n",
    "french prime minister manuel valls told local media on thursday that he might be willing to modify some of the proposals giving hope to french people that the protests and fuel shortages may soon stop.\n",
    "but workers unions friday responded with a call to step up rallies and blockades demanding a complete withdrawal of the bill.\n",
    "we call for the continuation and intensification of protests a group of unions behind the protests said in a statement.\n",
    "the governments violent words its contempt for the social movement and its refusal to withdraw this bill reinforces our commitment it said.\n",
    "'''\n",
    "from summa import summarizer\n",
    "print summarizer.summarize(text)"
   ]
  },
  {
   "cell_type": "code",
   "execution_count": 6,
   "metadata": {
    "collapsed": false
   },
   "outputs": [
    {
     "name": "stdout",
     "output_type": "stream",
     "text": [
      "french\n",
      "gas\n",
      "workers\n",
      "stations\n",
      "friday\n",
      "giving\n",
      "leave\n",
      "long\n",
      "violent\n",
      "government\n",
      "governments\n",
      "week crippled\n",
      "refineries nuclear power\n",
      "local\n",
      "forcing\n"
     ]
    }
   ],
   "source": [
    "from summa import keywords\n",
    "print keywords.keywords(text)"
   ]
  },
  {
   "cell_type": "code",
   "execution_count": 7,
   "metadata": {
    "collapsed": false
   },
   "outputs": [
    {
     "name": "stdout",
     "output_type": "stream",
     "text": [
      "such scenes are being played out across the country friday as unions have called for workers to step up protests that have for the past week crippled parts of france.\n",
      "the workers are protesting a labor reform bill put forward by the government that will make it easier for companies to hire and fire employees.\n"
     ]
    }
   ],
   "source": [
    "print summarizer.summarize(text, words = 50)"
   ]
  },
  {
   "cell_type": "code",
   "execution_count": 8,
   "metadata": {
    "collapsed": false
   },
   "outputs": [
    {
     "name": "stdout",
     "output_type": "stream",
     "text": [
      "such scenes are being played out across the country friday as unions have called for workers to step up protests that have for the past week crippled parts of france.\n",
      "the workers are protesting a labor reform bill put forward by the government that will make it easier for companies to hire and fire employees.\n"
     ]
    }
   ],
   "source": [
    "print summarizer.summarize(text, ratio = 0.2)"
   ]
  },
  {
   "cell_type": "code",
   "execution_count": null,
   "metadata": {
    "collapsed": true
   },
   "outputs": [],
   "source": []
  }
 ],
 "metadata": {
  "kernelspec": {
   "display_name": "Python 2",
   "language": "python",
   "name": "python2"
  },
  "language_info": {
   "codemirror_mode": {
    "name": "ipython",
    "version": 2
   },
   "file_extension": ".py",
   "mimetype": "text/x-python",
   "name": "python",
   "nbconvert_exporter": "python",
   "pygments_lexer": "ipython2",
   "version": "2.7.11"
  }
 },
 "nbformat": 4,
 "nbformat_minor": 0
}

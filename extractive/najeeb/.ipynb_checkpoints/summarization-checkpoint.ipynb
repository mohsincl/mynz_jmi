{
 "cells": [
  {
   "cell_type": "markdown",
   "metadata": {
    "collapsed": true
   },
   "source": [
    "# EXTRACTIVE SUMMARIZATION\n",
    "# Sentence Scoring"
   ]
  },
  {
   "cell_type": "code",
   "execution_count": 1,
   "metadata": {
    "collapsed": false
   },
   "outputs": [],
   "source": [
    "from nltk.corpus import stopwords\n",
    "import networkx as nx\n",
    "import nltk\n",
    "from sklearn.feature_extraction.text import TfidfVectorizer\n",
    "import string\n",
    "from nltk.corpus import wordnet as wn\n",
    "import matplotlib.pyplot as plt"
   ]
  },
  {
   "cell_type": "code",
   "execution_count": 2,
   "metadata": {
    "collapsed": false
   },
   "outputs": [
    {
     "name": "stdout",
     "output_type": "stream",
     "text": [
      "soon : 0.00617283950617\n",
      "violent : 0.00617283950617\n",
      "behind : 0.00617283950617\n",
      "staff : 0.00617283950617\n",
      "police : 0.00617283950617\n",
      "workers : 0.037037037037\n",
      "pump : 0.00617283950617\n",
      "thursday : 0.00617283950617\n",
      "labor : 0.00617283950617\n",
      "clashes : 0.00617283950617\n",
      "parts : 0.00617283950617\n",
      "fuel : 0.00617283950617\n",
      "local : 0.00617283950617\n",
      "easier : 0.00617283950617\n",
      "hope : 0.00617283950617\n",
      "stocked : 0.00617283950617\n",
      "government : 0.00617283950617\n",
      "familiar : 0.00617283950617\n",
      "stop : 0.00617283950617\n",
      "refineries : 0.00617283950617\n",
      "words : 0.00617283950617\n",
      "world : 0.00617283950617\n",
      "governments : 0.0123456790123\n",
      "prime : 0.00617283950617\n",
      "tear : 0.00617283950617\n",
      "companies : 0.0123456790123\n",
      "worried : 0.00617283950617\n",
      "leave : 0.00617283950617\n",
      "intensification : 0.00617283950617\n",
      "withdrawal : 0.00617283950617\n",
      "difficult : 0.00617283950617\n",
      "people : 0.0123456790123\n",
      "proposals : 0.00617283950617\n",
      "back : 0.00617283950617\n",
      "tires : 0.00617283950617\n",
      "culture : 0.00617283950617\n",
      "best : 0.00617283950617\n",
      "might : 0.00617283950617\n",
      "said : 0.0123456790123\n",
      "reform : 0.00617283950617\n",
      "giving : 0.00617283950617\n",
      "nuclear : 0.00617283950617\n",
      "public : 0.00617283950617\n",
      "unions : 0.0185185185185\n",
      "new : 0.00617283950617\n",
      "across : 0.00617283950617\n",
      "told : 0.00617283950617\n",
      "refusal : 0.00617283950617\n",
      "transportation : 0.00617283950617\n",
      "power : 0.00617283950617\n",
      "friday : 0.0123456790123\n",
      "modify : 0.00617283950617\n",
      "french : 0.0185185185185\n",
      "step : 0.0123456790123\n",
      "crippled : 0.00617283950617\n",
      "put : 0.00617283950617\n",
      "group : 0.00617283950617\n",
      "come : 0.00617283950617\n",
      "dry : 0.00617283950617\n",
      "search : 0.00617283950617\n",
      "stations : 0.0123456790123\n",
      "reinforces : 0.00617283950617\n",
      "country : 0.0123456790123\n",
      "employees : 0.0123456790123\n",
      "movement : 0.00617283950617\n",
      "social : 0.00617283950617\n",
      "among : 0.00617283950617\n",
      "protests : 0.0246913580247\n",
      "burning : 0.00617283950617\n",
      "supply : 0.00617283950617\n",
      "continuation : 0.00617283950617\n",
      "commitment : 0.00617283950617\n",
      "one : 0.00617283950617\n",
      "blockades : 0.00617283950617\n",
      "hoarding : 0.00617283950617\n",
      "constantly : 0.00617283950617\n",
      "three : 0.00617283950617\n",
      "long : 0.00617283950617\n",
      "france : 0.0123456790123\n",
      "strict : 0.00617283950617\n",
      "willing : 0.00617283950617\n",
      "call : 0.0123456790123\n",
      "statement : 0.00617283950617\n",
      "forward : 0.00617283950617\n",
      "complete : 0.00617283950617\n",
      "riot : 0.00617283950617\n",
      "shortages : 0.00617283950617\n",
      "fire : 0.00617283950617\n",
      "gas : 0.0185185185185\n",
      "strikes : 0.00617283950617\n",
      "minister : 0.00617283950617\n",
      "trying : 0.00617283950617\n",
      "plants : 0.00617283950617\n",
      "past : 0.00617283950617\n",
      "hire : 0.00617283950617\n",
      "rights : 0.00617283950617\n",
      "protesting : 0.00617283950617\n",
      "bill : 0.0185185185185\n",
      "scenes : 0.0123456790123\n",
      "ugly : 0.00617283950617\n",
      "protected : 0.00617283950617\n",
      "manuel : 0.00617283950617\n",
      "balance : 0.00617283950617\n",
      "called : 0.00617283950617\n",
      "valls : 0.00617283950617\n",
      "played : 0.00617283950617\n",
      "well : 0.00617283950617\n",
      "argument : 0.00617283950617\n",
      "cant : 0.00617283950617\n",
      "contempt : 0.00617283950617\n",
      "efficient : 0.00617283950617\n",
      "media : 0.00617283950617\n",
      "make : 0.0123456790123\n",
      "causing : 0.00617283950617\n",
      "take : 0.00617283950617\n",
      "forcing : 0.00617283950617\n",
      "economy : 0.00617283950617\n",
      "week : 0.00617283950617\n",
      "oil : 0.00617283950617\n",
      "normal : 0.00617283950617\n",
      "may : 0.0123456790123\n",
      "rallies : 0.00617283950617\n",
      "demanding : 0.00617283950617\n",
      "levels : 0.00617283950617\n",
      "vehicles : 0.00617283950617\n",
      "lines : 0.00617283950617\n",
      "withdraw : 0.00617283950617\n",
      "time : 0.00617283950617\n",
      "position : 0.00617283950617\n",
      "left : 0.00617283950617\n",
      "responded : 0.00617283950617\n",
      "laws : 0.00617283950617\n"
     ]
    }
   ],
   "source": [
    "## Stopwords removal using the stopwords corpus from nltk\n",
    "## Counting the number of each words in the text\n",
    "## This could be done easily with the help of a dictionary\n",
    "dic = dict()\n",
    "count = 0    ## Number of words (excluding stop words in the text)\n",
    "with open(\"cnn\",\"r\") as text:\n",
    "    for line in text:\n",
    "        for word in line.split(' '):\n",
    "            word = word.strip()\n",
    "            if word not in stopwords.words('english'):\n",
    "                count = count + 1\n",
    "                try:\n",
    "                    dic[word] += 1\n",
    "                except:\n",
    "                    dic[word] = 1\n",
    "## Term-frequency of each word is its frequncy divided by the total number of words\n",
    "## Printing each word in the text and its frequency\n",
    "for key in dic:\n",
    "    dic[key] = float(dic[key])/count    ## Term frequency\n",
    "    print key + \" : \" + str(dic[key])"
   ]
  },
  {
   "cell_type": "code",
   "execution_count": 3,
   "metadata": {
    "collapsed": false
   },
   "outputs": [
    {
     "name": "stdout",
     "output_type": "stream",
     "text": [
      "burning tires tear gas and clashes with riot police the ugly scenes that come with workers strikes are all too familiar in france a country constantly trying to balance its culture of workers rights with a more efficient economy\n",
      " : 0.234567901235\n",
      "such scenes are being played out across the country friday as unions have called for workers to step up protests that have for the past week crippled parts of france\n",
      " : 0.185185185185\n",
      "employees of oil refineries nuclear power plants and some public transportation have left one in three gas stations dry forcing vehicles to search for well stocked stations and causing long lines at the pump\n",
      " : 0.179012345679\n",
      "people are now hoarding gas worried that it may be some time until supply levels are back to normal\n",
      " : 0.0864197530864\n",
      "the workers are protesting a labor reform bill put forward by the government that will make it easier for companies to hire and fire employees\n",
      " : 0.148148148148\n",
      "the governments argument is that the strict laws that make french workers among the best protected in the world leave companies in a difficult position where they cant take on new staff\n",
      " : 0.179012345679\n",
      "french prime minister manuel valls told local media on thursday that he might be willing to modify some of the proposals giving hope to french people that the protests and fuel shortages may soon stop\n",
      " : 0.197530864198\n",
      "but workers unions friday responded with a call to step up rallies and blockades demanding a complete withdrawal of the bill\n",
      " : 0.148148148148\n",
      "we call for the continuation and intensification of protests a group of unions behind the protests said in a statement\n",
      " : 0.123456790123\n",
      "the governments violent words its contempt for the social movement and its refusal to withdraw this bill reinforces our commitment it said : 0.0987654320988\n"
     ]
    }
   ],
   "source": [
    "## Calculating the term frequency of each of the sentence\n",
    "## tf contains the term frequncy score of each sentence as a hash to the sentence number in the document\n",
    "tf = list()\n",
    "with open(\"cnn\",\"r\") as text:\n",
    "    for line in text:\n",
    "        score = 0\n",
    "        for word in line.split(' '):\n",
    "            word = word.strip()\n",
    "            if word not in stopwords.words('english'):\n",
    "                score = score + dic[word]\n",
    "        print line + \" : \" + str(score)\n",
    "        tf.append(score)\n",
    "            "
   ]
  },
  {
   "cell_type": "markdown",
   "metadata": {},
   "source": [
    "# Sentence Clustering"
   ]
  },
  {
   "cell_type": "code",
   "execution_count": 4,
   "metadata": {
    "collapsed": false
   },
   "outputs": [
    {
     "data": {
      "text/plain": [
       "0.3360969272762574"
      ]
     },
     "execution_count": 4,
     "metadata": {},
     "output_type": "execute_result"
    }
   ],
   "source": [
    "## STATISTICAL SIMILARITY\n",
    "def statistical(si,sj):\n",
    "    ## Stemming the strings so that they donot contain any verb forms\n",
    "    stemmer = nltk.stem.porter.PorterStemmer()\n",
    "    remove_punctuation_map =dict((ord(char),None) for char in string.punctuation)\n",
    "    def stem_tokens(tokens):\n",
    "        return [stemmer.stem(item) for item in tokens]\n",
    "    ## Normalizing the text i.e removing both the verb forms and also the punctuation if any\n",
    "    def normalize(text):\n",
    "        return stem_tokens(nltk.word_tokenize(text.lower().translate(remove_punctuation_map)))\n",
    "    ## Vectorizing the string inputs to be used to calculate the cosine similarity\n",
    "    vectorizer = TfidfVectorizer(tokenizer = normalize,stop_words = 'english')\n",
    "    tfidf = vectorizer.fit_transform([si,sj])\n",
    "    ## Calculating the cosine similarity\n",
    "    return ((tfidf * tfidf.T).A)[0,1]\n",
    "statistical(\"Hello my name is Najeeb\",\"Hello my name is Yasir\")"
   ]
  },
  {
   "cell_type": "code",
   "execution_count": 5,
   "metadata": {
    "collapsed": false
   },
   "outputs": [
    {
     "name": "stdout",
     "output_type": "stream",
     "text": [
      "0.427457264957\n"
     ]
    }
   ],
   "source": [
    "## SEMANTIC SIMILARITY\n",
    "## Calculating the semantic similarity between two sentences using WordNet\n",
    "def semantic_score(word1, word2):\n",
    "    try:\n",
    "        w1 = wn.synset('%s.n.01'%(word1))\n",
    "        w2 = wn.synset('%s.n.01'%(word2))\n",
    "        return w1.path_similarity(w2)\n",
    "    except:\n",
    "        return 0\n",
    "## Calculate the semantic score of two sentences\n",
    "## What should be the method to normalize these scores? I divided the result by total number of comparisons\n",
    "def sentence_semantic(string1, string2):\n",
    "    score,count = 0,0\n",
    "    token1 = nltk.word_tokenize(string1)\n",
    "    token2 = nltk.word_tokenize(string2)\n",
    "    for t1 in nltk.pos_tag(token1):\n",
    "        for t2 in nltk.pos_tag(token2):\n",
    "            if(t1[1] == 'NN' and t2[1] == 'NN'):\n",
    "                score += semantic_score(t1[0],t2[0])\n",
    "                count += 1\n",
    "    return score\n",
    "print sentence_semantic('this is a gorilla eating a fruit', 'this is a cat drinking milk')"
   ]
  },
  {
   "cell_type": "code",
   "execution_count": 6,
   "metadata": {
    "collapsed": true
   },
   "outputs": [],
   "source": [
    "## COREFERENCE RESOLUTION\n",
    "##TODO"
   ]
  },
  {
   "cell_type": "code",
   "execution_count": 7,
   "metadata": {
    "collapsed": true
   },
   "outputs": [],
   "source": [
    "## DISCOURSE RELATIONS\n",
    "##TODO"
   ]
  },
  {
   "cell_type": "code",
   "execution_count": 9,
   "metadata": {
    "collapsed": false
   },
   "outputs": [
    {
     "name": "stdout",
     "output_type": "stream",
     "text": [
      "Enter the name of the document: cnn\n",
      "44\n"
     ]
    }
   ],
   "source": [
    "## GRAPH IMPLEMENTATION OF THE TEXT\n",
    "## Using the NetworkX library and constructing edges\n",
    "## between the graph only on the basis of semantic\n",
    "## and syntactic similarity of the two node\n",
    "G = nx.Graph()\n",
    "filename = str(raw_input(\"Enter the name of the document: \"))\n",
    "with open(filename,\"r\") as text:\n",
    "    for line in text:\n",
    "        G.add_node(line)\n",
    "for nodei in G.nodes():\n",
    "    for nodej in G.nodes():\n",
    "        if nodei != nodej:\n",
    "            if(statistical(nodei,nodej) > 1):\n",
    "                G.add_edge(nodei,nodej)\n",
    "            if(sentence_semantic(nodei,nodej) > 0.8):\n",
    "                G.add_edge(nodei,nodej)\n",
    "                \n",
    "print \"Number of edges in the graph\" + \" : \" + len(G.edges())\n",
    "nx.draw_circular(G)\n",
    "plt.show()"
   ]
  },
  {
   "cell_type": "code",
   "execution_count": null,
   "metadata": {
    "collapsed": true
   },
   "outputs": [],
   "source": []
  }
 ],
 "metadata": {
  "kernelspec": {
   "display_name": "Python 2",
   "language": "python",
   "name": "python2"
  },
  "language_info": {
   "codemirror_mode": {
    "name": "ipython",
    "version": 2
   },
   "file_extension": ".py",
   "mimetype": "text/x-python",
   "name": "python",
   "nbconvert_exporter": "python",
   "pygments_lexer": "ipython2",
   "version": "2.7.11"
  }
 },
 "nbformat": 4,
 "nbformat_minor": 0
}

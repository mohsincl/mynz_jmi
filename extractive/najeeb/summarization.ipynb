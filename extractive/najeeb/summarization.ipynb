{
 "cells": [
  {
   "cell_type": "markdown",
   "metadata": {
    "collapsed": true
   },
   "source": [
    "# EXTRACTIVE SUMMARIZATION\n",
    "# Sentence Scoring"
   ]
  },
  {
   "cell_type": "code",
   "execution_count": 48,
   "metadata": {
    "collapsed": false
   },
   "outputs": [
    {
     "name": "stdout",
     "output_type": "stream",
     "text": [
      "Populating the interactive namespace from numpy and matplotlib\n"
     ]
    },
    {
     "name": "stderr",
     "output_type": "stream",
     "text": [
      "WARNING: pylab import has clobbered these variables: ['text']\n",
      "`%matplotlib` prevents importing * from pylab and numpy\n"
     ]
    }
   ],
   "source": [
    "from nltk.corpus import stopwords\n",
    "import networkx as nx\n",
    "import nltk\n",
    "from sklearn.feature_extraction.text import TfidfVectorizer\n",
    "import string\n",
    "from nltk.corpus import wordnet as wn\n",
    "import matplotlib.pyplot as plt\n",
    "from collections import Counter\n",
    "import re\n",
    "\n",
    "%pylab inline"
   ]
  },
  {
   "cell_type": "code",
   "execution_count": 45,
   "metadata": {
    "collapsed": false
   },
   "outputs": [
    {
     "name": "stdout",
     "output_type": "stream",
     "text": [
      "soon : 0.00617283950617\n",
      "violent : 0.00617283950617\n",
      "behind : 0.00617283950617\n",
      "staff : 0.00617283950617\n",
      "police : 0.00617283950617\n",
      "workers : 0.037037037037\n",
      "pump : 0.00617283950617\n",
      "thursday : 0.00617283950617\n",
      "labor : 0.00617283950617\n",
      "clashes : 0.00617283950617\n",
      "parts : 0.00617283950617\n",
      "fuel : 0.00617283950617\n",
      "local : 0.00617283950617\n",
      "easier : 0.00617283950617\n",
      "hope : 0.00617283950617\n",
      "stocked : 0.00617283950617\n",
      "government : 0.00617283950617\n",
      "familiar : 0.00617283950617\n",
      "stop : 0.00617283950617\n",
      "refineries : 0.00617283950617\n",
      "words : 0.00617283950617\n",
      "world : 0.00617283950617\n",
      "governments : 0.0123456790123\n",
      "prime : 0.00617283950617\n",
      "tear : 0.00617283950617\n",
      "companies : 0.0123456790123\n",
      "worried : 0.00617283950617\n",
      "leave : 0.00617283950617\n",
      "intensification : 0.00617283950617\n",
      "withdrawal : 0.00617283950617\n",
      "difficult : 0.00617283950617\n",
      "people : 0.0123456790123\n",
      "proposals : 0.00617283950617\n",
      "back : 0.00617283950617\n",
      "tires : 0.00617283950617\n",
      "culture : 0.00617283950617\n",
      "best : 0.00617283950617\n",
      "might : 0.00617283950617\n",
      "said : 0.0123456790123\n",
      "reform : 0.00617283950617\n",
      "giving : 0.00617283950617\n",
      "nuclear : 0.00617283950617\n",
      "public : 0.00617283950617\n",
      "unions : 0.0185185185185\n",
      "new : 0.00617283950617\n",
      "across : 0.00617283950617\n",
      "told : 0.00617283950617\n",
      "refusal : 0.00617283950617\n",
      "transportation : 0.00617283950617\n",
      "power : 0.00617283950617\n",
      "friday : 0.0123456790123\n",
      "modify : 0.00617283950617\n",
      "french : 0.0185185185185\n",
      "step : 0.0123456790123\n",
      "crippled : 0.00617283950617\n",
      "put : 0.00617283950617\n",
      "group : 0.00617283950617\n",
      "come : 0.00617283950617\n",
      "dry : 0.00617283950617\n",
      "search : 0.00617283950617\n",
      "stations : 0.0123456790123\n",
      "reinforces : 0.00617283950617\n",
      "country : 0.0123456790123\n",
      "employees : 0.0123456790123\n",
      "movement : 0.00617283950617\n",
      "social : 0.00617283950617\n",
      "among : 0.00617283950617\n",
      "protests : 0.0246913580247\n",
      "burning : 0.00617283950617\n",
      "supply : 0.00617283950617\n",
      "continuation : 0.00617283950617\n",
      "commitment : 0.00617283950617\n",
      "one : 0.00617283950617\n",
      "blockades : 0.00617283950617\n",
      "hoarding : 0.00617283950617\n",
      "constantly : 0.00617283950617\n",
      "three : 0.00617283950617\n",
      "long : 0.00617283950617\n",
      "france : 0.0123456790123\n",
      "strict : 0.00617283950617\n",
      "willing : 0.00617283950617\n",
      "call : 0.0123456790123\n",
      "statement : 0.00617283950617\n",
      "forward : 0.00617283950617\n",
      "complete : 0.00617283950617\n",
      "riot : 0.00617283950617\n",
      "shortages : 0.00617283950617\n",
      "fire : 0.00617283950617\n",
      "gas : 0.0185185185185\n",
      "strikes : 0.00617283950617\n",
      "minister : 0.00617283950617\n",
      "trying : 0.00617283950617\n",
      "plants : 0.00617283950617\n",
      "past : 0.00617283950617\n",
      "hire : 0.00617283950617\n",
      "rights : 0.00617283950617\n",
      "protesting : 0.00617283950617\n",
      "bill : 0.0185185185185\n",
      "scenes : 0.0123456790123\n",
      "ugly : 0.00617283950617\n",
      "protected : 0.00617283950617\n",
      "manuel : 0.00617283950617\n",
      "balance : 0.00617283950617\n",
      "called : 0.00617283950617\n",
      "valls : 0.00617283950617\n",
      "played : 0.00617283950617\n",
      "well : 0.00617283950617\n",
      "argument : 0.00617283950617\n",
      "cant : 0.00617283950617\n",
      "contempt : 0.00617283950617\n",
      "efficient : 0.00617283950617\n",
      "media : 0.00617283950617\n",
      "make : 0.0123456790123\n",
      "causing : 0.00617283950617\n",
      "take : 0.00617283950617\n",
      "forcing : 0.00617283950617\n",
      "economy : 0.00617283950617\n",
      "week : 0.00617283950617\n",
      "oil : 0.00617283950617\n",
      "normal : 0.00617283950617\n",
      "may : 0.0123456790123\n",
      "rallies : 0.00617283950617\n",
      "demanding : 0.00617283950617\n",
      "levels : 0.00617283950617\n",
      "vehicles : 0.00617283950617\n",
      "lines : 0.00617283950617\n",
      "withdraw : 0.00617283950617\n",
      "time : 0.00617283950617\n",
      "position : 0.00617283950617\n",
      "left : 0.00617283950617\n",
      "responded : 0.00617283950617\n",
      "laws : 0.00617283950617\n"
     ]
    }
   ],
   "source": [
    "## Stopwords removal using the stopwords corpus from nltk\n",
    "## Counting the number of each words in the text\n",
    "## This could be done easily with the help of a dictionary\n",
    "dic = dict()\n",
    "count = 0    ## Number of words (excluding stop words in the text)\n",
    "with open(\"cnn\",\"r\") as text:\n",
    "    for line in text:\n",
    "        for word in line.split(' '):\n",
    "            word = word.strip()\n",
    "            if word not in stopwords.words('english'):\n",
    "                count = count + 1\n",
    "                try:\n",
    "                    dic[word] += 1\n",
    "                except:\n",
    "                    dic[word] = 1\n",
    "## Term-frequency of each word is its frequncy divided by the total number of words\n",
    "## Printing each word in the text and its frequency\n",
    "for key in dic:\n",
    "    dic[key] = float(dic[key])/count    ## Term frequency\n",
    "    print key + \" : \" + str(dic[key])"
   ]
  },
  {
   "cell_type": "code",
   "execution_count": 46,
   "metadata": {
    "collapsed": false
   },
   "outputs": [
    {
     "name": "stdout",
     "output_type": "stream",
     "text": [
      "the workers are protesting a labor reform bill put forward by the government that will make it easier for companies to hire and fire employees\n",
      ":0.148148148148\n",
      "but workers unions friday responded with a call to step up rallies and blockades demanding a complete withdrawal of the bill\n",
      ":0.148148148148\n",
      "such scenes are being played out across the country friday as unions have called for workers to step up protests that have for the past week crippled parts of france\n",
      ":0.185185185185\n",
      "burning tires tear gas and clashes with riot police the ugly scenes that come with workers strikes are all too familiar in france a country constantly trying to balance its culture of workers rights with a more efficient economy\n",
      ":0.234567901235\n",
      "employees of oil refineries nuclear power plants and some public transportation have left one in three gas stations dry forcing vehicles to search for well stocked stations and causing long lines at the pump\n",
      ":0.179012345679\n",
      "we call for the continuation and intensification of protests a group of unions behind the protests said in a statement\n",
      ":0.123456790123\n",
      "the governments argument is that the strict laws that make french workers among the best protected in the world leave companies in a difficult position where they cant take on new staff\n",
      ":0.179012345679\n",
      "french prime minister manuel valls told local media on thursday that he might be willing to modify some of the proposals giving hope to french people that the protests and fuel shortages may soon stop\n",
      ":0.197530864198\n",
      "people are now hoarding gas worried that it may be some time until supply levels are back to normal\n",
      ":0.0864197530864\n",
      "the governments violent words its contempt for the social movement and its refusal to withdraw this bill reinforces our commitment it said:0.0987654320988\n"
     ]
    }
   ],
   "source": [
    "## Calculating the term frequency of each of the sentence\n",
    "## dic contains the term frequncy score of each sentence as a dictionary to the sentence in the document\n",
    "tf = dict()\n",
    "with open(\"cnn\",\"r\") as text:\n",
    "    for line in text:\n",
    "        score = 0\n",
    "        for word in line.split(' '):\n",
    "            word = word.strip()\n",
    "            if word not in stopwords.words('english'):\n",
    "                score = score + dic[word]\n",
    "        ##print line + \" : \" + str(score)\n",
    "        tf[line] = score\n",
    "for i in tf:\n",
    "    print i + \":\" + str(tf[i])"
   ]
  },
  {
   "cell_type": "markdown",
   "metadata": {},
   "source": [
    "# Sentence Clustering"
   ]
  },
  {
   "cell_type": "code",
   "execution_count": 49,
   "metadata": {
    "collapsed": false
   },
   "outputs": [
    {
     "name": "stdout",
     "output_type": "stream",
     "text": [
      "1.0\n",
      "0.321028941562\n",
      "0.32075014955\n",
      "0.274928699614\n",
      "0.218536689369\n",
      "0.290957186981\n",
      "0.388888888889\n",
      "0.264135271898\n",
      "0.209980262783\n",
      "0.339683110243\n",
      "0.321028941562\n",
      "1.0\n",
      "0.312771621086\n",
      "0.387241054677\n",
      "0.169127522873\n",
      "0.433460723432\n",
      "0.2106752429\n",
      "0.190788900225\n",
      "0.0455015755193\n",
      "0.204465205027\n",
      "0.32075014955\n",
      "0.312771621086\n",
      "1.0\n",
      "0.261904761905\n",
      "0.216295228174\n",
      "0.346467433592\n",
      "0.264618873379\n",
      "0.254164283888\n",
      "0.145478593491\n",
      "0.228802157661\n",
      "0.274928699614\n",
      "0.387241054677\n",
      "0.261904761905\n",
      "1.0\n",
      "0.162221421131\n",
      "0.269974623578\n",
      "0.247435829653\n",
      "0.17428408038\n",
      "0.155869921597\n",
      "0.168099544404\n",
      "0.218536689369\n",
      "0.169127522873\n",
      "0.216295228174\n",
      "0.162221421131\n",
      "1.0\n",
      "0.245255735794\n",
      "0.140487871737\n",
      "0.197908278398\n",
      "0.106198848811\n",
      "0.190885428893\n",
      "0.290957186981\n",
      "0.433460723432\n",
      "0.346467433592\n",
      "0.269974623578\n",
      "0.245255735794\n",
      "1.0\n",
      "0.327326835354\n",
      "0.259375687967\n",
      "0.0\n",
      "0.259437260831\n",
      "0.388888888889\n",
      "0.2106752429\n",
      "0.264618873379\n",
      "0.247435829653\n",
      "0.140487871737\n",
      "0.327326835354\n",
      "1.0\n",
      "0.330169089872\n",
      "0.0629940788349\n",
      "0.254762332683\n",
      "0.264135271898\n",
      "0.190788900225\n",
      "0.254164283888\n",
      "0.17428408038\n",
      "0.197908278398\n",
      "0.259375687967\n",
      "0.330169089872\n",
      "1.0\n",
      "0.266223330256\n",
      "0.209352011594\n",
      "0.209980262783\n",
      "0.0455015755193\n",
      "0.145478593491\n",
      "0.155869921597\n",
      "0.106198848811\n",
      "0.0\n",
      "0.0629940788349\n",
      "0.266223330256\n",
      "1.0\n",
      "0.0855920985022\n",
      "0.339683110243\n",
      "0.204465205027\n",
      "0.228802157661\n",
      "0.168099544404\n",
      "0.190885428893\n",
      "0.259437260831\n",
      "0.254762332683\n",
      "0.209352011594\n",
      "0.0855920985022\n",
      "1.0\n"
     ]
    }
   ],
   "source": [
    "'''## STATISTICAL SIMILARITY\n",
    "def statistical(si,sj):\n",
    "    ## Stemming the strings so that they donot contain any verb forms\n",
    "    stemmer = nltk.stem.porter.PorterStemmer()\n",
    "    remove_punctuation_map =dict((ord(char),None) for char in string.punctuation)\n",
    "    def stem_tokens(tokens):\n",
    "        return [stemmer.stem(item) for item in tokens]\n",
    "    ## Normalizing the text i.e removing both the verb forms and also the punctuation if any\n",
    "    def normalize(text):\n",
    "        return stem_tokens(nltk.word_tokenize(text.lower().translate(remove_punctuation_map)))\n",
    "    ## Vectorizing the string inputs to be used to calculate the cosine similarity\n",
    "    vectorizer = TfidfVectorizer(tokenizer = normalize,stop_words = 'english')\n",
    "    tfidf = vectorizer.fit_transform([si,sj])\n",
    "    ## Calculating the cosine similarity\n",
    "    return ((tfidf * tfidf.T).A)[0,1]\n",
    "for i in G.nodes():\n",
    "    for j in G.edges():\n",
    "        print statistical(i,j)\n",
    "'''\n",
    "def statistical(sen1, sen2):\n",
    "    #sen1 = sen1.strip().split()\n",
    "    #sen2 = sen2.strip().split()\n",
    "    #Case Insensitive Cosine Similarity\n",
    "    count1 = Counter(w.lower() for w in re.findall(r\"\\w+\", sen1))\n",
    "    count2 = Counter(w.lower() for w in re.findall(r\"\\w+\", sen2))\n",
    "    intxn = set(count1.keys()) & set(count2.keys())\n",
    "    num = sum([count1[x] * count2[x] for x in intxn])\n",
    "    mod1 = sum([count1[x]**2 for x in count1.keys()])\n",
    "    mod2 = sum([count2[x]**2 for x in count2.keys()])\n",
    "    den = sqrt(mod1)*sqrt(mod2)\n",
    "    return float(num)/den\n",
    "for i in G.nodes():\n",
    "    for j in G.nodes():\n",
    "        print statistical(i,j)"
   ]
  },
  {
   "cell_type": "code",
   "execution_count": 65,
   "metadata": {
    "collapsed": false
   },
   "outputs": [
    {
     "name": "stdout",
     "output_type": "stream",
     "text": [
      "1.0\n",
      "5.02852147852\n",
      "1.78745827186\n",
      "1.60895940145\n",
      "2.70363833363\n",
      "2.32264196072\n",
      "1.87656232656\n",
      "1.94357586858\n",
      "1.93355019164\n",
      "1.76954891514\n",
      "3.17811077811\n",
      "1.78745827186\n",
      "3.35624355005\n",
      "1.00693128251\n",
      "1.49423286981\n",
      "1.59405526964\n",
      "1.06913590795\n",
      "1.26175768676\n",
      "1.10585468453\n",
      "0.971695379784\n",
      "2.41455611382\n",
      "1.60895940145\n",
      "1.00693128251\n",
      "6.65450187068\n",
      "4.77776749394\n",
      "2.72113066672\n",
      "1.81017860708\n",
      "2.23515651016\n",
      "2.40105074664\n",
      "1.82995060495\n",
      "2.34632434559\n",
      "2.70363833363\n",
      "1.49423286981\n",
      "4.77776749394\n",
      "11.0821575483\n",
      "5.15174310983\n",
      "3.07115235556\n",
      "3.57708957709\n",
      "3.34094279903\n",
      "3.82316433566\n",
      "3.58638983565\n",
      "2.32264196072\n",
      "1.59405526964\n",
      "2.72113066672\n",
      "5.15174310983\n",
      "12.2354201354\n",
      "2.91318295568\n",
      "3.21032578533\n",
      "3.13571885631\n",
      "3.59932983683\n",
      "3.60818193245\n",
      "1.87656232656\n",
      "1.06913590795\n",
      "1.81017860708\n",
      "3.07115235556\n",
      "2.91318295568\n",
      "5.5246031746\n",
      "2.18175713176\n",
      "2.328910387\n",
      "2.23028817588\n",
      "2.8895965146\n",
      "1.94357586858\n",
      "1.26175768676\n",
      "2.23515651016\n",
      "3.57708957709\n",
      "3.21032578533\n",
      "2.18175713176\n",
      "6.94783549784\n",
      "2.39071206571\n",
      "2.05405150405\n",
      "2.82889055389\n",
      "1.93355019164\n",
      "1.10585468453\n",
      "2.40105074664\n",
      "3.34094279903\n",
      "3.13571885631\n",
      "2.328910387\n",
      "2.39071206571\n",
      "6.77574370074\n",
      "2.84383533134\n",
      "2.76756299256\n",
      "1.76954891514\n",
      "0.971695379784\n",
      "1.82995060495\n",
      "3.82316433566\n",
      "3.59932983683\n",
      "2.23028817588\n",
      "2.05405150405\n",
      "2.84383533134\n",
      "5.2968975469\n",
      "2.45467587968\n",
      "3.17811077811\n",
      "2.41455611382\n",
      "2.34632434559\n",
      "3.58638983565\n",
      "3.60818193245\n",
      "2.8895965146\n",
      "2.82889055389\n",
      "2.76756299256\n",
      "2.45467587968\n",
      "8.89694194694\n"
     ]
    }
   ],
   "source": [
    "## SEMANTIC SIMILARITY\n",
    "## Calculating the semantic similarity between two sentences using WordNet\n",
    "def semantic_score(word1, word2):\n",
    "    try:\n",
    "        w1 = wn.synset('%s.n.01'%(word1))\n",
    "        w2 = wn.synset('%s.n.01'%(word2))\n",
    "        return wn.path_similarity(w1,w2,simulate_root = False)\n",
    "    except:\n",
    "        return 0\n",
    "## Calculate the semantic score of two sentences\n",
    "## What should be the method to normalize these scores? I divided the result by total number of comparisons\n",
    "def sentence_semantic(string1, string2):\n",
    "    score,count = 0,0\n",
    "    token1 = nltk.word_tokenize(string1)\n",
    "    token2 = nltk.word_tokenize(string2)\n",
    "    for t1 in nltk.pos_tag(token1):\n",
    "        for t2 in nltk.pos_tag(token2):\n",
    "            if(t1[1].startswith('NN') and t2[1].startswith('NN')):\n",
    "                score += semantic_score(t1[0],t2[0])\n",
    "                count += 1\n",
    "    return score\n",
    "print sentence_semantic('My name is Yasir', 'My name is Najeeb')\n",
    "for i in G.nodes():\n",
    "    for j in G.nodes():\n",
    "        print sentence_semantic(i,j)"
   ]
  },
  {
   "cell_type": "code",
   "execution_count": null,
   "metadata": {
    "collapsed": true
   },
   "outputs": [],
   "source": [
    "## COREFERENCE RESOLUTION\n",
    "##TODO"
   ]
  },
  {
   "cell_type": "code",
   "execution_count": null,
   "metadata": {
    "collapsed": true
   },
   "outputs": [],
   "source": [
    "## DISCOURSE RELATIONS\n",
    "##TODO"
   ]
  },
  {
   "cell_type": "code",
   "execution_count": 69,
   "metadata": {
    "collapsed": false
   },
   "outputs": [
    {
     "name": "stdout",
     "output_type": "stream",
     "text": [
      "Enter the name of the document: cnn\n",
      "Number of edges in the graph : 45\n"
     ]
    },
    {
     "data": {
      "image/png": "[encoded data removed]",
      "text/plain": [
       "<matplotlib.figure.Figure at 0x7f00c4863f50>"
      ]
     },
     "metadata": {},
     "output_type": "display_data"
    }
   ],
   "source": [
    "## GRAPH IMPLEMENTATION OF THE TEXT\n",
    "## Using the NetworkX library and constructing edges\n",
    "## between the graph only on the basis of semantic\n",
    "## and syntactic similarity of the two node\n",
    "G = nx.Graph()\n",
    "filename = str(raw_input(\"Enter the name of the document: \"))\n",
    "with open(filename,\"r\") as text:\n",
    "    for line in text:\n",
    "        G.add_node(line)\n",
    "for nodei in G.nodes():\n",
    "    for nodej in G.nodes():\n",
    "        if nodei != nodej:\n",
    "            #if(statistical(nodei,nodej) >= 0.3):\n",
    "            G.add_edge(nodei,nodej,weight = (1 - statistical(nodei,nodej) + sentence_semantic(nodei,nodej)),color = 'blue',label = 'stat')\n",
    "            #if(sentence_semantic(nodei,nodej)):\n",
    "                #G.add_edge(nodei,nodej,weight = sentence_semantic(nodei,nodej),color = 'green',label = 'sem')\n",
    "                \n",
    "print \"Number of edges in the graph\" + \" : \" + str(len(G.edges()))\n",
    "nx.draw_circular(G)\n",
    "plt.show()"
   ]
  },
  {
   "cell_type": "code",
   "execution_count": 58,
   "metadata": {
    "collapsed": false
   },
   "outputs": [
    {
     "name": "stdout",
     "output_type": "stream",
     "text": [
      "0.234567901235\n",
      "burning tires tear gas and clashes with riot police the ugly scenes that come with workers strikes are all too familiar in france a country constantly trying to balance its culture of workers rights with a more efficient economy\n",
      "\n"
     ]
    }
   ],
   "source": [
    "## MAIN VETEX SELECTION\n",
    "max_val = max(tf.values())\n",
    "print max_val\n",
    "for i in tf:\n",
    "    if tf[i] == max_val:\n",
    "        main_vertex = i\n",
    "print main_vertex"
   ]
  },
  {
   "cell_type": "code",
   "execution_count": 59,
   "metadata": {
    "collapsed": false
   },
   "outputs": [
    {
     "name": "stdout",
     "output_type": "stream",
     "text": [
      "such scenes are being played out across the country friday as unions have called for workers to step up protests that have for the past week crippled parts of france\n",
      "\n",
      "burning tires tear gas and clashes with riot police the ugly scenes that come with workers strikes are all too familiar in france a country constantly trying to balance its culture of workers rights with a more efficient economy\n",
      "\n",
      "employees of oil refineries nuclear power plants and some public transportation have left one in three gas stations dry forcing vehicles to search for well stocked stations and causing long lines at the pump\n",
      "\n",
      "the governments argument is that the strict laws that make french workers among the best protected in the world leave companies in a difficult position where they cant take on new staff\n",
      "\n",
      "french prime minister manuel valls told local media on thursday that he might be willing to modify some of the proposals giving hope to french people that the protests and fuel shortages may soon stop\n",
      "\n"
     ]
    }
   ],
   "source": [
    "## LEADER VERTICES\n",
    "lead = []\n",
    "for i in tf:\n",
    "    if tf[i] >= (0.75 * max_val):\n",
    "        lead.append(i)\n",
    "for i in lead:\n",
    "    print i"
   ]
  },
  {
   "cell_type": "code",
   "execution_count": 60,
   "metadata": {
    "collapsed": false
   },
   "outputs": [
    {
     "name": "stdout",
     "output_type": "stream",
     "text": [
      "blue\n",
      "blue\n",
      "green\n",
      "green\n",
      "green\n",
      "blue\n",
      "green\n",
      "green\n",
      "blue\n",
      "blue\n",
      "blue\n",
      "green\n",
      "blue\n",
      "green\n",
      "green\n",
      "green\n",
      "green\n",
      "green\n",
      "green\n",
      "blue\n",
      "green\n",
      "green\n",
      "green\n",
      "green\n",
      "green\n",
      "green\n",
      "green\n",
      "green\n",
      "green\n",
      "green\n",
      "green\n",
      "green\n",
      "green\n",
      "green\n",
      "green\n",
      "blue\n",
      "green\n",
      "green\n",
      "green\n",
      "blue\n",
      "green\n",
      "green\n",
      "green\n",
      "green\n",
      "green\n"
     ]
    }
   ],
   "source": [
    "## COLOR OF THE EDGES\n",
    "for i in G.nodes():\n",
    "    for j in G.nodes():\n",
    "        if (i,j) in G.edges():\n",
    "            print G.get_edge_data(i,j)[0]['color']"
   ]
  },
  {
   "cell_type": "code",
   "execution_count": 61,
   "metadata": {
    "collapsed": false
   },
   "outputs": [
    {
     "data": {
      "image/png": "[encoded data removed]",
      "text/plain": [
       "<matplotlib.figure.Figure at 0x7f00cb28c3d0>"
      ]
     },
     "metadata": {},
     "output_type": "display_data"
    }
   ],
   "source": [
    "nx.draw(G)"
   ]
  },
  {
   "cell_type": "code",
   "execution_count": 86,
   "metadata": {
    "collapsed": false
   },
   "outputs": [
    {
     "name": "stdout",
     "output_type": "stream",
     "text": [
      "the workers are protesting a labor reform bill put forward by the government that will make it easier for companies to hire and fire employees\n",
      ":{'burning tires tear gas and clashes with riot police the ugly scenes that come with workers strikes are all too familiar in france a country constantly trying to balance its culture of workers rights with a more efficient economy\\n': 3.428709634016486, 'the governments argument is that the strict laws that make french workers among the best protected in the world leave companies in a difficult position where they cant take on new staff\\n': 2.5546869796869793, 'french prime minister manuel valls told local media on thursday that he might be willing to modify some of the proposals giving hope to french people that the protests and fuel shortages may soon stop\\n': 2.6694149197407397, 'such scenes are being played out across the country friday as unions have called for workers to step up protests that have for the past week crippled parts of france\\n': 2.2882092519018693, 'employees of oil refineries nuclear power plants and some public transportation have left one in three gas stations dry forcing vehicles to search for well stocked stations and causing long lines at the pump\\n': 3.1041052713533936}\n",
      "but workers unions friday responded with a call to step up rallies and blockades demanding a complete withdrawal of the bill\n",
      ":{'burning tires tear gas and clashes with riot police the ugly scenes that come with workers strikes are all too familiar in france a country constantly trying to balance its culture of workers rights with a more efficient economy\\n': 2.1069918151359404, 'the governments argument is that the strict laws that make french workers among the best protected in the world leave companies in a difficult position where they cant take on new staff\\n': 2.0510824438575903, 'french prime minister manuel valls told local media on thursday that he might be willing to modify some of the proposals giving hope to french people that the protests and fuel shortages may soon stop\\n': 1.9150657843064871, 'such scenes are being played out across the country friday as unions have called for workers to step up protests that have for the past week crippled parts of france\\n': 1.6941596614261656, 'employees of oil refineries nuclear power plants and some public transportation have left one in three gas stations dry forcing vehicles to search for well stocked stations and causing long lines at the pump\\n': 2.4249277467628301}\n",
      "such scenes are being played out across the country friday as unions have called for workers to step up protests that have for the past week crippled parts of france\n",
      ":{'burning tires tear gas and clashes with riot police the ugly scenes that come with workers strikes are all too familiar in france a country constantly trying to balance its culture of workers rights with a more efficient economy\\n': 3.8011514765621062, 'the governments argument is that the strict laws that make french workers among the best protected in the world leave companies in a difficult position where they cant take on new staff\\n': 2.9705376367779319, 'french prime minister manuel valls told local media on thursday that he might be willing to modify some of the proposals giving hope to french people that the protests and fuel shortages may soon stop\\n': 3.1468864627513073, 'employees of oil refineries nuclear power plants and some public transportation have left one in three gas stations dry forcing vehicles to search for well stocked stations and causing long lines at the pump\\n': 3.5048354385445522}\n",
      "burning tires tear gas and clashes with riot police the ugly scenes that come with workers strikes are all too familiar in france a country constantly trying to balance its culture of workers rights with a more efficient economy\n",
      ":{'the governments argument is that the strict laws that make french workers among the best protected in the world leave companies in a difficult position where they cant take on new staff\\n': 4.1580742589935307, 'french prime minister manuel valls told local media on thursday that he might be willing to modify some of the proposals giving hope to french people that the protests and fuel shortages may soon stop\\n': 4.0220575994424275, 'such scenes are being played out across the country friday as unions have called for workers to step up protests that have for the past week crippled parts of france\\n': 3.8011514765621062, 'employees of oil refineries nuclear power plants and some public transportation have left one in three gas stations dry forcing vehicles to search for well stocked stations and causing long lines at the pump\\n': 4.5319195618987704}\n",
      "employees of oil refineries nuclear power plants and some public transportation have left one in three gas stations dry forcing vehicles to search for well stocked stations and causing long lines at the pump\n",
      ":{'burning tires tear gas and clashes with riot police the ugly scenes that come with workers strikes are all too familiar in france a country constantly trying to balance its culture of workers rights with a more efficient economy\\n': 4.5319195618987704, 'the governments argument is that the strict laws that make french workers among the best protected in the world leave companies in a difficult position where they cant take on new staff\\n': 4.0698379135885316, 'french prime minister manuel valls told local media on thursday that he might be willing to modify some of the proposals giving hope to french people that the protests and fuel shortages may soon stop\\n': 3.9378105779089743, 'such scenes are being played out across the country friday as unions have called for workers to step up protests that have for the past week crippled parts of france\\n': 3.5048354385445522}\n",
      "we call for the continuation and intensification of protests a group of unions behind the protests said in a statement\n",
      ":{'burning tires tear gas and clashes with riot police the ugly scenes that come with workers strikes are all too familiar in france a country constantly trying to balance its culture of workers rights with a more efficient economy\\n': 3.7426669996561328, 'the governments argument is that the strict laws that make french workers among the best protected in the world leave companies in a difficult position where they cant take on new staff\\n': 2.8544302964031427, 'french prime minister manuel valls told local media on thursday that he might be willing to modify some of the proposals giving hope to french people that the protests and fuel shortages may soon stop\\n': 3.0695346990317169, 'such scenes are being played out across the country friday as unions have called for workers to step up protests that have for the past week crippled parts of france\\n': 2.4637111734908399, 'employees of oil refineries nuclear power plants and some public transportation have left one in three gas stations dry forcing vehicles to search for well stocked stations and causing long lines at the pump\\n': 3.6679272198812298}\n",
      "the governments argument is that the strict laws that make french workers among the best protected in the world leave companies in a difficult position where they cant take on new staff\n",
      ":{'burning tires tear gas and clashes with riot police the ugly scenes that come with workers strikes are all too familiar in france a country constantly trying to balance its culture of workers rights with a more efficient economy\\n': 4.1580742589935307, 'french prime minister manuel valls told local media on thursday that he might be willing to modify some of the proposals giving hope to french people that the protests and fuel shortages may soon stop\\n': 3.0605429758399567, 'such scenes are being played out across the country friday as unions have called for workers to step up protests that have for the past week crippled parts of france\\n': 2.9705376367779319, 'employees of oil refineries nuclear power plants and some public transportation have left one in three gas stations dry forcing vehicles to search for well stocked stations and causing long lines at the pump\\n': 4.0698379135885316}\n",
      "french prime minister manuel valls told local media on thursday that he might be willing to modify some of the proposals giving hope to french people that the protests and fuel shortages may soon stop\n",
      ":{'burning tires tear gas and clashes with riot police the ugly scenes that come with workers strikes are all too familiar in france a country constantly trying to balance its culture of workers rights with a more efficient economy\\n': 4.0220575994424275, 'the governments argument is that the strict laws that make french workers among the best protected in the world leave companies in a difficult position where they cant take on new staff\\n': 3.0605429758399567, 'such scenes are being played out across the country friday as unions have called for workers to step up protests that have for the past week crippled parts of france\\n': 3.1468864627513073, 'employees of oil refineries nuclear power plants and some public transportation have left one in three gas stations dry forcing vehicles to search for well stocked stations and causing long lines at the pump\\n': 3.9378105779089743}\n",
      "people are now hoarding gas worried that it may be some time until supply levels are back to normal\n",
      ":{'burning tires tear gas and clashes with riot police the ugly scenes that come with workers strikes are all too familiar in france a country constantly trying to balance its culture of workers rights with a more efficient economy\\n': 4.0331856194002267, 'the governments argument is that the strict laws that make french workers among the best protected in the world leave companies in a difficult position where they cant take on new staff\\n': 2.9910574252166326, 'french prime minister manuel valls told local media on thursday that he might be willing to modify some of the proposals giving hope to french people that the protests and fuel shortages may soon stop\\n': 3.5776120010794425, 'such scenes are being played out across the country friday as unions have called for workers to step up protests that have for the past week crippled parts of france\\n': 2.6844720114599436, 'employees of oil refineries nuclear power plants and some public transportation have left one in three gas stations dry forcing vehicles to search for well stocked stations and causing long lines at the pump\\n': 4.3511215510271164}\n",
      "the governments violent words its contempt for the social movement and its refusal to withdraw this bill reinforces our commitment it said:{'burning tires tear gas and clashes with riot police the ugly scenes that come with workers strikes are all too familiar in france a country constantly trying to balance its culture of workers rights with a more efficient economy\\n': 4.4182902912503845, 'the governments argument is that the strict laws that make french workers among the best protected in the world leave companies in a difficult position where they cant take on new staff\\n': 3.5741282212080199, 'french prime minister manuel valls told local media on thursday that he might be willing to modify some of the proposals giving hope to french people that the protests and fuel shortages may soon stop\\n': 3.55821098096889, 'such scenes are being played out across the country friday as unions have called for workers to step up protests that have for the past week crippled parts of france\\n': 3.117522187927837, 'employees of oil refineries nuclear power plants and some public transportation have left one in three gas stations dry forcing vehicles to search for well stocked stations and causing long lines at the pump\\n': 4.4172965035539065}\n"
     ]
    }
   ],
   "source": [
    "## Applying djikstra to the given graph\n",
    "shortest = dict()\n",
    "for i in G.nodes():\n",
    "    shortest[i] = dict()\n",
    "    for j in lead:\n",
    "        if i != j:\n",
    "            shortest[i][j] = (nx.dijkstra_path_length(G,i,j))\n",
    "for i in shortest:\n",
    "    print i + \":\" + str(shortest[i])"
   ]
  },
  {
   "cell_type": "code",
   "execution_count": 94,
   "metadata": {
    "collapsed": false
   },
   "outputs": [
    {
     "name": "stdout",
     "output_type": "stream",
     "text": [
      "such scenes are being played out across the country friday as unions have called for workers to step up protests that have for the past week crippled parts of france\n",
      "\n",
      "such scenes are being played out across the country friday as unions have called for workers to step up protests that have for the past week crippled parts of france\n",
      "\n",
      "the governments argument is that the strict laws that make french workers among the best protected in the world leave companies in a difficult position where they cant take on new staff\n",
      "\n",
      "such scenes are being played out across the country friday as unions have called for workers to step up protests that have for the past week crippled parts of france\n",
      "\n",
      "such scenes are being played out across the country friday as unions have called for workers to step up protests that have for the past week crippled parts of france\n",
      "\n",
      "such scenes are being played out across the country friday as unions have called for workers to step up protests that have for the past week crippled parts of france\n",
      "\n",
      "such scenes are being played out across the country friday as unions have called for workers to step up protests that have for the past week crippled parts of france\n",
      "\n",
      "the governments argument is that the strict laws that make french workers among the best protected in the world leave companies in a difficult position where they cant take on new staff\n",
      "\n",
      "such scenes are being played out across the country friday as unions have called for workers to step up protests that have for the past week crippled parts of france\n",
      "\n",
      "such scenes are being played out across the country friday as unions have called for workers to step up protests that have for the past week crippled parts of france\n",
      "\n"
     ]
    }
   ],
   "source": [
    "## Getting the nearest leader node for each node\n",
    "cluster = dict()\n",
    "for i in shortest:\n",
    "    m = min(shortest[i],key = shortest[i].get)\n",
    "    cluster[i] = m\n",
    "for i in cluster:\n",
    "    print cluster[i]"
   ]
  },
  {
   "cell_type": "code",
   "execution_count": 99,
   "metadata": {
    "collapsed": false
   },
   "outputs": [
    {
     "data": {
      "image/png": "[encoded data removed]",
      "text/plain": [
       "<matplotlib.figure.Figure at 0x7f00c463b090>"
      ]
     },
     "metadata": {},
     "output_type": "display_data"
    }
   ],
   "source": [
    "## Deleting the edges other than the leader ones in the graph\n",
    "for nodei,nodej in G.edges():\n",
    "    if cluster[nodei] != nodej:\n",
    "        G.remove_edge(nodei,nodej)\n",
    "## Prinitng the graph\n",
    "nx.draw(G)"
   ]
  },
  {
   "cell_type": "code",
   "execution_count": null,
   "metadata": {
    "collapsed": true
   },
   "outputs": [],
   "source": []
  }
 ],
 "metadata": {
  "kernelspec": {
   "display_name": "Python 2",
   "language": "python",
   "name": "python2"
  },
  "language_info": {
   "codemirror_mode": {
    "name": "ipython",
    "version": 2
   },
   "file_extension": ".py",
   "mimetype": "text/x-python",
   "name": "python",
   "nbconvert_exporter": "python",
   "pygments_lexer": "ipython2",
   "version": "2.7.6"
  }
 },
 "nbformat": 4,
 "nbformat_minor": 0
}

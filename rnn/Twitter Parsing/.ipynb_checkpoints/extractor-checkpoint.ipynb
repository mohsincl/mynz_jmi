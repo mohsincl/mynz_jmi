{
 "cells": [
  {
   "cell_type": "markdown",
   "metadata": {},
   "source": [
    "# Extractive Summarisation"
   ]
  },
  {
   "cell_type": "code",
   "execution_count": 1,
   "metadata": {
    "collapsed": true
   },
   "outputs": [],
   "source": [
    "# import libraries\n",
    "from collections import Counter\n",
    "from itertools import combinations\n",
    "from math import sqrt\n",
    "import matplotlib.pyplot as plt\n",
    "import networkx as nx\n",
    "from nltk import word_tokenize, sent_tokenize, FreqDist,pos_tag\n",
    "from nltk.corpus import stopwords, wordnet as wn\n",
    "from nltk.tokenize import RegexpTokenizer\n",
    "from operator import itemgetter\n",
    "import re\n",
    "%matplotlib inline"
   ]
  },
  {
   "cell_type": "code",
   "execution_count": 2,
   "metadata": {
    "collapsed": true
   },
   "outputs": [],
   "source": [
    "# Convergence threshold is the maximum error in score convergence of TextRank\n",
    "CONVERGENCE_THRESHOLD = 0.0001"
   ]
  },
  {
   "cell_type": "code",
   "execution_count": 3,
   "metadata": {
    "collapsed": true
   },
   "outputs": [],
   "source": [
    "# set of all nouns\n",
    "NOUNS = {x.name().split('.', 1)[0] for x in wn.all_synsets('n')}"
   ]
  },
  {
   "cell_type": "code",
   "execution_count": 4,
   "metadata": {
    "collapsed": true
   },
   "outputs": [],
   "source": [
    "class Document():\n",
    "    '''\n",
    "    The master class for our Document Summerization module.\n",
    "    Incorporates all features related to Document\n",
    "    '''\n",
    "    \n",
    "    def __init__(self, document):\n",
    "        self.document = document\n",
    "        self.sents = sent_tokenize(self.document)\n",
    "        self.word_freq = FreqDist(clean(self.document))\n",
    "        self.graph = None\n",
    "        self.params = { 'thresh': 0.0\n",
    "            \n",
    "        }\n",
    "        \n",
    "                \n",
    "    def __str__(self):\n",
    "        return self.document\n",
    "    \n",
    "    \n",
    "    def statistical_sim(self, sent1, sent2):\n",
    "        '''\n",
    "        Statistical similarity between sentences\n",
    "        based on the cosine method\n",
    "        Returns: float (the cosine similarity b/w sent1 and sent2)\n",
    "        '''\n",
    "        sent_token1 = Counter(sent1)\n",
    "        sent_token2 = Counter(sent2)\n",
    "        \n",
    "        intxn = set(sent_token1) & set(sent_token2)\n",
    "        numerator = sum([sent_token1[x] * sent_token2[x] for x in intxn])\n",
    "        \n",
    "        mod1 = sum([sent_token1[x]**2 for x in sent_token1.keys()])\n",
    "        mod2 = sum([sent_token2[x]**2 for x in sent_token2.keys()])\n",
    "        denominator = sqrt(mod1)*sqrt(mod2)\n",
    "        \n",
    "        if not denominator:\n",
    "            return 0.0\n",
    "\n",
    "        return float(numerator)/denominator\n",
    "    \n",
    "    \n",
    "    def semantic_sim(self, sent1, sent2):\n",
    "        '''\n",
    "        A semantic similarity score between two sentences\n",
    "        based on WordNet\n",
    "        Returns: float (the semantic similarity measure)\n",
    "        '''\n",
    "        score = 0\n",
    "        sent1 = [word for word in sent1 if word in NOUNS]\n",
    "        sent2 = [word for word in sent2 if word in NOUNS]\n",
    "        for t1 in sent1:\n",
    "            for t2 in sent2:\n",
    "                score += semantic_score(t1,t2)\n",
    "        try:\n",
    "            return score/(len(sent1 + sent2))  \n",
    "        except:\n",
    "            return 10000\n",
    "    \n",
    "    \n",
    "    def construct_graph(self):\n",
    "        '''\n",
    "        Constructs the word similarity graph\n",
    "        '''\n",
    "        connected = []\n",
    "        for pair in combinations(self.sents, 2):\n",
    "            cpair = clean(pair[0]), clean(pair[1])\n",
    "            weight = self.statistical_sim(*cpair) + \\\n",
    "                     self.semantic_sim(*cpair)\n",
    "            connected.append((pair[0], pair[1], weight))\n",
    "        self.graph = draw_graph(connected, self.params['thresh'])    "
   ]
  },
  {
   "cell_type": "code",
   "execution_count": 5,
   "metadata": {
    "collapsed": true
   },
   "outputs": [],
   "source": [
    "# Utility functions\n",
    "def clean(sent):\n",
    "    '''\n",
    "    A utility function that returns a a list of words in a sentence\n",
    "    after cleaning it. Gets rid off uppper-case, punctuations, \n",
    "    stop words, etc.\n",
    "    Returns: list (a list of cleaned words in sentence)\n",
    "    '''\n",
    "    words =  sent.lower() \n",
    "    words = re.findall(r'\\w+', words,flags = re.UNICODE | re.LOCALE) \n",
    "    imp_words = filter(lambda x: x not in stopwords.words('english'), words)\n",
    "    return imp_words\n",
    "        \n",
    "def semantic_score(word1, word2):\n",
    "    '''\n",
    "    Semantic score between two words based on WordNet\n",
    "    Returns: float (the semantic score between word1 and word2)\n",
    "    '''\n",
    "    try:\n",
    "        w1 = wn.synset('%s.n.01'%(word1))\n",
    "        w2 = wn.synset('%s.n.01'%(word2))\n",
    "        return wn.path_similarity(w1,w2,simulate_root = False)\n",
    "    except:\n",
    "        return 0\n",
    "    \n",
    "def draw_graph(connected, thresh):\n",
    "    '''\n",
    "    Draws graph as per weights and puts edges if \n",
    "    weight exceed the given thresh\n",
    "    Returns: networkx Graph (nodes are sentences and edges\n",
    "             are statistical and semantic relationships)\n",
    "    '''\n",
    "    nodes = set([n1 for n1, n2, n3 in connected] + \\\n",
    "                [n2 for n1, n2, n3 in connected])\n",
    "    G=nx.Graph()\n",
    "    for node in nodes:\n",
    "        G.add_node(node)\n",
    "    for edge in connected:\n",
    "        if edge[2] > thresh:\n",
    "            G.add_edge(edge[0], edge[1],weight = edge[2])\n",
    "    plt.figure(figsize=(8,8))\n",
    "    pos = nx.spring_layout(G)\n",
    "    #nx.draw(G,node_color='#A0CBE2', edge_color='orange',width=1,with_labels=False)\n",
    "    #plt.show()\n",
    "    return G\n",
    "    \n",
    "def textrank_weighted(graph, initial_value=None, damping=0.85):\n",
    "    '''\n",
    "    Calculates PageRank for an undirected graph\n",
    "    Returns: A list of tuples representing sentences and respective\n",
    "    scores in descending order\n",
    "    '''\n",
    "    if initial_value == None: initial_value = 1.0 / len(graph.nodes())\n",
    "    scores = dict.fromkeys(graph.nodes(), initial_value)\n",
    "\n",
    "    iteration_quantity = 0\n",
    "    for iteration_number in xrange(100):\n",
    "        iteration_quantity += 1\n",
    "        convergence_achieved = 0\n",
    "        for i in graph.nodes():\n",
    "            rank = 1 - damping\n",
    "            for j in graph.neighbors(i):\n",
    "                neighbors_sum = sum([graph.get_edge_data(j, k)['weight'] for k in graph.neighbors(j)])\n",
    "                rank += damping * scores[j] * graph.get_edge_data(j, i)['weight'] / neighbors_sum\n",
    "\n",
    "            if abs(scores[i] - rank) <= CONVERGENCE_THRESHOLD:\n",
    "                convergence_achieved += 1\n",
    "\n",
    "            scores[i] = rank\n",
    "\n",
    "        if convergence_achieved == len(graph.nodes()):\n",
    "            break\n",
    "    return sorted(scores.items(), key=itemgetter(1), reverse=True)"
   ]
  },
  {
   "cell_type": "markdown",
   "metadata": {},
   "source": [
    "# Twitter OAuth"
   ]
  },
  {
   "cell_type": "code",
   "execution_count": 6,
   "metadata": {
    "collapsed": true
   },
   "outputs": [],
   "source": [
    "import tweepy\n",
    "from tweepy import OAuthHandler\n",
    "import json\n",
    "from tweepy import Stream\n",
    "from tweepy.streaming import StreamListener"
   ]
  },
  {
   "cell_type": "code",
   "execution_count": 7,
   "metadata": {
    "collapsed": true
   },
   "outputs": [],
   "source": [
    "# Najeeb Khan Credentials\n",
    "consumer_key = '3cFJ5hLMswDJOwXfaJGS4eNyS'\n",
    "consumer_secret = 'GRn1itnKbrCdAvHhbpjFgzWXMHePNuhDYz5scjnyhD8fC3Bnqg'\n",
    "access_token = '277893116-tcAWnc62SVdSBLUIqF5R5h92qm2Y0epfQUQJNa4l'\n",
    "access_secret = 'S47f26iaI7L0Z5AyT2NQqtsmitrMn70nZG2H5n5dyqM4C'\n",
    "\n",
    "auth = OAuthHandler(consumer_key, consumer_secret)\n",
    "auth.set_access_token(access_token, access_secret)"
   ]
  },
  {
   "cell_type": "code",
   "execution_count": 9,
   "metadata": {
    "collapsed": false
   },
   "outputs": [],
   "source": [
    "api = tweepy.API(auth)\n",
    "trend = api.trends_place(23424977)"
   ]
  },
  {
   "cell_type": "code",
   "execution_count": 11,
   "metadata": {
    "collapsed": false
   },
   "outputs": [
    {
     "name": "stdout",
     "output_type": "stream",
     "text": [
      "50\n"
     ]
    }
   ],
   "source": [
    "count = 0\n",
    "hashtags = []\n",
    "for i in trend[0]['trends']:\n",
    "    hashtags.append(i['name'])\n",
    "    count += 1\n",
    "print count"
   ]
  },
  {
   "cell_type": "code",
   "execution_count": 12,
   "metadata": {
    "collapsed": false
   },
   "outputs": [],
   "source": [
    "tweets = {}\n",
    "for tag in hashtags[0:10]:\n",
    "    text = list()\n",
    "    Tweets = tweepy.Cursor(api.search, q=tag).items(10)\n",
    "    for tweet in Tweets:\n",
    "        txt = (tweet.text).encode('ascii','ignore')\n",
    "        text.append(txt)\n",
    "    tweets[tag] = text"
   ]
  },
  {
   "cell_type": "code",
   "execution_count": 19,
   "metadata": {
    "collapsed": false,
    "scrolled": true
   },
   "outputs": [],
   "source": [
    "## THIS IS JUST AN EXAMPLE\n",
    "tweets = {u'U.K.': ['RT @StreetEtiquette: China is looking at the U.K like : https://t.co/f5m4bePTNF', 'RT @markets: U.S. stock markets fall sharply at the opening bell https://t.co/JxC86DGgyT https://t.co/u6qZWRT3UN', 'RT @marcusbrig: The British Press have betrayed the people of the U.K. They lie to us day after day &amp; fill this country with hate &amp; fear. T', 'RT @WSJ: What the #Brexit vote means for Indian companies with ties to the U.K. https://t.co/h8sJt1AzyL via @WSJIndia https://t.co/gh53McxU', 'AKB', 'RT @TIME: The U.K. is googling what the E.U. is hours after it voted to leave https://t.co/iObpp1tmWt', 'RT @CronkiteSays: BREAKING NEWS \\nThe U.K. Voted #Brexit to take their country back now it is time for the USA to do the same by voting the', 'RT @rami_kiwan: Will a #Brexit tear the U.K. or the E.U. apart first?\\n#EUref #Bremain #UKreferendum #UKDecides', 'RT @thefader: #StormzyForPrimeMinister is a U.K. political campaign you can actually believe in. https://t.co/D93xKiRqfl https://t.co/KfLUR', 'RT @chimenedutoit: @K_myprecious_G Only a pleasure, thank u 4 following me to. I luv chatting 2 all the lovelies around the world who love'], u'#TakeYourDogToWorkDay': ['RT @MLBGIFs: 26th man. #TakeYourDogToWorkDay https://t.co/C573N4OaEQ', 'RT @MLBGIFs: 26th man. #TakeYourDogToWorkDay https://t.co/C573N4OaEQ', 'RT @MLBGIFs: 26th man. #TakeYourDogToWorkDay https://t.co/C573N4OaEQ', 'Is your four legged friend with you today?!  #TakeYourDogToWorkDay https://t.co/WVayvMmlCN', 'RT @DanAndShay: Dogs building some sick beats on #TakeYourDogToWorkDay... https://t.co/hBppUHNxud', 'RT @MLBGIFs: 26th man. #TakeYourDogToWorkDay https://t.co/C573N4OaEQ', 'RT @DanAndShay: Dogs building some sick beats on #TakeYourDogToWorkDay... https://t.co/hBppUHNxud', 'RT @TheUPSStore3909: Happy #TakeYourDogToWorkDay! Retweet this if you have your four-legged friend at the office today! https://t.co/Y7TfIk', '#TakeYourDogToWorkDay https://t.co/0MyEmhLphe', 'RT @MLBGIFs: 26th man. #TakeYourDogToWorkDay https://t.co/C573N4OaEQ'], u'Hillary Clinton in November': ['RT @Fusion: BREAKING Bernie Sanders says he will vote for Hillary Clinton in November. https://t.co/Q4jjZA0UBK', 'RT @WorldForBernie: We will NEVER SUPPORT Hillary Clinton in November even if @BernieSanders asked us to! @TheDemocrats have been warned ht', 'RT @trumpy17: Hillary Clinton in November,\\nNope, Will Not Vote For Her!! NOPE, NOPE, NOPE!!!!!!!! #NeverHillary https://t.co/8jt2sEBxio', \"RT @JamilSmith: Bernie Sanders, during an interview this morning on @MSNBC, says that he'll vote for @HillaryClinton in November. https://t\", 'RT @Fusion: BREAKING Bernie Sanders says he will vote for Hillary Clinton in November. https://t.co/Q4jjZA0UBK', 'RT @WorldForBernie: We will NEVER SUPPORT Hillary Clinton in November even if @BernieSanders asked us to! @TheDemocrats have been warned ht', \"RT @SOMEXlCAN: Bernie Sanders says he will vote for Democratic rival Hillary Clinton in November's presidential election https://t.co/Fv0Qb\", 'RT @WorldForBernie: We will NEVER SUPPORT Hillary Clinton in November even if @BernieSanders asked us to! @TheDemocrats have been warned ht', 'RT @thehill: BREAKING: Bernie Sanders says he will vote for Hillary Clinton in November https://t.co/nEF03fACyL https://t.co/rEWHOXBGmN', \"RT @PoliticsGhost: #BernieSanders says he's voting for Hillary Clinton in November! Do u #Bernie supporters #FeelTheBern now? Betrayed by #\"], u'Alan Greenspan': [\"RT @TeflonGeek: Alan Greenspan on market reax #Brexit: 'This has a corrosive effect that will not go away,' says WORSE than 1987, 2008 cris\", \"RT @TeflonGeek: Alan Greenspan on market reax #Brexit: 'This has a corrosive effect that will not go away,' says WORSE than 1987, 2008 cris\", \"OMG!! - Alan Greenspan says British break from EU 'is just the tip of the iceberg' https://t.co/26AL9VHznq\", 'RT @NotAllBhas: embarrassing to live in a country where Henry Kissinger &amp; Alan Greenspan are not in prison but lauded as experts https://t.', \"Alan Greenspan says British break from EU 'is just the tip of the iceberg' https://t.co/0gnyb1xjjl\", \"Alan Greenspan says British break from EU 'is just the tip of the iceberg' https://t.co/sCdN6azltr\", \"RT @BlanchardGold: Alan #Greenspan says British break from EU 'is just the tip of the iceberg' https://t.co/HPnc7u21He #Brexit\", \"Alan Greenspan Calls #Brexit 'the Tip of the Iceberg,' Says Euro is Failing https://t.co/Rgzk3P2esj via @nbcnews\", 'Former Chairman of the Federal Reserve Alan Greenspan says this is just the beginning.', \"Alan #Greenspan says British break from EU 'is just the tip of the iceberg' https://t.co/HPnc7u21He #Brexit\"], u'#fridayreads': ['RT @DuncanWhitehead: \"With over 700 5* reviews, it\\'s already a classic!\"- The Georgia Enquirer https://t.co/tNEecWJu1m #bookreview #KindleD', 'First book of the summer is THE GIRL ON THE TRAIN by Paula Hawkins. #fridayreads', \"RT @BarefootBooks: How will you ignite your child's love of reading this weekend? #fridayreads #literacy #kidlit https://t.co/H1DbCTpOuI\", 'RT @DuncanWhitehead: \"With over 700 5* reviews, it\\'s already a classic!\"- The Georgia Enquirer https://t.co/tNEecWJu1m #bookreview #KindleD', 'Sometimes it takes reading a different perspective for some idea inspiration: https://t.co/05HZMZPG6p #fridayreads https://t.co/LPjoNzQ9d7', \"RT @GeneNash: OMG. It's a real book. https://t.co/x5U0BXFlAU #FridayReads https://t.co/mrgR7xWcYC\", 'RT @TwBookClub: BOOK OF THE DAY June 24\\n\\nOnly 99 cents: https://t.co/kc1Z1rpZ30\\n\\n#FridayReads #Adventure #Action #BOTD\\n\\n@Foxwarepub https:/', \"RT @GeneNash: OMG. It's a real book. https://t.co/x5U0BXFlAU #FridayReads https://t.co/mrgR7xWcYC\", '#fridayreads https://t.co/blwkHmgUKK', \"RT @GeneNash: OMG. It's a real book. https://t.co/x5U0BXFlAU #FridayReads https://t.co/mrgR7xWcYC\"], u'David Cameron': ['RT @TimUrbanMusic: So England voted to leave EU and David Cameron is resigning. I guess we are all just waiting to see how that will effect', 'RT @starbex: Holy shit, they replaced David Cameron with a cat. https://t.co/0r7KouIHW1', 'RT @AlbertoRT51: Ministro britnico David Cameron anuncia su renuncia y abandonar el cargo en octubre  https://t.co/y8JMs32B0v https://t.c', 'RT @NottsFacts: David Cameron is now the bookies favourite to become the new #NFFC manager #nottsfacts #euref', 'RT @TheEconomist: David Cameron quits Downing Street with a ruined legacy https://t.co/eBhcKF4Ap0 https://t.co/4r4IpfFeKa', 'RT @PHammondMP: Looking forward to attending @NATO Summit in #Warsaw w/ @David_Cameron in July. UK will continue to take a leading role in', \"RT @jacklang: You know it's bad when you're not celebrating David Cameron resigning\", '@Rodpac @David_Cameron  Es  Democracia !', \"RT @dannyjpg: you know things are fucked when you're gutted David Cameron resigned\", \"never thought I'd say this but i'm gonna miss you @David_Cameron God help us if Boris becomes pm\"], u'#MusicIn5Words': ['It helped me stay alive. #MusicIn5Words ', \"#MusicIn5Words Can't Beat The 60s Music! \", 'which gives me total peace  #MusicIn5Words https://t.co/EI4nSI0rp8', 'A song for any occasion #MusicIn5Words', 'RT @Joyannah73: Hello from the other side! #MusicIn5Words\\n@ZenRand  https://t.co/xwnxnvYJEM', \"RT @musicaltrees: #MusicIn5Words \\nLife's never nightmare with Music.\", 'Undemanding contact in helpless solitude  #MusicIn5Words', 'It soothes your pain deeply.\\n #MusicIn5Words', 'What key is this in? #MusicIn5Words @fifthlawband', 'Perfect for all my emotions. #MusicIn5Words'], u'#BrexitVote': ['RT @aftrevino93: Thoughts on #BrexitVote https://t.co/BInWPr4ITe', '#EUreferendum #EURefResults #Brexit #BrexitVote #IndependenceDay # https://t.co/gwz6K8cwtA', 'RT @Phil_Lewis_: Never seen a tweet that sums up humanity so well. #BrexitVote https://t.co/1S5nVlbmlT', 'RT @HillaryClinton: \"This time of uncertainty only underscores the need for calm, steady, experienced leadership in the White House.\" Hill', 'RT @alitasizuka: Jajajajaja #BrexitVote https://t.co/mx5t6IUSWt', 'RT @postsecret: .#BrexitVote \\n75% of British students voted to remain.\\n61% of British seniors voted to leave. https://t.co/xhFP9BjmEJ', 'RT @HillaryClinton: \"This time of uncertainty only underscores the need for calm, steady, experienced leadership in the White House.\" Hill', 'RT @BBCBreaking: UK Prime Minister David Cameron says he will step down by October https://t.co/jo2sWrbZxk #EUref #BrexitVote', 'RT @MarkQuinlin: A country that once colonized half of the world is complaining about immigration. #BrexitVote', 'RT @elisabethlehem:  #BrexitVote https://t.co/FbltLG5BwJ'], u'Shaun Suisham': ['RT @MarkKaboly_Trib: Shaun Suisham statement on his release provided to the Trib https://t.co/4X5RRaOf3S', 'Steelers release veteran kicker Shaun Suisham https://t.co/j4TGxwLC1g via @PittsburghPG', 'RT @AdamSchefter: Steelers released kicker Shaun Suisham with the failed physical designation.', 'RT @NFL: The @steelers are going in another direction at kicker: https://t.co/ulzK33MWdr https://t.co/zqjdromJBj', 'RT @RapSheet: The #Steelers released kicker Shaun Suisham with a failed physical designation. He suffered a setback in his recovery from a', 'RT @caplannfl: #Steelers released K Shaun Suisham (failed physical). Team said he had a setback in recovery from knee surgery.', 'RT @NFL: The @steelers are going in another direction at kicker: https://t.co/ulzK33MWdr https://t.co/zqjdromJBj', 'RT @Steelersdepot: #Steelers GM Kevin Colbert on the release of kicker Shaun Suisham: https://t.co/lXTn27BMQ4', 'The #Steelers have released K Shaun Suisham; made 124 of his 141 FG attempts (87.9%) w/ Pittsburgh #SteelersNation', 'RT @MarkKaboly_Trib: Shaun Suisham statement on his release provided to the Trib https://t.co/4X5RRaOf3S'], u'#EURefResults': ['RT @bilexuality: The UK Today: A Summary \\n\\n#EURefResults https://t.co/PA5bk3YNbU', 'RT @Number10gov: PM: I would reassure markets and investors that Britains economy is fundamentally strong. #EURefResults https://t.co/MhFv', 'RT @GoogleTrends: \"What is the EU?\" is the second top UK question on the EU since the #EURefResults were officially announced https://t.co/', 'RT @5carab: I guess British pensioners hate foreigners more than they love their grand children. #EURefResults', 'The U.K. Needs younger politicians who believe and act for the greatness of the country now more than ever #EURefResults #LabourInForBritain', '#Brexit #EURefResults https://t.co/FlYIJh1auw', 'RT @Charles_HRH: United Kingdom and the European Union just went from married to divorced, and unfriended. Awkward. #EURefResults https', 'RT @bilexuality: The UK Today: A Summary \\n\\n#EURefResults https://t.co/PA5bk3YNbU', 'RT @HogwartsLogic: The Ministry has fallen. Cameron has resigned. They are coming. #EURefResults', 'RT @GoogleTrends: \"What is the EU?\" is the second top UK question on the EU since the #EURefResults were officially announced https://t.co/']}"
   ]
  },
  {
   "cell_type": "code",
   "execution_count": 20,
   "metadata": {
    "collapsed": false
   },
   "outputs": [
    {
     "name": "stdout",
     "output_type": "stream",
     "text": [
      "#fridayreads\n",
      "----------------------------------------------------------\n",
      "RT @DuncanWhitehead: \"With over 700 5* reviews, it's already a classic!\"- The Georgia Enquirer https://t.co/tNEecWJu1m #bookreview #KindleD\n",
      "First book of the summer is THE GIRL ON THE TRAIN by Paula Hawkins. #fridayreads\n",
      "RT @BarefootBooks: How will you ignite your child's love of reading this weekend? #fridayreads #literacy #kidlit https://t.co/H1DbCTpOuI\n",
      "RT @DuncanWhitehead: \"With over 700 5* reviews, it's already a classic!\"- The Georgia Enquirer https://t.co/tNEecWJu1m #bookreview #KindleD\n",
      "Sometimes it takes reading a different perspective for some idea inspiration: https://t.co/05HZMZPG6p #fridayreads https://t.co/LPjoNzQ9d7\n",
      "RT @GeneNash: OMG. It's a real book. https://t.co/x5U0BXFlAU #FridayReads https://t.co/mrgR7xWcYC\n",
      "RT @TwBookClub: BOOK OF THE DAY June 24\n",
      "\n",
      "Only 99 cents: https://t.co/kc1Z1rpZ30\n",
      "\n",
      "#FridayReads #Adventure #Action #BOTD\n",
      "\n",
      "@Foxwarepub https:/\n",
      "RT @GeneNash: OMG. It's a real book. https://t.co/x5U0BXFlAU #FridayReads https://t.co/mrgR7xWcYC\n",
      "#fridayreads https://t.co/blwkHmgUKK\n",
      "RT @GeneNash: OMG. It's a real book. https://t.co/x5U0BXFlAU #FridayReads https://t.co/mrgR7xWcYC\n",
      "===========================================================\n",
      "U.K.\n",
      "----------------------------------------------------------\n",
      "RT @StreetEtiquette: China is looking at the U.K like : https://t.co/f5m4bePTNF\n",
      "RT @markets: U.S. stock markets fall sharply at the opening bell https://t.co/JxC86DGgyT https://t.co/u6qZWRT3UN\n",
      "RT @marcusbrig: The British Press have betrayed the people of the U.K. They lie to us day after day &amp; fill this country with hate &amp; fear. T\n",
      "RT @WSJ: What the #Brexit vote means for Indian companies with ties to the U.K. https://t.co/h8sJt1AzyL via @WSJIndia https://t.co/gh53McxU\n",
      "AKB\n",
      "RT @TIME: The U.K. is googling what the E.U. is hours after it voted to leave https://t.co/iObpp1tmWt\n",
      "RT @CronkiteSays: BREAKING NEWS \n",
      "The U.K. Voted #Brexit to take their country back now it is time for the USA to do the same by voting the\n",
      "RT @rami_kiwan: Will a #Brexit tear the U.K. or the E.U. apart first?\n",
      "#EUref #Bremain #UKreferendum #UKDecides\n",
      "RT @thefader: #StormzyForPrimeMinister is a U.K. political campaign you can actually believe in. https://t.co/D93xKiRqfl https://t.co/KfLUR\n",
      "RT @chimenedutoit: @K_myprecious_G Only a pleasure, thank u 4 following me to. I luv chatting 2 all the lovelies around the world who love\n",
      "===========================================================\n",
      "David Cameron\n",
      "----------------------------------------------------------\n",
      "RT @TimUrbanMusic: So England voted to leave EU and David Cameron is resigning. I guess we are all just waiting to see how that will effect\n",
      "RT @starbex: Holy shit, they replaced David Cameron with a cat. https://t.co/0r7KouIHW1\n",
      "RT @AlbertoRT51: Ministro britnico David Cameron anuncia su renuncia y abandonar el cargo en octubre  https://t.co/y8JMs32B0v https://t.c\n",
      "RT @NottsFacts: David Cameron is now the bookies favourite to become the new #NFFC manager #nottsfacts #euref\n",
      "RT @TheEconomist: David Cameron quits Downing Street with a ruined legacy https://t.co/eBhcKF4Ap0 https://t.co/4r4IpfFeKa\n",
      "RT @PHammondMP: Looking forward to attending @NATO Summit in #Warsaw w/ @David_Cameron in July. UK will continue to take a leading role in\n",
      "RT @jacklang: You know it's bad when you're not celebrating David Cameron resigning\n",
      "@Rodpac @David_Cameron  Es  Democracia !\n",
      "RT @dannyjpg: you know things are fucked when you're gutted David Cameron resigned\n",
      "never thought I'd say this but i'm gonna miss you @David_Cameron God help us if Boris becomes pm\n",
      "===========================================================\n",
      "#MusicIn5Words\n",
      "----------------------------------------------------------\n",
      "It helped me stay alive. #MusicIn5Words \n",
      "#MusicIn5Words Can't Beat The 60s Music! \n",
      "which gives me total peace  #MusicIn5Words https://t.co/EI4nSI0rp8\n",
      "A song for any occasion #MusicIn5Words\n",
      "RT @Joyannah73: Hello from the other side! #MusicIn5Words\n",
      "@ZenRand  https://t.co/xwnxnvYJEM\n",
      "RT @musicaltrees: #MusicIn5Words \n",
      "Life's never nightmare with Music.\n",
      "Undemanding contact in helpless solitude  #MusicIn5Words\n",
      "It soothes your pain deeply.\n",
      " #MusicIn5Words\n",
      "What key is this in? #MusicIn5Words @fifthlawband\n",
      "Perfect for all my emotions. #MusicIn5Words\n",
      "===========================================================\n",
      "#BrexitVote\n",
      "----------------------------------------------------------\n",
      "RT @aftrevino93: Thoughts on #BrexitVote https://t.co/BInWPr4ITe\n",
      "#EUreferendum #EURefResults #Brexit #BrexitVote #IndependenceDay # https://t.co/gwz6K8cwtA\n",
      "RT @Phil_Lewis_: Never seen a tweet that sums up humanity so well. #BrexitVote https://t.co/1S5nVlbmlT\n",
      "RT @HillaryClinton: \"This time of uncertainty only underscores the need for calm, steady, experienced leadership in the White House.\" Hill\n",
      "RT @alitasizuka: Jajajajaja #BrexitVote https://t.co/mx5t6IUSWt\n",
      "RT @postsecret: .#BrexitVote \n",
      "75% of British students voted to remain.\n",
      "61% of British seniors voted to leave. https://t.co/xhFP9BjmEJ\n",
      "RT @HillaryClinton: \"This time of uncertainty only underscores the need for calm, steady, experienced leadership in the White House.\" Hill\n",
      "RT @BBCBreaking: UK Prime Minister David Cameron says he will step down by October https://t.co/jo2sWrbZxk #EUref #BrexitVote\n",
      "RT @MarkQuinlin: A country that once colonized half of the world is complaining about immigration. #BrexitVote\n",
      "RT @elisabethlehem:  #BrexitVote https://t.co/FbltLG5BwJ\n",
      "===========================================================\n",
      "Shaun Suisham\n",
      "----------------------------------------------------------\n",
      "RT @MarkKaboly_Trib: Shaun Suisham statement on his release provided to the Trib https://t.co/4X5RRaOf3S\n",
      "Steelers release veteran kicker Shaun Suisham https://t.co/j4TGxwLC1g via @PittsburghPG\n",
      "RT @AdamSchefter: Steelers released kicker Shaun Suisham with the failed physical designation.\n",
      "RT @NFL: The @steelers are going in another direction at kicker: https://t.co/ulzK33MWdr https://t.co/zqjdromJBj\n",
      "RT @RapSheet: The #Steelers released kicker Shaun Suisham with a failed physical designation. He suffered a setback in his recovery from a\n",
      "RT @caplannfl: #Steelers released K Shaun Suisham (failed physical). Team said he had a setback in recovery from knee surgery.\n",
      "RT @NFL: The @steelers are going in another direction at kicker: https://t.co/ulzK33MWdr https://t.co/zqjdromJBj\n",
      "RT @Steelersdepot: #Steelers GM Kevin Colbert on the release of kicker Shaun Suisham: https://t.co/lXTn27BMQ4\n",
      "The #Steelers have released K Shaun Suisham; made 124 of his 141 FG attempts (87.9%) w/ Pittsburgh #SteelersNation\n",
      "RT @MarkKaboly_Trib: Shaun Suisham statement on his release provided to the Trib https://t.co/4X5RRaOf3S\n",
      "===========================================================\n",
      "#TakeYourDogToWorkDay\n",
      "----------------------------------------------------------\n",
      "RT @MLBGIFs: 26th man. #TakeYourDogToWorkDay https://t.co/C573N4OaEQ\n",
      "RT @MLBGIFs: 26th man. #TakeYourDogToWorkDay https://t.co/C573N4OaEQ\n",
      "RT @MLBGIFs: 26th man. #TakeYourDogToWorkDay https://t.co/C573N4OaEQ\n",
      "Is your four legged friend with you today?!  #TakeYourDogToWorkDay https://t.co/WVayvMmlCN\n",
      "RT @DanAndShay: Dogs building some sick beats on #TakeYourDogToWorkDay... https://t.co/hBppUHNxud\n",
      "RT @MLBGIFs: 26th man. #TakeYourDogToWorkDay https://t.co/C573N4OaEQ\n",
      "RT @DanAndShay: Dogs building some sick beats on #TakeYourDogToWorkDay... https://t.co/hBppUHNxud\n",
      "RT @TheUPSStore3909: Happy #TakeYourDogToWorkDay! Retweet this if you have your four-legged friend at the office today! https://t.co/Y7TfIk\n",
      "#TakeYourDogToWorkDay https://t.co/0MyEmhLphe\n",
      "RT @MLBGIFs: 26th man. #TakeYourDogToWorkDay https://t.co/C573N4OaEQ\n",
      "===========================================================\n",
      "#EURefResults\n",
      "----------------------------------------------------------\n",
      "RT @bilexuality: The UK Today: A Summary \n",
      "\n",
      "#EURefResults https://t.co/PA5bk3YNbU\n",
      "RT @Number10gov: PM: I would reassure markets and investors that Britains economy is fundamentally strong. #EURefResults https://t.co/MhFv\n",
      "RT @GoogleTrends: \"What is the EU?\" is the second top UK question on the EU since the #EURefResults were officially announced https://t.co/\n",
      "RT @5carab: I guess British pensioners hate foreigners more than they love their grand children. #EURefResults\n",
      "The U.K. Needs younger politicians who believe and act for the greatness of the country now more than ever #EURefResults #LabourInForBritain\n",
      "#Brexit #EURefResults https://t.co/FlYIJh1auw\n",
      "RT @Charles_HRH: United Kingdom and the European Union just went from married to divorced, and unfriended. Awkward. #EURefResults https\n",
      "RT @bilexuality: The UK Today: A Summary \n",
      "\n",
      "#EURefResults https://t.co/PA5bk3YNbU\n",
      "RT @HogwartsLogic: The Ministry has fallen. Cameron has resigned. They are coming. #EURefResults\n",
      "RT @GoogleTrends: \"What is the EU?\" is the second top UK question on the EU since the #EURefResults were officially announced https://t.co/\n",
      "===========================================================\n",
      "Hillary Clinton in November\n",
      "----------------------------------------------------------\n",
      "RT @Fusion: BREAKING Bernie Sanders says he will vote for Hillary Clinton in November. https://t.co/Q4jjZA0UBK\n",
      "RT @WorldForBernie: We will NEVER SUPPORT Hillary Clinton in November even if @BernieSanders asked us to! @TheDemocrats have been warned ht\n",
      "RT @trumpy17: Hillary Clinton in November,\n",
      "Nope, Will Not Vote For Her!! NOPE, NOPE, NOPE!!!!!!!! #NeverHillary https://t.co/8jt2sEBxio\n",
      "RT @JamilSmith: Bernie Sanders, during an interview this morning on @MSNBC, says that he'll vote for @HillaryClinton in November. https://t\n",
      "RT @Fusion: BREAKING Bernie Sanders says he will vote for Hillary Clinton in November. https://t.co/Q4jjZA0UBK\n",
      "RT @WorldForBernie: We will NEVER SUPPORT Hillary Clinton in November even if @BernieSanders asked us to! @TheDemocrats have been warned ht\n",
      "RT @SOMEXlCAN: Bernie Sanders says he will vote for Democratic rival Hillary Clinton in November's presidential election https://t.co/Fv0Qb\n",
      "RT @WorldForBernie: We will NEVER SUPPORT Hillary Clinton in November even if @BernieSanders asked us to! @TheDemocrats have been warned ht\n",
      "RT @thehill: BREAKING: Bernie Sanders says he will vote for Hillary Clinton in November https://t.co/nEF03fACyL https://t.co/rEWHOXBGmN\n",
      "RT @PoliticsGhost: #BernieSanders says he's voting for Hillary Clinton in November! Do u #Bernie supporters #FeelTheBern now? Betrayed by #\n",
      "===========================================================\n",
      "Alan Greenspan\n",
      "----------------------------------------------------------\n",
      "RT @TeflonGeek: Alan Greenspan on market reax #Brexit: 'This has a corrosive effect that will not go away,' says WORSE than 1987, 2008 cris\n",
      "RT @TeflonGeek: Alan Greenspan on market reax #Brexit: 'This has a corrosive effect that will not go away,' says WORSE than 1987, 2008 cris\n",
      "OMG!! - Alan Greenspan says British break from EU 'is just the tip of the iceberg' https://t.co/26AL9VHznq\n",
      "RT @NotAllBhas: embarrassing to live in a country where Henry Kissinger &amp; Alan Greenspan are not in prison but lauded as experts https://t.\n",
      "Alan Greenspan says British break from EU 'is just the tip of the iceberg' https://t.co/0gnyb1xjjl\n",
      "Alan Greenspan says British break from EU 'is just the tip of the iceberg' https://t.co/sCdN6azltr\n",
      "RT @BlanchardGold: Alan #Greenspan says British break from EU 'is just the tip of the iceberg' https://t.co/HPnc7u21He #Brexit\n",
      "Alan Greenspan Calls #Brexit 'the Tip of the Iceberg,' Says Euro is Failing https://t.co/Rgzk3P2esj via @nbcnews\n",
      "Former Chairman of the Federal Reserve Alan Greenspan says this is just the beginning.\n",
      "Alan #Greenspan says British break from EU 'is just the tip of the iceberg' https://t.co/HPnc7u21He #Brexit\n",
      "===========================================================\n"
     ]
    }
   ],
   "source": [
    "for tag in tweets:\n",
    "    print tag\n",
    "    print '----------------------------------------------------------'\n",
    "    for tweet in tweets[tag]:\n",
    "        print tweet\n",
    "    print '==========================================================='"
   ]
  },
  {
   "cell_type": "code",
   "execution_count": 21,
   "metadata": {
    "collapsed": true
   },
   "outputs": [],
   "source": [
    "extract_tweets = {}"
   ]
  },
  {
   "cell_type": "code",
   "execution_count": 30,
   "metadata": {
    "collapsed": false
   },
   "outputs": [
    {
     "data": {
      "text/plain": [
       "<matplotlib.figure.Figure at 0x7f4e9a37c5d0>"
      ]
     },
     "metadata": {},
     "output_type": "display_data"
    },
    {
     "data": {
      "text/plain": [
       "<matplotlib.figure.Figure at 0x7f4e9cc33990>"
      ]
     },
     "metadata": {},
     "output_type": "display_data"
    },
    {
     "data": {
      "text/plain": [
       "<matplotlib.figure.Figure at 0x7f4e9cc08b50>"
      ]
     },
     "metadata": {},
     "output_type": "display_data"
    },
    {
     "data": {
      "text/plain": [
       "<matplotlib.figure.Figure at 0x7f4e9a3bcb90>"
      ]
     },
     "metadata": {},
     "output_type": "display_data"
    },
    {
     "data": {
      "text/plain": [
       "<matplotlib.figure.Figure at 0x7f4e9a3bcfd0>"
      ]
     },
     "metadata": {},
     "output_type": "display_data"
    },
    {
     "data": {
      "text/plain": [
       "<matplotlib.figure.Figure at 0x7f4e9a3bcd90>"
      ]
     },
     "metadata": {},
     "output_type": "display_data"
    },
    {
     "data": {
      "text/plain": [
       "<matplotlib.figure.Figure at 0x7f4e9a3ca050>"
      ]
     },
     "metadata": {},
     "output_type": "display_data"
    },
    {
     "data": {
      "text/plain": [
       "<matplotlib.figure.Figure at 0x7f4e9a3cac10>"
      ]
     },
     "metadata": {},
     "output_type": "display_data"
    },
    {
     "data": {
      "text/plain": [
       "<matplotlib.figure.Figure at 0x7f4e9a3caf90>"
      ]
     },
     "metadata": {},
     "output_type": "display_data"
    },
    {
     "data": {
      "text/plain": [
       "<matplotlib.figure.Figure at 0x7f4e9a3dd850>"
      ]
     },
     "metadata": {},
     "output_type": "display_data"
    }
   ],
   "source": [
    "for tag in tweets:\n",
    "    string = '\\n'.join(tweets[tag])\n",
    "    a = Document(string)\n",
    "    a.construct_graph()\n",
    "    x = textrank_weighted(a.graph)\n",
    "    text = []\n",
    "    for i in x[:3]:\n",
    "        text.append(i[0])\n",
    "    extract_tweets[tag] = text"
   ]
  },
  {
   "cell_type": "code",
   "execution_count": 31,
   "metadata": {
    "collapsed": false
   },
   "outputs": [
    {
     "name": "stdout",
     "output_type": "stream",
     "text": [
      "U.K.\n",
      "3\n",
      "T\n",
      "RT @WSJ: What the #Brexit vote means for Indian companies with ties to the U.K. https://t.co/h8sJt1AzyL via @WSJIndia https://t.co/gh53McxU\n",
      "AKB\n",
      "RT @TIME: The U.K. is googling what the E.U.\n",
      "~~~~~~~~~~~~~~~~~~~~~~~~~~~~~~~~~~~~~~~~~~~~~~~~~~~~~~~~~\n",
      "RT @StreetEtiquette: China is looking at the U.K like : https://t.co/f5m4bePTNF\n",
      "RT @markets: U.S. stock markets fall sharply at the opening bell https://t.co/JxC86DGgyT https://t.co/u6qZWRT3UN\n",
      "RT @marcusbrig: The British Press have betrayed the people of the U.K.\n",
      "~~~~~~~~~~~~~~~~~~~~~~~~~~~~~~~~~~~~~~~~~~~~~~~~~~~~~~~~~\n",
      "is hours after it voted to leave https://t.co/iObpp1tmWt\n",
      "RT @CronkiteSays: BREAKING NEWS \n",
      "The U.K. Voted #Brexit to take their country back now it is time for the USA to do the same by voting the\n",
      "RT @rami_kiwan: Will a #Brexit tear the U.K. or the E.U.\n",
      "~~~~~~~~~~~~~~~~~~~~~~~~~~~~~~~~~~~~~~~~~~~~~~~~~~~~~~~~~\n",
      "--------------------------------------------------------------\n",
      "#TakeYourDogToWorkDay\n",
      "3\n",
      "#TakeYourDogToWorkDay https://t.co/C573N4OaEQ\n",
      "RT @MLBGIFs: 26th man.\n",
      "~~~~~~~~~~~~~~~~~~~~~~~~~~~~~~~~~~~~~~~~~~~~~~~~~~~~~~~~~\n",
      "#TakeYourDogToWorkDay https://t.co/WVayvMmlCN\n",
      "RT @DanAndShay: Dogs building some sick beats on #TakeYourDogToWorkDay... https://t.co/hBppUHNxud\n",
      "RT @MLBGIFs: 26th man.\n",
      "~~~~~~~~~~~~~~~~~~~~~~~~~~~~~~~~~~~~~~~~~~~~~~~~~~~~~~~~~\n",
      "https://t.co/Y7TfIk\n",
      "#TakeYourDogToWorkDay https://t.co/0MyEmhLphe\n",
      "RT @MLBGIFs: 26th man.\n",
      "~~~~~~~~~~~~~~~~~~~~~~~~~~~~~~~~~~~~~~~~~~~~~~~~~~~~~~~~~\n",
      "--------------------------------------------------------------\n",
      "Hillary Clinton in November\n",
      "3\n",
      "@TheDemocrats have been warned ht\n",
      "RT @thehill: BREAKING: Bernie Sanders says he will vote for Hillary Clinton in November https://t.co/nEF03fACyL https://t.co/rEWHOXBGmN\n",
      "RT @PoliticsGhost: #BernieSanders says he's voting for Hillary Clinton in November!\n",
      "~~~~~~~~~~~~~~~~~~~~~~~~~~~~~~~~~~~~~~~~~~~~~~~~~~~~~~~~~\n",
      "@TheDemocrats have been warned ht\n",
      "RT @SOMEXlCAN: Bernie Sanders says he will vote for Democratic rival Hillary Clinton in November's presidential election https://t.co/Fv0Qb\n",
      "RT @WorldForBernie: We will NEVER SUPPORT Hillary Clinton in November even if @BernieSanders asked us to!\n",
      "~~~~~~~~~~~~~~~~~~~~~~~~~~~~~~~~~~~~~~~~~~~~~~~~~~~~~~~~~\n",
      "NOPE, NOPE, NOPE!!!!!!!!\n",
      "~~~~~~~~~~~~~~~~~~~~~~~~~~~~~~~~~~~~~~~~~~~~~~~~~~~~~~~~~\n",
      "--------------------------------------------------------------\n",
      "Alan Greenspan\n",
      "3\n",
      "Alan Greenspan says British break from EU 'is just the tip of the iceberg' https://t.co/0gnyb1xjjl\n",
      "Alan Greenspan says British break from EU 'is just the tip of the iceberg' https://t.co/sCdN6azltr\n",
      "RT @BlanchardGold: Alan #Greenspan says British break from EU 'is just the tip of the iceberg' https://t.co/HPnc7u21He #Brexit\n",
      "Alan Greenspan Calls #Brexit 'the Tip of the Iceberg,' Says Euro is Failing https://t.co/Rgzk3P2esj via @nbcnews\n",
      "Former Chairman of the Federal Reserve Alan Greenspan says this is just the beginning.\n",
      "~~~~~~~~~~~~~~~~~~~~~~~~~~~~~~~~~~~~~~~~~~~~~~~~~~~~~~~~~\n",
      "- Alan Greenspan says British break from EU 'is just the tip of the iceberg' https://t.co/26AL9VHznq\n",
      "RT @NotAllBhas: embarrassing to live in a country where Henry Kissinger &amp; Alan Greenspan are not in prison but lauded as experts https://t.\n",
      "~~~~~~~~~~~~~~~~~~~~~~~~~~~~~~~~~~~~~~~~~~~~~~~~~~~~~~~~~\n",
      "Alan #Greenspan says British break from EU 'is just the tip of the iceberg' https://t.co/HPnc7u21He #Brexit\n",
      "~~~~~~~~~~~~~~~~~~~~~~~~~~~~~~~~~~~~~~~~~~~~~~~~~~~~~~~~~\n",
      "--------------------------------------------------------------\n",
      "#fridayreads\n",
      "3\n",
      "https://t.co/x5U0BXFlAU #FridayReads https://t.co/mrgR7xWcYC\n",
      "#fridayreads https://t.co/blwkHmgUKK\n",
      "RT @GeneNash: OMG.\n",
      "~~~~~~~~~~~~~~~~~~~~~~~~~~~~~~~~~~~~~~~~~~~~~~~~~~~~~~~~~\n",
      "https://t.co/x5U0BXFlAU #FridayReads https://t.co/mrgR7xWcYC\n",
      "~~~~~~~~~~~~~~~~~~~~~~~~~~~~~~~~~~~~~~~~~~~~~~~~~~~~~~~~~\n",
      "It's a real book.\n",
      "~~~~~~~~~~~~~~~~~~~~~~~~~~~~~~~~~~~~~~~~~~~~~~~~~~~~~~~~~\n",
      "--------------------------------------------------------------\n",
      "David Cameron\n",
      "3\n",
      "https://t.co/0r7KouIHW1\n",
      "RT @AlbertoRT51: Ministro britnico David Cameron anuncia su renuncia y abandonar el cargo en octubre  https://t.co/y8JMs32B0v https://t.c\n",
      "RT @NottsFacts: David Cameron is now the bookies favourite to become the new #NFFC manager #nottsfacts #euref\n",
      "RT @TheEconomist: David Cameron quits Downing Street with a ruined legacy https://t.co/eBhcKF4Ap0 https://t.co/4r4IpfFeKa\n",
      "RT @PHammondMP: Looking forward to attending @NATO Summit in #Warsaw w/ @David_Cameron in July.\n",
      "~~~~~~~~~~~~~~~~~~~~~~~~~~~~~~~~~~~~~~~~~~~~~~~~~~~~~~~~~\n",
      "RT @dannyjpg: you know things are fucked when you're gutted David Cameron resigned\n",
      "never thought I'd say this but i'm gonna miss you @David_Cameron God help us if Boris becomes pm\n",
      "~~~~~~~~~~~~~~~~~~~~~~~~~~~~~~~~~~~~~~~~~~~~~~~~~~~~~~~~~\n",
      "UK will continue to take a leading role in\n",
      "RT @jacklang: You know it's bad when you're not celebrating David Cameron resigning\n",
      "@Rodpac @David_Cameron  Es  Democracia !\n",
      "~~~~~~~~~~~~~~~~~~~~~~~~~~~~~~~~~~~~~~~~~~~~~~~~~~~~~~~~~\n",
      "--------------------------------------------------------------\n",
      "#MusicIn5Words\n",
      "3\n",
      "#MusicIn5Words\n",
      "~~~~~~~~~~~~~~~~~~~~~~~~~~~~~~~~~~~~~~~~~~~~~~~~~~~~~~~~~\n",
      "#MusicIn5Words @fifthlawband\n",
      "Perfect for all my emotions.\n",
      "~~~~~~~~~~~~~~~~~~~~~~~~~~~~~~~~~~~~~~~~~~~~~~~~~~~~~~~~~\n",
      "#MusicIn5Words \n",
      "#MusicIn5Words Can't Beat The 60s Music!\n",
      "~~~~~~~~~~~~~~~~~~~~~~~~~~~~~~~~~~~~~~~~~~~~~~~~~~~~~~~~~\n",
      "--------------------------------------------------------------\n",
      "#BrexitVote\n",
      "3\n",
      "#BrexitVote https://t.co/1S5nVlbmlT\n",
      "RT @HillaryClinton: \"This time of uncertainty only underscores the need for calm, steady, experienced leadership in the White House.\"\n",
      "~~~~~~~~~~~~~~~~~~~~~~~~~~~~~~~~~~~~~~~~~~~~~~~~~~~~~~~~~\n",
      "https://t.co/xhFP9BjmEJ\n",
      "RT @HillaryClinton: \"This time of uncertainty only underscores the need for calm, steady, experienced leadership in the White House.\"\n",
      "~~~~~~~~~~~~~~~~~~~~~~~~~~~~~~~~~~~~~~~~~~~~~~~~~~~~~~~~~\n",
      "Hill\n",
      "RT @alitasizuka: Jajajajaja #BrexitVote https://t.co/mx5t6IUSWt\n",
      "RT @postsecret: .#BrexitVote \n",
      "75% of British students voted to remain.\n",
      "~~~~~~~~~~~~~~~~~~~~~~~~~~~~~~~~~~~~~~~~~~~~~~~~~~~~~~~~~\n",
      "--------------------------------------------------------------\n",
      "Shaun Suisham\n",
      "3\n",
      "RT @NFL: The @steelers are going in another direction at kicker: https://t.co/ulzK33MWdr https://t.co/zqjdromJBj\n",
      "RT @Steelersdepot: #Steelers GM Kevin Colbert on the release of kicker Shaun Suisham: https://t.co/lXTn27BMQ4\n",
      "The #Steelers have released K Shaun Suisham; made 124 of his 141 FG attempts (87.9%) w/ Pittsburgh #SteelersNation\n",
      "RT @MarkKaboly_Trib: Shaun Suisham statement on his release provided to the Trib https://t.co/4X5RRaOf3S\n",
      "~~~~~~~~~~~~~~~~~~~~~~~~~~~~~~~~~~~~~~~~~~~~~~~~~~~~~~~~~\n",
      "RT @MarkKaboly_Trib: Shaun Suisham statement on his release provided to the Trib https://t.co/4X5RRaOf3S\n",
      "Steelers release veteran kicker Shaun Suisham https://t.co/j4TGxwLC1g via @PittsburghPG\n",
      "RT @AdamSchefter: Steelers released kicker Shaun Suisham with the failed physical designation.\n",
      "~~~~~~~~~~~~~~~~~~~~~~~~~~~~~~~~~~~~~~~~~~~~~~~~~~~~~~~~~\n",
      "RT @NFL: The @steelers are going in another direction at kicker: https://t.co/ulzK33MWdr https://t.co/zqjdromJBj\n",
      "RT @RapSheet: The #Steelers released kicker Shaun Suisham with a failed physical designation.\n",
      "~~~~~~~~~~~~~~~~~~~~~~~~~~~~~~~~~~~~~~~~~~~~~~~~~~~~~~~~~\n",
      "--------------------------------------------------------------\n",
      "#EURefResults\n",
      "3\n",
      "#EURefResults https://t.co/MhFv\n",
      "RT @GoogleTrends: \"What is the EU?\"\n",
      "~~~~~~~~~~~~~~~~~~~~~~~~~~~~~~~~~~~~~~~~~~~~~~~~~~~~~~~~~\n",
      "#EURefResults\n",
      "RT @GoogleTrends: \"What is the EU?\"\n",
      "~~~~~~~~~~~~~~~~~~~~~~~~~~~~~~~~~~~~~~~~~~~~~~~~~~~~~~~~~\n",
      "Awkward.\n",
      "~~~~~~~~~~~~~~~~~~~~~~~~~~~~~~~~~~~~~~~~~~~~~~~~~~~~~~~~~\n",
      "--------------------------------------------------------------\n"
     ]
    }
   ],
   "source": [
    "for tag in extract_tweets:\n",
    "    print tag\n",
    "    print len(extract_tweets[tag])\n",
    "    for tweet in extract_tweets[tag]:\n",
    "        print tweet\n",
    "        print '~~~~~~~~~~~~~~~~~~~~~~~~~~~~~~~~~~~~~~~~~~~~~~~~~~~~~~~~~'\n",
    "    print '--------------------------------------------------------------'"
   ]
  },
  {
   "cell_type": "code",
   "execution_count": null,
   "metadata": {
    "collapsed": true
   },
   "outputs": [],
   "source": []
  },
  {
   "cell_type": "code",
   "execution_count": null,
   "metadata": {
    "collapsed": true
   },
   "outputs": [],
   "source": []
  }
 ],
 "metadata": {
  "kernelspec": {
   "display_name": "Python 2",
   "language": "python",
   "name": "python2"
  },
  "language_info": {
   "codemirror_mode": {
    "name": "ipython",
    "version": 2
   },
   "file_extension": ".py",
   "mimetype": "text/x-python",
   "name": "python",
   "nbconvert_exporter": "python",
   "pygments_lexer": "ipython2",
   "version": "2.7.11"
  }
 },
 "nbformat": 4,
 "nbformat_minor": 0
}

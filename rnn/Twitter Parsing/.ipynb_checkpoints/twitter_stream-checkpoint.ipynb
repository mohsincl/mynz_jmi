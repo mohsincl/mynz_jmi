{
 "cells": [
  {
   "cell_type": "markdown",
   "metadata": {},
   "source": [
    "# Twitter Extraction and Parsing"
   ]
  },
  {
   "cell_type": "code",
   "execution_count": 2,
   "metadata": {
    "collapsed": false
   },
   "outputs": [],
   "source": [
    "import tweepy\n",
    "from tweepy import OAuthHandler\n",
    "import json\n",
    "from tweepy import Stream\n",
    "from tweepy.streaming import StreamListener"
   ]
  },
  {
   "cell_type": "code",
   "execution_count": 23,
   "metadata": {
    "collapsed": true
   },
   "outputs": [],
   "source": [
    "consumer_key = 'g3FysYb4TCeYQJ1YYelj6U1DO'\n",
    "consumer_secret = 'IgO90DNIClFcLezHVDmP0OviJaWNxKRvPRzLbYxxNdELVbxuRg'\n",
    "access_token = '3246538160-cVmnEhoFRVTr9t9A4rNSHY5TmyLkBqmCCnMEHyf'\n",
    "access_secret = 'dRZVP55wK38L0ab70tM2R1bErMutOwuU9zXA64CZiCkjS'\n",
    "\n",
    "auth = OAuthHandler(consumer_key, consumer_secret)\n",
    "auth.set_access_token(access_token, access_secret)"
   ]
  },
  {
   "cell_type": "code",
   "execution_count": null,
   "metadata": {
    "collapsed": false
   },
   "outputs": [],
   "source": [
    "class MyListner(StreamListener):\n",
    "    def on_data(self, data):\n",
    "        try:\n",
    "            print data\n",
    "        except BaseException as e:\n",
    "            print(\"Error on_data: %s\" % str(e))\n",
    "        return True\n",
    "\n",
    "    def on_error(self, status):\n",
    "        print(status)\n",
    "        return True\n",
    "twitter_stream = Stream(auth,MyListner())"
   ]
  },
  {
   "cell_type": "code",
   "execution_count": 35,
   "metadata": {
    "collapsed": false
   },
   "outputs": [],
   "source": [
    "api = tweepy.API(auth)\n",
    "trend = api.trends_place(23424977)"
   ]
  },
  {
   "cell_type": "code",
   "execution_count": 36,
   "metadata": {
    "collapsed": true
   },
   "outputs": [],
   "source": [
    "hashtags = []"
   ]
  },
  {
   "cell_type": "code",
   "execution_count": 37,
   "metadata": {
    "collapsed": false
   },
   "outputs": [
    {
     "name": "stdout",
     "output_type": "stream",
     "text": [
      "49\n"
     ]
    }
   ],
   "source": [
    "count = len(hashtags)\n",
    "for i in trend[0]['trends']:\n",
    "    if i in hashtags:\n",
    "        continue\n",
    "    else:\n",
    "        hashtags.append(i['name'])\n",
    "        count += 1\n",
    "print count"
   ]
  },
  {
   "cell_type": "code",
   "execution_count": 43,
   "metadata": {
    "collapsed": false
   },
   "outputs": [],
   "source": [
    "iteration = 1\n",
    "with open('dump.txt','w') as fp:\n",
    "    for tag in hashtags:\n",
    "        Tweets = tweepy.Cursor(api.search, q=tag).items(10)\n",
    "        fp.write('Hashtag: %d\\n'%(iteration))\n",
    "        for tweet in Tweets:\n",
    "            txt = (tweet.text).encode('ascii','ignore') + '\\n'\n",
    "            fp.write(txt)\n",
    "        iteration += 1"
   ]
  },
  {
   "cell_type": "code",
   "execution_count": 22,
   "metadata": {
    "collapsed": false
   },
   "outputs": [],
   "source": [
    "## Converting json to csv file\n",
    "import csv\n",
    "fp = open('tweets.csv',\"w\")\n",
    "fp_text = open('tweet.txt',\"w\")\n",
    "p = csv.writer(fp)\n",
    "with open('isro.json') as fp:\n",
    "    for line in fp:\n",
    "        tweet = json.loads(line)['text']\n",
    "        tweet = tweet.encode('ascii','ignore')\n",
    "        tweet = tweet.split()\n",
    "        try:\n",
    "            if len(tweet) <= 0:\n",
    "                pass\n",
    "            else:\n",
    "                p.writerow([\" \".join(tweet)])\n",
    "                text = \" \".join(tweet) + '\\n'\n",
    "                fp_text.write(text)\n",
    "        except:\n",
    "            print tweet"
   ]
  },
  {
   "cell_type": "code",
   "execution_count": null,
   "metadata": {
    "collapsed": true
   },
   "outputs": [],
   "source": []
  }
 ],
 "metadata": {
  "kernelspec": {
   "display_name": "Python 2",
   "language": "python",
   "name": "python2"
  },
  "language_info": {
   "codemirror_mode": {
    "name": "ipython",
    "version": 2
   },
   "file_extension": ".py",
   "mimetype": "text/x-python",
   "name": "python",
   "nbconvert_exporter": "python",
   "pygments_lexer": "ipython2",
   "version": "2.7.11"
  }
 },
 "nbformat": 4,
 "nbformat_minor": 0
}
